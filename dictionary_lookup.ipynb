{
 "cells": [
  {
   "cell_type": "markdown",
   "metadata": {},
   "source": [
    "# Creating and manipulating dictionaries"
   ]
  },
  {
   "cell_type": "code",
   "execution_count": 34,
   "metadata": {},
   "outputs": [
    {
     "name": "stdout",
     "output_type": "stream",
     "text": [
      "{'xyz': 123, 'abc': 345}\n",
      "dict_keys(['xyz', 'abc'])\n",
      "dict_values([123, 345])\n",
      "xyz  123\n",
      "abc  345\n",
      "0 xyz 123\n",
      "1 abc 345\n",
      "True\n",
      "False\n"
     ]
    }
   ],
   "source": [
    "# Create a new dictionary \n",
    "d = dict() # or d = {}\n",
    " \n",
    "# Add a key - value pairs to dictionary\n",
    "d['xyz'] = 123\n",
    "d['abc'] = 345\n",
    " \n",
    "# print the whole dictionary\n",
    "print(d)\n",
    " \n",
    "# print only the keys\n",
    "print(d.keys())\n",
    " \n",
    "# print only values\n",
    "print(d.values())\n",
    " \n",
    "# iterate over dictionary \n",
    "for i in d :\n",
    "    print(\"%s  %d\" %(i, d[i]))\n",
    " \n",
    "# another method of iteration\n",
    "for index, value in enumerate(d):\n",
    "    print (index, value , d[value])\n",
    " \n",
    "# check if key exist\n",
    "print('xyz' in d)\n",
    " \n",
    "# delete the key-value pair\n",
    "del d['xyz']\n",
    " \n",
    "# check again \n",
    "print(\"xyz\" in d)"
   ]
  },
  {
   "cell_type": "code",
   "execution_count": 9,
   "metadata": {},
   "outputs": [
    {
     "data": {
      "text/plain": [
       "{'abc@gmail.com': 'abc', 'xyz@yahoo.com': 'xyz'}"
      ]
     },
     "execution_count": 9,
     "metadata": {},
     "output_type": "execute_result"
    }
   ],
   "source": [
    "d=dict()\n",
    "type(d)\n",
    "\n",
    "d['abc@gmail.com'] = 'abc'\n",
    "d['xyz@yahoo.com'] = 'xyz'\n",
    "d['abc@gmail.com'] = 'rmt'"
   ]
  },
  {
   "cell_type": "code",
   "execution_count": 1,
   "metadata": {},
   "outputs": [
    {
     "name": "stdout",
     "output_type": "stream",
     "text": [
      "aditi@rediff.com\n"
     ]
    }
   ],
   "source": [
    "email={'anita':'a.budhiraja@nielit.gov.in',\n",
    "       'simran': 'simran@gmail.com',\n",
    "       'aditi' : 'aditi@rediff.com',\n",
    "       'mohit' : 'mohit@yahoo.com',\n",
    "       'himmat' : 'himmat@yahoo.com'}\n",
    "\n",
    "\n",
    "d={name:[x,y],class: [9,10,11],game:{chess:[1,2,3]}]\n",
    "\n",
    "email.keys()\n",
    "email.values()\n",
    "\n",
    "if 'aditi' in email:\n",
    "    print(email['aditi'])\n",
    "else:\n",
    "    email[\"mohit1@gmail.com\"]"
   ]
  },
  {
   "cell_type": "code",
   "execution_count": 32,
   "metadata": {},
   "outputs": [
    {
     "data": {
      "text/plain": [
       "['badminton', 'chess', 'cricket', 'hockey']"
      ]
     },
     "execution_count": 32,
     "metadata": {},
     "output_type": "execute_result"
    }
   ],
   "source": [
    "s=['cricket','hockey','chess','chess','hockey','cricket','badminton', 'chess']\n",
    "\n",
    "s=list(set(s))\n",
    "s"
   ]
  },
  {
   "cell_type": "code",
   "execution_count": 30,
   "metadata": {},
   "outputs": [
    {
     "data": {
      "text/plain": [
       "['cricket', 'hockey', 'chess', 'badminton']"
      ]
     },
     "execution_count": 30,
     "metadata": {},
     "output_type": "execute_result"
    }
   ],
   "source": [
    "game=['cricket','hockey','chess','chess','hockey','cricket','badminton', 'chess']\n",
    "newlist=[]\n",
    "for i in game:\n",
    "    if i in newlist:\n",
    "        pass\n",
    "    else:\n",
    "        newlist.append(i)\n",
    "newlist"
   ]
  },
  {
   "cell_type": "code",
   "execution_count": 28,
   "metadata": {},
   "outputs": [
    {
     "name": "stdout",
     "output_type": "stream",
     "text": [
      "['badminton', 'chess', 'cricket', 'hockey']\n"
     ]
    },
    {
     "data": {
      "text/plain": [
       "{'badminton': 1, 'chess': 3, 'cricket': 2, 'hockey': 2}"
      ]
     },
     "execution_count": 28,
     "metadata": {},
     "output_type": "execute_result"
    }
   ],
   "source": [
    "game=['cricket','hockey','chess','chess','hockey','cricket','badminton', 'chess']\n",
    "\n",
    "unique=list(set(game))\n",
    "print(unique)\n",
    "#['badminton', 'cricket', 'hockey', 'chess', 'cards']\n",
    "d={}\n",
    "for gm in unique:\n",
    "    d[gm ] = game.count(gm)\n",
    "d\n",
    "#{'badminton':1, 'cricket': 2, 'hockey':2.....}"
   ]
  },
  {
   "cell_type": "markdown",
   "metadata": {},
   "source": [
    "# Nesting of Lists and Dictionaries "
   ]
  },
  {
   "cell_type": "code",
   "execution_count": 34,
   "metadata": {},
   "outputs": [
    {
     "name": "stdout",
     "output_type": "stream",
     "text": [
      "{}\n",
      "{'cricket': 1}\n",
      "{'cricket': 1, 'hockey': 1}\n",
      "{'cricket': 1, 'hockey': 1, 'chess': 1}\n",
      "{'cricket': 1, 'hockey': 1, 'chess': 2}\n",
      "{'cricket': 1, 'hockey': 2, 'chess': 2}\n",
      "{'cricket': 2, 'hockey': 2, 'chess': 2}\n",
      "{'cricket': 2, 'hockey': 2, 'chess': 2, 'badminton': 1}\n"
     ]
    },
    {
     "data": {
      "text/plain": [
       "{'badminton': 1, 'chess': 3, 'cricket': 2, 'hockey': 2}"
      ]
     },
     "execution_count": 34,
     "metadata": {},
     "output_type": "execute_result"
    }
   ],
   "source": [
    "lst=['cricket','hockey','chess','chess','hockey','cricket','badminton', 'chess']\n",
    "dicgame={}\n",
    "for game  in lst:\n",
    "    print(dicgame)\n",
    "    if game in dicgame:\n",
    "        dicgame[game] =  dicgame[game] + 1\n",
    "    else:\n",
    "        dicgame[game] = 1\n",
    "dicgame"
   ]
  },
  {
   "cell_type": "code",
   "execution_count": 41,
   "metadata": {},
   "outputs": [
    {
     "data": {
      "text/plain": [
       "['engaging',\n",
       " 'allu',\n",
       " 'arjun',\n",
       " 'performance',\n",
       " 'top',\n",
       " 'class',\n",
       " 'best',\n",
       " 'things',\n",
       " 'flim',\n",
       " 'camera',\n",
       " 'work..top',\n",
       " 'class',\n",
       " 'cinematography',\n",
       " 'The',\n",
       " 'Rise,',\n",
       " 'the',\n",
       " 'first',\n",
       " 'instalment',\n",
       " 'of',\n",
       " 'the',\n",
       " 'two-part',\n",
       " 'gangster',\n",
       " 'drama,',\n",
       " 'traces',\n",
       " 'the',\n",
       " 'rise',\n",
       " 'of',\n",
       " 'the',\n",
       " 'shrewd',\n",
       " 'protagonist',\n",
       " 'from',\n",
       " 'a',\n",
       " 'daily',\n",
       " 'wage',\n",
       " 'Overall,',\n",
       " 'the',\n",
       " \"film's\",\n",
       " 'runtime',\n",
       " 'is',\n",
       " 'lengthy',\n",
       " 'with',\n",
       " 'three',\n",
       " 'songs',\n",
       " 'but',\n",
       " \"it's\",\n",
       " 'well',\n",
       " 'worth',\n",
       " 'the',\n",
       " 'time.',\n",
       " 'While',\n",
       " 'Allu',\n",
       " 'Arjun',\n",
       " 'shines',\n",
       " 'with',\n",
       " 'his',\n",
       " 'style,',\n",
       " 'dance',\n",
       " 'moves',\n",
       " 'The',\n",
       " 'Rise',\n",
       " 'Movie',\n",
       " 'Review',\n",
       " 'Rating:',\n",
       " '3.5',\n",
       " 'out',\n",
       " 'of',\n",
       " '5.0',\n",
       " 'stars3.5',\n",
       " ';',\n",
       " 'Star',\n",
       " 'Cast:',\n",
       " 'Allu',\n",
       " 'Arjun,',\n",
       " 'Fahadh',\n",
       " 'Faasil,',\n",
       " 'Rashmika',\n",
       " 'Mandanna,',\n",
       " 'Dhananjay,',\n",
       " 'Sunil']"
      ]
     },
     "execution_count": 41,
     "metadata": {},
     "output_type": "execute_result"
    }
   ],
   "source": [
    "string=\"engaging allu arjun performance top class best things flim  camera work..top class cinematography The Rise, the first instalment of the two-part gangster drama, traces the rise of the shrewd protagonist from a daily wage Overall, the film's runtime is lengthy with three songs but it's well worth the time. While Allu Arjun shines with his style, dance moves The Rise Movie Review Rating: 3.5 out of 5.0 stars3.5 ; Star Cast: Allu Arjun, Fahadh Faasil, Rashmika Mandanna, Dhananjay, Sunil\"\n",
    "\n",
    "#string=\"engaging allu arjun performance top class best things flim  camera work..top class cinematography The Rise\"\n",
    "list = string.split()\n",
    "list"
   ]
  },
  {
   "cell_type": "code",
   "execution_count": 74,
   "metadata": {},
   "outputs": [],
   "source": [
    "del list"
   ]
  },
  {
   "cell_type": "code",
   "execution_count": 79,
   "metadata": {},
   "outputs": [
    {
     "name": "stdout",
     "output_type": "stream",
     "text": [
      "enter the stringhello how hello\n",
      "not found\n",
      "None\n",
      "{'h': 3, 'e': 2, 'l': 4, 'o': 3, 'w': 1}\n",
      "\n",
      "{3: ['h', 'o'], 2: ['e'], 4: ['l'], 1: ['w']}\n"
     ]
    }
   ],
   "source": [
    "def histogram(s):\n",
    "    dic={}\n",
    "    for char in s.lower():\n",
    "        if char == \" \":\n",
    "            pass\n",
    "        else:\n",
    "            if char in dic:\n",
    "                dic[char]= dic[char] +1\n",
    "            else:\n",
    "                dic[char]=1\n",
    "    return dic   \n",
    "\n",
    "def lookup(d,k):\n",
    "    if k in d:\n",
    "        return 1\n",
    "    else:\n",
    "        return 0\n",
    "\n",
    "def value(d,k):\n",
    "    if k in d:\n",
    "        return d[k]\n",
    "    else:\n",
    "        return None\n",
    "\n",
    "def revdic(d):   \n",
    "    rev={}\n",
    "    for k,v in list(d.items()):\n",
    "        if v in rev:\n",
    "            rev[v].append(k)\n",
    "        else:\n",
    "            rev[v]=[k]\n",
    "    return rev\n",
    "    \n",
    "def main():    \n",
    "    str=input(\"enter the string\")\n",
    "    d = histogram(str)\n",
    "    if lookup(d,'x'):\n",
    "        print(\"found\")\n",
    "    else:\n",
    "        print(\"not found\")\n",
    "    print(value(d,'x'))\n",
    "    print(d  )\n",
    "    r = revdic(d)\n",
    "    print()\n",
    "    print(r)\n",
    "main() \n",
    "\n",
    "# {7:'s',    }"
   ]
  },
  {
   "cell_type": "code",
   "execution_count": 85,
   "metadata": {},
   "outputs": [
    {
     "data": {
      "text/plain": [
       "<Container object of 4 artists>"
      ]
     },
     "execution_count": 85,
     "metadata": {},
     "output_type": "execute_result"
    },
    {
     "data": {
      "image/png": "[encoded data removed]",
      "text/plain": [
       "<matplotlib.figure.Figure at 0x2134f693898>"
      ]
     },
     "metadata": {},
     "output_type": "display_data"
    }
   ],
   "source": [
    "import matplotlib.pyplot as plt\n",
    "keys = dicgame.keys()\n",
    "values =dicgame.values()\n",
    "\n",
    "plt.bar(keys, values)"
   ]
  },
  {
   "cell_type": "code",
   "execution_count": 100,
   "metadata": {},
   "outputs": [
    {
     "name": "stdout",
     "output_type": "stream",
     "text": [
      "2281957763472\n",
      "2281956812768\n"
     ]
    }
   ],
   "source": [
    "person={}\n",
    "person['fname']='Sonia'\n",
    "person['lname']='Suri'\n",
    "person['age']=52\n",
    "person['children']=['anu','renu','anil']\n",
    "person['pets']={'dog': 'dubo','cat' : 'cutie'}\n",
    "person['friends']={'close':['anu','beena','hari','rahul'], 'not close':['meena','suman']}\n",
    "print(id(person))\n",
    "\n",
    "print(id(person['pets']))"
   ]
  },
  {
   "cell_type": "code",
   "execution_count": 106,
   "metadata": {},
   "outputs": [
    {
     "name": "stdout",
     "output_type": "stream",
     "text": [
      "2281961627784\n",
      "1375564288\n",
      "1375563360\n",
      "1375563392\n",
      "1375563520 1375563520 1375563520\n"
     ]
    }
   ],
   "source": [
    "lst=[34,5,6,7,7,77,7]\n",
    "print(id(lst))\n",
    "print(id(lst[0]))\n",
    "print(id(lst[1]))\n",
    "print(id(lst[2]))\n",
    "\n",
    "\n",
    "a=10\n",
    "b=10\n",
    "c=10\n",
    "print(id(a),id(b),id(c))\n"
   ]
  },
  {
   "cell_type": "code",
   "execution_count": null,
   "metadata": {},
   "outputs": [],
   "source": []
  },
  {
   "cell_type": "code",
   "execution_count": null,
   "metadata": {},
   "outputs": [],
   "source": []
  },
  {
   "cell_type": "code",
   "execution_count": 10,
   "metadata": {},
   "outputs": [
    {
     "data": {
      "text/plain": [
       "'cutie'"
      ]
     },
     "execution_count": 10,
     "metadata": {},
     "output_type": "execute_result"
    }
   ],
   "source": [
    "person['pets']['cat']"
   ]
  },
  {
   "cell_type": "code",
   "execution_count": 20,
   "metadata": {},
   "outputs": [
    {
     "data": {
      "text/plain": [
       "['beena', 'hari']"
      ]
     },
     "execution_count": 20,
     "metadata": {},
     "output_type": "execute_result"
    }
   ],
   "source": [
    "person['friends']['close'][1:3]"
   ]
  },
  {
   "cell_type": "code",
   "execution_count": 21,
   "metadata": {},
   "outputs": [
    {
     "data": {
      "text/plain": [
       "'cutie'"
      ]
     },
     "execution_count": 21,
     "metadata": {},
     "output_type": "execute_result"
    }
   ],
   "source": [
    "person['pets']['cat']"
   ]
  },
  {
   "cell_type": "code",
   "execution_count": 20,
   "metadata": {},
   "outputs": [],
   "source": [
    "d={1:'Seema',2:[4,5,6,7], 3:{'anu':34,'neena':56,'jin': [40,50,89,90]},78:89}"
   ]
  },
  {
   "cell_type": "code",
   "execution_count": 21,
   "metadata": {},
   "outputs": [
    {
     "data": {
      "text/plain": [
       "90"
      ]
     },
     "execution_count": 21,
     "metadata": {},
     "output_type": "execute_result"
    }
   ],
   "source": [
    "d[3]['jin'][1]"
   ]
  },
  {
   "cell_type": "code",
   "execution_count": null,
   "metadata": {},
   "outputs": [],
   "source": []
  },
  {
   "cell_type": "code",
   "execution_count": null,
   "metadata": {},
   "outputs": [],
   "source": [
    "#Lists of lists(exercise)\n",
    "mylist =[\n",
    "    [90,89,78 , \"tina\"],\n",
    "[99,89,78 , \"hina\"],\n",
    "[98,89,78 , \"meena\"],\n",
    "[91,88,78 , \"rahul\"],\n",
    "[90,89,78 , \"rita\"]\n",
    "]"
   ]
  },
  {
   "cell_type": "code",
   "execution_count": 12,
   "metadata": {},
   "outputs": [
    {
     "name": "stdout",
     "output_type": "stream",
     "text": [
      "rahul\n",
      "cutie\n"
     ]
    }
   ],
   "source": [
    "#print(person['children'][1])\n",
    "print(person['friends']['close'][-1])\n",
    "print(person['pets']['cat'])"
   ]
  },
  {
   "cell_type": "code",
   "execution_count": 15,
   "metadata": {},
   "outputs": [
    {
     "name": "stdout",
     "output_type": "stream",
     "text": [
      "60\n"
     ]
    }
   ],
   "source": [
    "dict={'a':10,'b':20,'c':30}\n",
    "print(sum(dict.values()))\n"
   ]
  },
  {
   "cell_type": "code",
   "execution_count": null,
   "metadata": {},
   "outputs": [],
   "source": [
    "print(person['pets']['dog'])\n",
    "#print(person['pets'][0])\n",
    "print(person)\n",
    "print(person['friends']['close'][1])"
   ]
  },
  {
   "cell_type": "markdown",
   "metadata": {},
   "source": [
    "# Frequence of words using lists"
   ]
  },
  {
   "cell_type": "code",
   "execution_count": 34,
   "metadata": {},
   "outputs": [
    {
     "name": "stdout",
     "output_type": "stream",
     "text": [
      "['apple', 'mango', 'orange', 'guava']\n",
      "Frequency of apple is : 3\n",
      "Frequency of mango is : 3\n",
      "Frequency of orange is : 2\n",
      "Frequency of guava is : 1\n"
     ]
    }
   ],
   "source": [
    "def freq(str):\n",
    "    uniqstr=[]\n",
    "    str=str.split(\" \")\n",
    "    for fruit in str:\n",
    "        if fruit in uniqstr:\n",
    "            pass\n",
    "        else:\n",
    "            uniqstr.append(fruit)\n",
    "    return uniqstr       \n",
    "        \n",
    "def main():\n",
    "    str ='apple mango apple orange orange apple guava mango mango'\n",
    "    #take out only unique fruits and put them in a list\n",
    "    uniq = freq(str)\n",
    "    print(uniq)\n",
    "    for i in range(0,len(uniq)):\n",
    "        print( 'Frequency of', uniq[i], 'is :', str.count(uniq[i]))\n",
    "\n",
    "main()"
   ]
  },
  {
   "cell_type": "code",
   "execution_count": 32,
   "metadata": {},
   "outputs": [
    {
     "name": "stdout",
     "output_type": "stream",
     "text": [
      "str2 is : ['apple', 'mango', 'orange', 'guava']\n",
      "Frequency of apple is : 3\n",
      "Frequency of mango is : 3\n",
      "Frequency of orange is : 2\n",
      "Frequency of guava is : 1\n"
     ]
    }
   ],
   "source": [
    "def freq(str):\n",
    "     # break the string into list of words \n",
    "#str ='apple mango apple orange orange apple guava mango mango'\n",
    "    str = str.split()         \n",
    "    str2 = []\n",
    "    for i in str:             \n",
    "        # checking for the duplicacy\n",
    "        if i not in str2:\n",
    "            # insert value in str2\n",
    "            str2.append(i) \n",
    "    print(\"str2 is :\",str2) \n",
    "    for i in range(0, len(str2)):\n",
    "        print( 'Frequency of', str2[i], 'is :', str.count(str2[i]))    \n",
    " \n",
    "def main():\n",
    "    str ='apple mango apple orange orange apple guava mango mango'\n",
    "    #take out only unique fruits and put them in a list\n",
    "    freq(str)                    \n",
    "\n",
    "main() \n",
    "#['apple', 'mango', 'apple', 'orange'.....]\n",
    "\n"
   ]
  },
  {
   "cell_type": "markdown",
   "metadata": {},
   "source": [
    "# Looking for a key or a value in a dictionary "
   ]
  },
  {
   "cell_type": "code",
   "execution_count": 13,
   "metadata": {},
   "outputs": [
    {
     "name": "stdout",
     "output_type": "stream",
     "text": [
      "{'Name': 'Sunita', 'Age': 30, 'Marks': 80}\n",
      "Marks\n",
      "Sunita\n"
     ]
    }
   ],
   "source": [
    "#lookup operation\n",
    "'''\n",
    "given a dictionary d and a key k, find the  key\n",
    "'''\n",
    "def createdic():\n",
    "    d=dict()\n",
    "    d={'Name':'Sunita','Age': 30, 'Marks': 80}\n",
    "    return d\n",
    "\n",
    "def key_lookup(d,v):\n",
    "    for k in d:\n",
    "        if d[k] == v:\n",
    "            return k\n",
    "    print('Could not find')    \n",
    "        \n",
    "def value_lookup(d,v):\n",
    "    for k in d:\n",
    "        if k == v:\n",
    "            return d[k]\n",
    "    print('Could not find')  \n",
    "    \n",
    "def main():\n",
    "    d=createdic()\n",
    "    print(d)\n",
    "    #Pass value and return key\n",
    "    xx=key_lookup(d,80)\n",
    "    print (xx)\n",
    "    #Pass key and return value\n",
    "    name=value_lookup(d,'Name')\n",
    "    print(name)\n",
    "\n",
    "main()"
   ]
  },
  {
   "cell_type": "code",
   "execution_count": 32,
   "metadata": {},
   "outputs": [
    {
     "name": "stdout",
     "output_type": "stream",
     "text": [
      "which key to be searched?raju\n",
      "raju   Not found !\n",
      "enter the value for this key22\n",
      "{'anu': 89, 'seema': 90, 'rajat': 67, 'raju': '22'}\n"
     ]
    }
   ],
   "source": [
    "#funtion to return a dictionary\n",
    "def makedic():\n",
    "    \n",
    "    d={'anu':89,'seema':90,'rajat':67}\n",
    "    return d\n",
    "\n",
    "\n",
    "def lookupdict(d,name):\n",
    "    for key in d.keys():\n",
    "        if name == key:\n",
    "            return 1       \n",
    "    return 0\n",
    "    \n",
    "    \n",
    "def main():\n",
    "    d=makedic()\n",
    "    name=input(\"which key to be searched?\")\n",
    "    ans = lookupdict(d, name)\n",
    "    if ans==1:\n",
    "        print(name, \"  found !\" )\n",
    "    else:\n",
    "        print(name, \"  Not found !\" )\n",
    "        v=input(\"enter the value for this key\")\n",
    "        d[name]=v\n",
    "        print(d)\n",
    "main()"
   ]
  },
  {
   "cell_type": "code",
   "execution_count": 1,
   "metadata": {},
   "outputs": [
    {
     "name": "stdout",
     "output_type": "stream",
     "text": [
      "cat tac act dog god \n"
     ]
    }
   ],
   "source": [
    "# Function to return all anagrams together\n",
    "def allAnagram(input):\n",
    "     \n",
    "    # empty dictionary which holds subsets \n",
    "    # of all anagrams together\n",
    "    dict = {}\n",
    " \n",
    "    # traverse list of strings\n",
    "    for strVal in input:\n",
    "         \n",
    "        # sorted(iterable) method accepts any \n",
    "        # iterable and rerturns list of items\n",
    "        # in ascending order\n",
    "        key = ''.join(sorted(strVal))\n",
    "         \n",
    "        # now check if key exist in dictionary\n",
    "        # or not. If yes then simply append the  \n",
    "        # strVal into the list of it's corresponding \n",
    "        # key. If not then map empty list onto\n",
    "        # key and then start appending values\n",
    "        if key in dict.keys():\n",
    "            dict[key].append(strVal)\n",
    "        else:\n",
    "            dict[key] = []\n",
    "            dict[key].append(strVal)\n",
    " \n",
    "     # traverse dictionary and concatenate values \n",
    "     # of keys together\n",
    "    output = \"\"\n",
    "    for key,value in dict.items():\n",
    "         output = output + ' '.join(value) + ' '\n",
    " \n",
    "    return output\n",
    " \n",
    "# Driver function\n",
    "if __name__ == \"__main__\":\n",
    "    input=['cat', 'dog', 'tac', 'god', 'act']\n",
    "    print( allAnagram(input))"
   ]
  },
  {
   "cell_type": "markdown",
   "metadata": {},
   "source": [
    "# Making frequence count : histogram"
   ]
  },
  {
   "cell_type": "code",
   "execution_count": 71,
   "metadata": {},
   "outputs": [
    {
     "name": "stdout",
     "output_type": "stream",
     "text": [
      " 's' in dictionary is  3 times\n",
      "{'s': 3, 'u': 2, 'c': 2, 'e': 1, 'f': 1, 'l': 1}\n",
      "{3: ['s'], 2: ['u', 'c'], 1: ['e', 'f', 'l']}\n"
     ]
    },
    {
     "data": {
      "text/plain": [
       "{1: ['e,', 'l'], 2: ['c', 'u'], 3: ['s']}"
      ]
     },
     "execution_count": 71,
     "metadata": {},
     "output_type": "execute_result"
    }
   ],
   "source": [
    "#sincere is successful\n",
    "#d={'s' : 1, 'u' : 2,'c' : 5......}\n",
    "\n",
    "def hist(word):\n",
    "    d ={}\n",
    "    for char in word:\n",
    "        if char not in d:\n",
    "            d[char] =1\n",
    "        else:\n",
    "            d[char] = d[char] +1\n",
    "    return d\n",
    "\n",
    "def lookup(d,s):\n",
    "    if s in d:\n",
    "        return d[s]\n",
    "    else:\n",
    "        return 0\n",
    "     \n",
    "# {'c': 2, 'e': 1, 'f': 1, 'l': 1, 's': 3, 'u': 2}\n",
    "#{1:['e'','f'','l'], 2: ['c','u'], 3:['s'] }\n",
    "\n",
    "def revdict(newdic):\n",
    "    revdict={}\n",
    "    for key,val in list(newdic.items()):\n",
    "        if val in revdict:\n",
    "                revdict[val].append(key)\n",
    "        else:\n",
    "                revdict[val] = [key]\n",
    "    return revdict\n",
    "    \n",
    "    \n",
    "def main():\n",
    "    newdic=dict()\n",
    "    word=\"successful\"\n",
    "    newdic=hist(word)\n",
    "    c=lookup(newdic, 's')\n",
    "    print(\" 's' in dictionary is \", c, \"times\")\n",
    "    #to reverse the dictionary\n",
    "    revdic=revdict(newdic)\n",
    "    print(newdic)\n",
    "    print(revdic)\n",
    "\n",
    "main()\n",
    "\n",
    "\n",
    "{1:['e'','f'','l'], 2: ['c','u'], 3:['s']   }"
   ]
  },
  {
   "cell_type": "code",
   "execution_count": 54,
   "metadata": {},
   "outputs": [],
   "source": [
    "a1=10\n",
    "b1=20"
   ]
  },
  {
   "cell_type": "code",
   "execution_count": 64,
   "metadata": {},
   "outputs": [
    {
     "name": "stdout",
     "output_type": "stream",
     "text": [
      "{'s': 3, 'u': 2, 'c': 2, 'e': 1, 'f': 1, 'l': 1}\n",
      "s\n",
      "3\n",
      "u\n",
      "2\n",
      "c\n",
      "2\n",
      "e\n",
      "1\n",
      "f\n",
      "1\n",
      "l\n",
      "1\n"
     ]
    }
   ],
   "source": [
    "print(newdic)\n",
    "for k,v in newdic.items():\n",
    "    print(k)\n",
    "    print(v)"
   ]
  },
  {
   "cell_type": "code",
   "execution_count": 82,
   "metadata": {},
   "outputs": [
    {
     "name": "stdout",
     "output_type": "stream",
     "text": [
      "[('a', 10), ('b', 20), ('c', 30)]\n",
      "20\n",
      "3\n",
      "('a', 10)\n",
      "('b', 20)\n",
      "('c', 30)\n"
     ]
    }
   ],
   "source": [
    "d={'a':10, 'b':20,'c':30}\n",
    "k= list(d.items())\n",
    "print(k)\n",
    "print(k[1][1])\n",
    "print(len(k))\n",
    "for i in range(0,len(k)):\n",
    "    print(k[i])\n"
   ]
  },
  {
   "cell_type": "code",
   "execution_count": 34,
   "metadata": {},
   "outputs": [
    {
     "name": "stdout",
     "output_type": "stream",
     "text": [
      "{'s': 3, 'u': 2, 'c': 2, 'e': 1, 'f': 1, 'l': 1}\n",
      "[('s', 3), ('u', 2), ('c', 2), ('e', 1), ('f', 1), ('l', 1)]\n",
      "[('s', 3), ('u', 2), ('c', 2), ('e', 1), ('f', 1), ('l', 1)]\n",
      "[('s', 3), ('u', 2), ('c', 2), ('e', 1), ('f', 1), ('l', 1)]\n",
      "[('s', 3), ('u', 2), ('c', 2), ('e', 1), ('f', 1), ('l', 1)]\n",
      "[('s', 3), ('u', 2), ('c', 2), ('e', 1), ('f', 1), ('l', 1)]\n",
      "[('s', 3), ('u', 2), ('c', 2), ('e', 1), ('f', 1), ('l', 1)]\n",
      "reverse dictionary\n",
      "{3: ['s'], 2: ['u', 'c'], 1: ['e', 'f', 'l']}\n"
     ]
    }
   ],
   "source": [
    "\n",
    "#creating a dictionary that maps from frequencies to letters\n",
    "\n",
    "def histogram(mystr):\n",
    "    mydict=dict()\n",
    "    for char in mystr:\n",
    "        if char not in mydict:\n",
    "            mydict[char]=1\n",
    "        else:\n",
    "            mydict[char]=mydict[char]+1\n",
    "    return mydict\n",
    "\n",
    "def reversedic(b):\n",
    "    revdict = {}\n",
    "    for key,val in list(b.items()):\n",
    "            \n",
    "            if val in revdict:\n",
    "                revdict[val].append(key)\n",
    "            else:\n",
    "                revdict[val] = [key]\n",
    "    print(\"reverse dictionary\")\n",
    "    print(revdict)\n",
    "\n",
    "def main():\n",
    "    #hist=histogram(\"successful\")\n",
    "    hist=histogram(\"successful\")\n",
    "    print(hist)\n",
    "    reversedic(hist)\n",
    "    \n",
    "    \n",
    "main()\n",
    "\n"
   ]
  },
  {
   "cell_type": "markdown",
   "metadata": {},
   "source": [
    "# Inverting a dictionary"
   ]
  },
  {
   "cell_type": "code",
   "execution_count": 4,
   "metadata": {},
   "outputs": [
    {
     "name": "stdout",
     "output_type": "stream",
     "text": [
      "{'hello': 3, 'how': 1, 'are': 2, 'you': 1}\n",
      "{3: ['hello'], 1: ['how', 'you'], 2: ['are']}\n"
     ]
    }
   ],
   "source": [
    "{'s': 3, 'u': 2, 'c': 2, 'e': 1, 'f': 1, 'l': 1}\n",
    "\n",
    "\n",
    "mapping and reducing\n",
    "\n",
    "\n",
    "def invert_dict(hist):\n",
    "    inverse=dict()\n",
    "    for key in hist:\n",
    "        val=hist[key]\n",
    "        if val not in inverse:\n",
    "            inverse[val] = [key]\n",
    "        else:\n",
    "            inverse[val].append(key)\n",
    "    return inverse\n",
    "\n",
    "def histogram(mystr):\n",
    "    mydict=dict()\n",
    "    for char in mystr:\n",
    "        if char not in mydict:\n",
    "            mydict[char]=1\n",
    "        else:\n",
    "            mydict[char]=mydict[char]+1\n",
    "    return mydict\n",
    "\n",
    "def main():\n",
    "    #hist=histogram(\"successful\")\n",
    "    hist=histogram(\"successful\")\n",
    "    print(hist)\n",
    "    inverse=invert_dict(hist)\n",
    "    print(inverse)\n",
    "    \n",
    "main()"
   ]
  },
  {
   "cell_type": "code",
   "execution_count": 15,
   "metadata": {},
   "outputs": [
    {
     "data": {
      "text/plain": [
       "array([0, 1, 2, 3])"
      ]
     },
     "execution_count": 15,
     "metadata": {},
     "output_type": "execute_result"
    }
   ],
   "source": [
    "import numpy as np\n",
    "a = np.array([0,1,2,3])\n",
    "a\n"
   ]
  },
  {
   "cell_type": "code",
   "execution_count": null,
   "metadata": {},
   "outputs": [],
   "source": [
    "\n",
    "\n",
    "Log in\n",
    "\n",
    "Create Account\n",
    "\n",
    "Share an Article\n",
    "\n",
    "Back to Tutorials\n",
    "Tutorials\n",
    "1\n",
    "17\n",
    "17\n",
    "June 28th, 2018\n",
    "PYTHON\n",
    "Scope of Variables in Python Tutorial\n",
    "In this tutorial, you will learn about Python's scope of variables, the global and nonlocal keywords, closures and the LEGB rule.\n",
    "If you're familiar with Python, or any other programming language, you'll certainly know that variables need to be defined before they can be used in your program. Depending on how and where it was defined, a variable will have to be accessed in different ways. Some variables are defined globally, others locally. This means that a variable referring to an entity in a certain part of a program, may refer to something different in another part of the program.\n",
    "\n",
    "In this tutorial, you will learn about:\n",
    "\n",
    "The true nature of variables\n",
    "The difference between defining a variable inside or outside a Python function\n",
    "global keyword\n",
    "nonlocal keyword\n",
    "Closures in Python\n",
    "LEGB rule\n",
    "If you want to learn more about programming in Python, you should definitely take a look at our free Intro to Python for Data Science course. It covers all the basics, from variables and calculations, to lists, functions and packages.\n",
    "\n",
    "\n",
    "What are variables, really?\n",
    "To understand the scope of variables, it is important to first learn about what variables really are. Essentially, they're references, or pointers, to an object in memory. When you assign a variable with = to an instance, you're binding (or mapping) the variable to that instance. Multiple variables can be bound to the same instance.\n",
    "\n",
    "Python keeps track of all these mappings with namespaces. These are containers for mapping names of variables to objects. You can think of them as dictionaries, containing name:object mappings. This allows access to objects by names you choose to assign to them.\n",
    "\n",
    "In the following example, i is first bound to the integer 5. In this case, i is the variable name, while the integer value 5 is the object.\n",
    "\n",
    "Then, j is set equal to i. This actually means that j is now bound to the same integer value as i, which is 5.\n",
    "\n",
    "If you then change i to be equal to 3, an inexperienced programmer might expect j to now also be equal to 3, but that is not the case. j is still bound (or pointing) to the integer value of 5. The only thing that changed is i, which is now bound to the integer value 3.\n",
    "\n",
    "i = 5\n",
    "j = i\n",
    "i = 3\n",
    "\n",
    "print(\"i: \" + str(i))\n",
    "print(\"j: \" + str(j))\n",
    "i: 3\n",
    "j: 5\n",
    "A namespace for the code above could look like {i:3, j:5}, and not {i:3, j:i} like you might expect.\n",
    "\n",
    "\n",
    "The difference between defining a variable inside or outside a Python function\n",
    "If you define a variable at the top of your script, it will be a global variable. This means that it is accessible from anywhere in your script, including from within a function. Take a look at the following example where a is defined globally.\n",
    "\n",
    "a = 5\n",
    "\n",
    "def function():\n",
    "    print(a)\n",
    "\n",
    "function()\n",
    "\n",
    "print(a)\n",
    "5\n",
    "5\n",
    "In the next example, a is defined globally as 5, but it's defined again as 3, within a function. If you print the value of a from within the function, the value that was defined locally will be printed. If you print a outside of the function, its globally defined value will be printed. The a defined in function() is literally sealed off from the outside world. It can only be accessed locally, from within the same function. So the two a's are different, depending on where you access them from.\n",
    "\n",
    "a = 5\n",
    "\n",
    "def function():\n",
    "    a = 3\n",
    "    print(a)\n",
    "\n",
    "function()\n",
    "\n",
    "print(a)\n",
    "3\n",
    "5\n",
    "This is all good and well, but what are the implications of this?\n",
    "\n",
    "Well, let's say you have an application that remembers a name, which can also be changed with a change_name() function. The name variable is defined globally, and locally within the function. As you can see, the function fails to change the global variable.\n",
    "\n",
    "name = 'Théo'\n",
    "\n",
    "def change_name(new_name):\n",
    "    name = new_name\n",
    "\n",
    "print(name)    \n",
    "\n",
    "change_name('Karlijn')\n",
    "\n",
    "print(name)\n",
    "Théo\n",
    "Théo\n",
    "Luckily, the global keyword can help.\n",
    "\n",
    "\n",
    "The global keyword\n",
    "With global, you're telling Python to use the globally defined variable instead of locally defining it. To use it, simply type global, followed by the variable name. In this case, the global variable name can now be changed by change_name().\n",
    "\n",
    "name = 'Théo'\n",
    "\n",
    "def change_name(new_name):\n",
    "    global name\n",
    "    name = new_name\n",
    "\n",
    "print(name)    \n",
    "\n",
    "\n",
    "\n",
    "\n",
    "\n",
    "\n",
    "\n",
    "\n"
   ]
  },
  {
   "cell_type": "code",
   "execution_count": 23,
   "metadata": {},
   "outputs": [
    {
     "name": "stdout",
     "output_type": "stream",
     "text": [
      "from inner: c\n",
      "from outer: b\n",
      "globally: a\n"
     ]
    }
   ],
   "source": [
    "\n",
    "#The nonlocal statement is useful in nested functions. It causes the variable to refer to the previously bound variable in the closest enclosing scope. In other words, it will prevent the variable from trying to bind locally first, and force it to go a level 'higher up'.\n",
    "\n",
    "x = \"a\"\n",
    "def outer():\n",
    "    x = \"b\"\n",
    "    def inner():\n",
    "        x = \"c\"\n",
    "        print(\"from inner:\", x)\n",
    "\n",
    "    inner()\n",
    "    print(\"from outer:\", x)\n",
    "\n",
    "outer()\n",
    "print(\"globally:\", x)\n"
   ]
  },
  {
   "cell_type": "code",
   "execution_count": 21,
   "metadata": {},
   "outputs": [
    {
     "name": "stdout",
     "output_type": "stream",
     "text": [
      "inner: c\n",
      "outer: c\n",
      "global: a\n"
     ]
    }
   ],
   "source": [
    "#With the nonlocal keyword, you're telling python that the x in the inner() function should actually refer to the x defined in the outer() function, which is one level higher. As you can see from the result, x in both inner() and outer() is defined as \"c\", because it could be accessed by inner().\n",
    "\n",
    "x = \"a\"\n",
    "def outer():\n",
    "    x = \"b\"\n",
    "    def inner():\n",
    "        nonlocal x\n",
    "        x = \"c\"\n",
    "        print(\"inner:\", x)\n",
    "\n",
    "    inner()\n",
    "    print(\"outer:\", x)\n",
    "\n",
    "outer()\n",
    "print(\"global:\", x)"
   ]
  },
  {
   "cell_type": "code",
   "execution_count": 26,
   "metadata": {},
   "outputs": [],
   "source": [
    "import io, os, sys\n",
    "from IPython import get_ipython\n",
    "from nbformat import read\n",
    "from IPython.core.interactiveshell import InteractiveShell"
   ]
  },
  {
   "cell_type": "code",
   "execution_count": 85,
   "metadata": {},
   "outputs": [
    {
     "name": "stdout",
     "output_type": "stream",
     "text": [
      "sum is  20\n",
      "division is  3\n",
      "multiply is  75\n",
      "sub is  10\n"
     ]
    }
   ],
   "source": [
    "#tuples can be returned in python\n",
    "def calc(a,b):\n",
    "    sum=a+b\n",
    "    div=a//b\n",
    "    mult=a*b\n",
    "    sub=a-b\n",
    "    return sum,div,mult,sub\n",
    "    \n",
    "a,b,c,d = calc(15,5)\n",
    "print(\"sum is \", a)\n",
    "print(\"division is \", b)\n",
    "print(\"multiply is \", c)\n",
    "print(\"sub is \", d)\n",
    "    "
   ]
  },
  {
   "cell_type": "code",
   "execution_count": 106,
   "metadata": {},
   "outputs": [
    {
     "name": "stdout",
     "output_type": "stream",
     "text": [
      "sum is  20\n",
      "division is  3\n",
      "multiply is  75\n",
      "sub is  10\n"
     ]
    }
   ],
   "source": [
    "#tuples can be returned in python\n",
    "def calc(a,b):\n",
    "    sum=a+b\n",
    "    div=a//b\n",
    "    mult=a*b\n",
    "    sub=a-b\n",
    "    return sum,div,mult,sub\n",
    "    \n",
    "a,b,c,d = calc(15,5)\n",
    "print(\"sum is \", a)\n",
    "print(\"division is \", b)\n",
    "print(\"multiply is \", c)\n",
    "print(\"sub is \", d)\n"
   ]
  },
  {
   "cell_type": "code",
   "execution_count": 108,
   "metadata": {},
   "outputs": [
    {
     "data": {
      "text/plain": [
       "int"
      ]
     },
     "execution_count": 108,
     "metadata": {},
     "output_type": "execute_result"
    }
   ],
   "source": [
    "a=90\n",
    "a\n",
    "type(a)"
   ]
  },
  {
   "cell_type": "code",
   "execution_count": 110,
   "metadata": {},
   "outputs": [
    {
     "data": {
      "text/plain": [
       "int"
      ]
     },
     "execution_count": 110,
     "metadata": {},
     "output_type": "execute_result"
    }
   ],
   "source": [
    "a=(90)\n",
    "type(a)"
   ]
  },
  {
   "cell_type": "code",
   "execution_count": 100,
   "metadata": {},
   "outputs": [
    {
     "data": {
      "text/plain": [
       "int"
      ]
     },
     "execution_count": 100,
     "metadata": {},
     "output_type": "execute_result"
    }
   ],
   "source": [
    "type(a)"
   ]
  },
  {
   "cell_type": "code",
   "execution_count": 113,
   "metadata": {},
   "outputs": [],
   "source": [
    "a=90,"
   ]
  },
  {
   "cell_type": "code",
   "execution_count": 81,
   "metadata": {},
   "outputs": [
    {
     "data": {
      "text/plain": [
       "{1: ['u', 'e'], 2: ['c'], 3: ['s']}"
      ]
     },
     "execution_count": 81,
     "metadata": {},
     "output_type": "execute_result"
    }
   ],
   "source": [
    "d=histogram(\"success\")\n",
    "revdic(d)\n"
   ]
  },
  {
   "cell_type": "code",
   "execution_count": null,
   "metadata": {},
   "outputs": [],
   "source": [
    "1. strings    str=\"computer is electronic device\"\n",
    "for......index......membership ....slice....*(replicate)......+(concatenate)\n",
    "strings are immutable\n",
    "str[5]='a'\n",
    "str[9:11]\n",
    "if 'a' in str\n",
    "str*3\n",
    "str+str\n",
    "0,1,.....     -1, -2\n",
    "\n",
    "2.\n",
    "lists  lst=[12,23,'eema',45,78.9]    heterogenous elements\n",
    "for    index        membership    slice   *    +    mutable (modifiable)\n",
    "lst[4]  lst[4:]   lst[ : 5]  if 23 in lst  lst[5]=56   \n",
    "\n",
    "list.append\n",
    "list.extend\n",
    "\n",
    "\n",
    "3. tuples  ()\n",
    "index membership slice + * \n",
    "immutable    t[4]=200  not allowed\n",
    "for \n",
    "\n",
    "4. sets   ....rare    immutable    no order   hashing\n",
    "no index concept    unique\n",
    "\n",
    "set.add\n",
    "\n",
    "set.union\n",
    "set.intersection\n",
    "\n",
    "5. dictionary   no order    hashing\n",
    "key-value pair\n",
    "d[key] returns value\n",
    "for ...... len..... heterogenous....\n",
    "histograms....dynamic.....\n",
    "\n",
    "while     for\n",
    "\n",
    "conditional checking\n",
    "if\n",
    "else\n",
    "\n",
    "if \n",
    "elif\n",
    "\n",
    "data types\n",
    "int\n",
    "float\n",
    "str\n",
    "\n",
    "numpy   numerical\n",
    "pandas  rows and columns\n",
    "\n",
    "\n",
    "\n",
    "\n",
    "\n",
    "\n",
    "\n",
    "\n",
    "\n",
    "\n",
    "\n",
    "\n",
    "\n",
    "\n",
    "\n",
    "\n",
    "\n",
    "\n"
   ]
  }
 ],
 "metadata": {
  "kernelspec": {
   "display_name": "Python 3",
   "language": "python",
   "name": "python3"
  },
  "language_info": {
   "codemirror_mode": {
    "name": "ipython",
    "version": 3
   },
   "file_extension": ".py",
   "mimetype": "text/x-python",
   "name": "python",
   "nbconvert_exporter": "python",
   "pygments_lexer": "ipython3",
   "version": "3.6.4"
  }
 },
 "nbformat": 4,
 "nbformat_minor": 2
}
