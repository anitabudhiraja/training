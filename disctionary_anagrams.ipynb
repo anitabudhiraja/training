{
 "cells": [
  {
   "cell_type": "code",
   "execution_count": 2,
   "metadata": {},
   "outputs": [],
   "source": [
    "#if comma separated, then use split(\",\")\n",
    "#if words on separate lines and there is no comma, use .split() only\n",
    "words=[]\n",
    "with open('words.txt', 'r') as fd:\n",
    "    words = fd.read().split()"
   ]
  },
  {
   "cell_type": "code",
   "execution_count": 3,
   "metadata": {},
   "outputs": [
    {
     "data": {
      "text/plain": [
       "['deltas',\n",
       " 'desalt',\n",
       " 'lasted',\n",
       " 'retainers',\n",
       " 'ternaries',\n",
       " 'generating',\n",
       " 'greatening',\n",
       " 'resmelts',\n",
       " 'smelters',\n",
       " 'termless',\n",
       " 'salted',\n",
       " 'slated',\n",
       " 'staled']"
      ]
     },
     "execution_count": 3,
     "metadata": {},
     "output_type": "execute_result"
    }
   ],
   "source": [
    "words"
   ]
  },
  {
   "cell_type": "code",
   "execution_count": 4,
   "metadata": {},
   "outputs": [],
   "source": [
    "from collections import defaultdict\n",
    "#The defaultdict tool is a container in the collections class of Python.\n",
    "#It's similar to the usual dictionary (dict) container, \n",
    "#but the only difference is that a defaultdict will have a default value if that key has not been set yet.\n",
    "#it provides the default value for a nonexistent key\n",
    "\n"
   ]
  },
  {
   "cell_type": "code",
   "execution_count": 5,
   "metadata": {},
   "outputs": [
    {
     "data": {
      "text/plain": [
       "defaultdict(int, {'eggs': 1, 'spam': 7})"
      ]
     },
     "execution_count": 5,
     "metadata": {},
     "output_type": "execute_result"
    }
   ],
   "source": [
    "from collections import defaultdict\n",
    "food_list = 'spam spam spam spam spam spam eggs spam'.split()\n",
    "food_count = defaultdict(int) # default value of int is 0\n",
    "for food in food_list:\n",
    "     food_count[food] += 1 # increment element's value by 1\n",
    "#defaultdict(<type 'int'>, {'eggs': 1, 'spam': 7})\n",
    "food_count"
   ]
  },
  {
   "cell_type": "code",
   "execution_count": 72,
   "metadata": {},
   "outputs": [
    {
     "name": "stdout",
     "output_type": "stream",
     "text": [
      "defaultdict(<class 'list'>, {'TX': ['Austin', 'Houston', 'Dallas'], 'NY': ['Albany', 'Syracuse', 'Buffalo', 'Rochester'], 'CA': ['Sacramento', 'Palo Alto'], 'GA': ['Atlanta']})\n",
      "TX Austin, Houston, Dallas\n",
      "NY Albany, Syracuse, Buffalo, Rochester\n",
      "CA Sacramento, Palo Alto\n",
      "GA Atlanta\n"
     ]
    }
   ],
   "source": [
    "from collections import defaultdict\n",
    "city_list = [('TX','Austin'), ('TX','Houston'), ('NY','Albany'), ('NY', 'Syracuse'), ('NY', 'Buffalo'), ('NY', 'Rochester'), ('TX', 'Dallas'), ('CA','Sacramento'), ('CA', 'Palo Alto'), ('GA', 'Atlanta')]\n",
    "\n",
    "cities_by_state = defaultdict(list)\n",
    "for state, city in city_list:\n",
    "    cities_by_state[state].append(city)\n",
    "print(cities_by_state)\n",
    "for state, cities in cities_by_state.items():\n",
    "    print (state, ', '.join(cities))"
   ]
  },
  {
   "cell_type": "code",
   "execution_count": 7,
   "metadata": {},
   "outputs": [
    {
     "name": "stdout",
     "output_type": "stream",
     "text": [
      "defaultdict(<class 'list'>, {})\n",
      "['deltas', 'desalt', 'lasted', 'retainers', 'ternaries', 'generating', 'greatening', 'resmelts', 'smelters', 'termless', 'salted', 'slated', 'staled']\n",
      "defaultdict(<class 'list'>, {'adelst': ['deltas', 'desalt', 'lasted', 'salted', 'slated', 'staled'], 'aeeinrrst': ['retainers', 'ternaries'], 'aeegginnrt': ['generating', 'greatening'], 'eelmrsst': ['resmelts', 'smelters', 'termless']})\n"
     ]
    }
   ],
   "source": [
    "# More anagrams!\n",
    "# 1. Write a program that reads a word list from a file (see Section 9.1)\n",
    "# and prints all the sets of words that are anagrams.\n",
    "# Here is an example of what the output might look like:\n",
    "# ['deltas', 'desalt', 'lasted', 'salted', 'slated', 'staled']\n",
    "# ['retainers', 'ternaries']\n",
    "# ['generating', 'greatening']\n",
    "# ['resmelts', 'smelters', 'termless']\n",
    "def make_anagram_dict(word_list):\n",
    "    result = defaultdict(list)\n",
    "\n",
    "#sorted returns an iterable list\n",
    "    print(result)\n",
    "    print(word_list)\n",
    "    for word in word_list:\n",
    "        fp = ''.join(sorted(word))\n",
    "        #print(fp)\n",
    "        result[fp].append(word)\n",
    "    print(result)\n",
    "\n",
    "    result = {fp: result[fp] for fp in result if len(result[fp]) > 1}\n",
    "    return result\n",
    "    \n",
    "anagrams=make_anagram_dict(words)"
   ]
  },
  {
   "cell_type": "code",
   "execution_count": null,
   "metadata": {},
   "outputs": [],
   "source": []
  },
  {
   "cell_type": "code",
   "execution_count": null,
   "metadata": {},
   "outputs": [],
   "source": []
  },
  {
   "cell_type": "code",
   "execution_count": 103,
   "metadata": {},
   "outputs": [
    {
     "ename": "IndentationError",
     "evalue": "unindent does not match any outer indentation level (<tokenize>, line 12)",
     "output_type": "error",
     "traceback": [
      "\u001b[1;36m  File \u001b[1;32m\"<tokenize>\"\u001b[1;36m, line \u001b[1;32m12\u001b[0m\n\u001b[1;33m    print (\"Most anagrams:\")\u001b[0m\n\u001b[1;37m    ^\u001b[0m\n\u001b[1;31mIndentationError\u001b[0m\u001b[1;31m:\u001b[0m unindent does not match any outer indentation level\n"
     ]
    }
   ],
   "source": [
    "# 2. Modify the previous program so that it prints the largest set of anagrams\n",
    "# first, followed by the second largest set, and so on.\n",
    "\n",
    "def sort_anagrams(anagrams):\n",
    "    \"\"\"Returns a list of lists containing all anagram matches. The longest list\n",
    "     (most anagrams) is at the top\"\"\"\n",
    "    anagrams_lists = []\n",
    "    for fp in anagrams:\n",
    "        anagrams_lists.append(anagrams[fp])\n",
    "    anagrams_lists.sort(key=len, reverse=True)\n",
    "\n",
    " print (\"Most anagrams:\")\n",
    "    for i in range(0, 5):\n",
    "        print(\"%s) %d\" % ((i + 1), len(anagrams_lists[i])), anagrams_lists[i])\n",
    "    print (\"...\")\n",
    "    print (\"\\n\")\n",
    "\n",
    "\n",
    "sort_anagrams(anagrams)\n",
    "\n",
    "anagrams\n",
    "\n",
    "\n"
   ]
  },
  {
   "cell_type": "code",
   "execution_count": null,
   "metadata": {},
   "outputs": [],
   "source": [
    "computer is nice\n",
    "eomputer is nicc\n",
    "\n",
    "remove nth occurence of a char in a string   \"this is a compiuter\"\n",
    "remove nth occurence of a word in a list     [\"this\", \"is\", \"a\", \"computer\" \"is\"]"
   ]
  }
 ],
 "metadata": {
  "kernelspec": {
   "display_name": "Python 3",
   "language": "python",
   "name": "python3"
  },
  "language_info": {
   "codemirror_mode": {
    "name": "ipython",
    "version": 3
   },
   "file_extension": ".py",
   "mimetype": "text/x-python",
   "name": "python",
   "nbconvert_exporter": "python",
   "pygments_lexer": "ipython3",
   "version": "3.6.4"
  }
 },
 "nbformat": 4,
 "nbformat_minor": 2
}
