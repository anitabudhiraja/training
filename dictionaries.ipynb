{
 "cells": [
  {
   "cell_type": "code",
   "execution_count": 2,
   "metadata": {},
   "outputs": [
    {
     "name": "stdout",
     "output_type": "stream",
     "text": [
      "{'good': 12, 'are': 4, 'new': 10, 'class': 4, 'laptop': 1, 'table': 1}\n",
      "['good', 'are', 'new', 'class', 'laptop', 'table']\n"
     ]
    },
    {
     "data": {
      "text/plain": [
       "[('good', 12),\n",
       " ('are', 4),\n",
       " ('new', 10),\n",
       " ('class', 4),\n",
       " ('laptop', 1),\n",
       " ('table', 1)]"
      ]
     },
     "execution_count": 2,
     "metadata": {},
     "output_type": "execute_result"
    }
   ],
   "source": [
    "str=\"you are invited to a party\"\n",
    "str1=\"you have won a prize\"\n",
    "\n",
    "lst=['good','are','good','new','good','new','class','new',\n",
    "    'good','are','good','new','good','new','class','new',\n",
    "    'good','are','good','laptop','good','new','class','new',\n",
    "    'good','are','good','table','good','new','class','new']\n",
    "\n",
    "#dict={ key : value, key : value}\n",
    "d={}\n",
    "for item in lst:\n",
    "    if item not in d:\n",
    "        d[item] = 1\n",
    "    else:\n",
    "        d[item] = d[item] + 1\n",
    "    \n",
    "#d={'good' : 3 , 'are' : 1, 'new' : 1}\n",
    "print(d)\n",
    "print(list(d))\n",
    "list_tup=list(d.items())\n",
    "list_tup"
   ]
  },
  {
   "cell_type": "code",
   "execution_count": 9,
   "metadata": {},
   "outputs": [
    {
     "data": {
      "text/plain": [
       "{0: 0, 1: 1, 2: 1, 3: 2, 4: 3, 5: 5, 6: 8, 7: 13, 8: 21}"
      ]
     },
     "execution_count": 9,
     "metadata": {},
     "output_type": "execute_result"
    }
   ],
   "source": [
    "#fibonicci=0+1+1+2+3+5+8+13+21+34....\n",
    "#{0:0,1:1,2:1, 3: 2,......}\n",
    "#Q write a function fib which creates a dic of fibonicci terms\n",
    "def fib(n):\n",
    "    #for i in range(3,n,1):\n",
    "    if n in terms:\n",
    "        return terms[n]\n",
    "    res = fib(n-1) + fib(n-2)\n",
    "    terms[n]=res\n",
    "    return res\n",
    "\n",
    "terms={0:0,1:1}\n",
    "fib(8)\n",
    "terms\n",
    "\n",
    "#anagrams"
   ]
  },
  {
   "cell_type": "code",
   "execution_count": 13,
   "metadata": {},
   "outputs": [
    {
     "data": {
      "text/plain": [
       "1"
      ]
     },
     "execution_count": 13,
     "metadata": {},
     "output_type": "execute_result"
    }
   ],
   "source": [
    "#5 * 4*3*2*1\n",
    "def fac(n):\n",
    "    f=1\n",
    "    while n!=0:\n",
    "        f=f*n\n",
    "        n=n-1\n",
    "    return f\n",
    "    \n",
    "fac(5)"
   ]
  },
  {
   "cell_type": "code",
   "execution_count": 21,
   "metadata": {},
   "outputs": [
    {
     "data": {
      "text/plain": [
       "120"
      ]
     },
     "execution_count": 21,
     "metadata": {},
     "output_type": "execute_result"
    }
   ],
   "source": [
    "#n=5\n",
    "\n",
    "def fac(n):\n",
    "    #stop condition\n",
    "    if n==1:\n",
    "        return 1\n",
    "    return n * fac(n-1)\n",
    "    \n",
    "#5 * fac(4)\n",
    "#4 * fac(3)\n",
    "#3 * fac(2)\n",
    "#2 * fac(1)       answer 1\n",
    "fac(5)"
   ]
  },
  {
   "cell_type": "code",
   "execution_count": 26,
   "metadata": {},
   "outputs": [
    {
     "name": "stdout",
     "output_type": "stream",
     "text": [
      "0\n"
     ]
    }
   ],
   "source": [
    "#sum of digits of number\n",
    "#4632   15\n",
    "\n",
    "def sumdigit(n):\n",
    "    s=0\n",
    "    while n !=0:\n",
    "        q=n//10\n",
    "        r=n%10\n",
    "        s=s+r\n",
    "        n=q\n",
    "    print(s)\n",
    "\n",
    "sumdigit(0)"
   ]
  },
  {
   "cell_type": "code",
   "execution_count": 44,
   "metadata": {},
   "outputs": [
    {
     "name": "stdout",
     "output_type": "stream",
     "text": [
      "Enter number whose digits are to be counted : 9\n",
      "9  has  1  digits\n"
     ]
    }
   ],
   "source": [
    "#sum of digits of number\n",
    "#4632   15\n",
    "def cntdigit(n):\n",
    "    if len(str(n))==1:\n",
    "        return 1\n",
    "    else:\n",
    "        if n==0 :\n",
    "            return 0\n",
    "    return 1+cntdigit(n//10)\n",
    "\n",
    "num= int( input(\"Enter number whose digits are to be counted : \"))\n",
    "res=cntdigit(num)\n",
    "print(num,\" has \",res,\" digits\")"
   ]
  },
  {
   "cell_type": "code",
   "execution_count": 32,
   "metadata": {},
   "outputs": [],
   "source": [
    "import matplotlib.pyplot as plt\n",
    "keys = d.keys()\n",
    "print(values)\n",
    "values =d.values()\n",
    "plt.bar(keys, values)"
   ]
  },
  {
   "cell_type": "code",
   "execution_count": 85,
   "metadata": {},
   "outputs": [
    {
     "name": "stdout",
     "output_type": "stream",
     "text": [
      "[5, 40, 6, 138, 123, 77, 153, 172, 109, 92, 192, 148, 156, 61, 49, 78, 26, 191, 199, 26, 53, 196, 15, 39, 104, 74, 76, 100, 98, 12, 103, 127, 75, 47, 71, 134, 23, 98, 64, 97, 9, 49, 24, 124, 63, 4, 128, 162, 176, 125, 186, 160, 168, 175, 129, 169, 131, 64, 136, 38, 157, 114, 7, 29, 79, 167, 135, 27, 191, 41, 120, 180, 9, 193, 54, 156, 56, 81, 116, 30, 44, 144, 1, 85, 40, 68, 166, 106, 9, 123, 99, 197, 107, 2, 182, 177, 78, 149, 38, 141, 184, 12, 110, 62, 46, 97, 59, 142, 196, 176, 183, 130, 21, 192, 58, 161, 31, 143, 34, 157, 45, 7, 175, 38, 94, 2, 125, 97, 18, 147, 196, 158, 157, 86, 141, 158, 99, 10, 171, 126, 105, 134, 10, 140, 77, 195, 51, 171, 114, 134, 102, 70, 182, 44, 101, 82, 117, 197, 47, 64, 60, 178, 138, 37, 150, 119, 60, 90, 44, 160, 31, 35, 92, 50, 116, 159, 46, 77, 115, 149, 81, 195, 109, 86, 81, 112, 2, 73, 156, 35, 18, 55, 131, 88, 123, 35, 179, 64, 177, 164]\n"
     ]
    }
   ],
   "source": [
    "\n",
    "import random \n",
    "lst1=[]\n",
    "for i in range(1,100):\n",
    "    lst1.append(i)\n",
    "\n",
    "lst=[]\n",
    "for i in range(200):\n",
    "    lst.append(random.randrange(1,200))\n",
    "print(lst)"
   ]
  },
  {
   "cell_type": "code",
   "execution_count": 42,
   "metadata": {},
   "outputs": [
    {
     "name": "stdout",
     "output_type": "stream",
     "text": [
      "dict_values([12, 4, 10, 4, 1, 1])\n"
     ]
    },
    {
     "data": {
      "text/plain": [
       "<Container object of 6 artists>"
      ]
     },
     "execution_count": 42,
     "metadata": {},
     "output_type": "execute_result"
    },
    {
     "data": {
      "image/png": "[encoded data removed]",
      "text/plain": [
       "<matplotlib.figure.Figure at 0x197dfcf1e48>"
      ]
     },
     "metadata": {},
     "output_type": "display_data"
    }
   ],
   "source": [
    "keys = d.keys()\n",
    "print(values)\n",
    "values =d.values()\n",
    "plt.bar(keys, values)"
   ]
  },
  {
   "cell_type": "code",
   "execution_count": 24,
   "metadata": {},
   "outputs": [
    {
     "name": "stdout",
     "output_type": "stream",
     "text": [
      "total words are : 32\n"
     ]
    }
   ],
   "source": [
    "sum=0\n",
    "for k,v in d.items():\n",
    "    sum=sum+v\n",
    "print(\"total words are :\", sum)"
   ]
  },
  {
   "cell_type": "code",
   "execution_count": 5,
   "metadata": {},
   "outputs": [
    {
     "data": {
      "text/plain": [
       "{'a': 30, 'b': 20}"
      ]
     },
     "execution_count": 5,
     "metadata": {},
     "output_type": "execute_result"
    }
   ],
   "source": [
    "d1={}\n",
    "d1['a']=20\n",
    "d1['b']=20\n",
    "d1['a']=d1['a'] +10\n",
    "d1"
   ]
  },
  {
   "cell_type": "code",
   "execution_count": 19,
   "metadata": {},
   "outputs": [
    {
     "name": "stdout",
     "output_type": "stream",
     "text": [
      "4\n",
      "5\n",
      "6\n",
      "7\n",
      "12\n",
      "2110370063048\n",
      "2110351833864\n",
      "2110368816584\n"
     ]
    },
    {
     "data": {
      "text/plain": [
       "2110370063048"
      ]
     },
     "execution_count": 19,
     "metadata": {},
     "output_type": "execute_result"
    }
   ],
   "source": [
    "lst=[4,5,6,7,12]\n",
    "newlst=[]                 #  5\n",
    "for i in range(0,len(lst)):\n",
    "    print(lst[i])\n",
    "    newlst.append(lst[i])\n",
    "    \n",
    "newlst1=lst[:]\n",
    "print(id(lst))\n",
    "print(id(newlst))\n",
    "print(id(newlst1))\n",
    "newlst2=lst\n",
    "#lst[start:stop]\n",
    "id(newlst2)"
   ]
  },
  {
   "cell_type": "code",
   "execution_count": 118,
   "metadata": {},
   "outputs": [
    {
     "name": "stdout",
     "output_type": "stream",
     "text": [
      "Enter a no0\n",
      "Divided by Zero\n"
     ]
    }
   ],
   "source": [
    "import sys\n",
    "def calc():\n",
    "    try:\n",
    "            x=int(input(\"Enter a no\"))\n",
    "            y=20\n",
    "            result=y/x     \n",
    "            print(\"Finally has to run\")\n",
    "            print(\"finished\")\n",
    "        #except  : \n",
    "            #print(\"Exception Handled\")\n",
    "            #print(\"The error is\", sys.exc_info()[0])\n",
    "    except ZeroDivisionError:\n",
    "            print(\"Divided by Zero\")                   \n",
    "calc()       "
   ]
  },
  {
   "cell_type": "code",
   "execution_count": 106,
   "metadata": {},
   "outputs": [
    {
     "name": "stdout",
     "output_type": "stream",
     "text": [
      "enter a number0\n",
      "any error\n"
     ]
    }
   ],
   "source": [
    "try:\n",
    "    s=200\n",
    "    t=300\n",
    "    x=int(input(\"enter a number\"))\n",
    "    a=200/x\n",
    "    b=s+t\n",
    "    a=[3,4,5]\n",
    "    for i in range(0,5):\n",
    "        print(a[i])\n",
    "    print(b)\n",
    "except ZeroDivisionError:\n",
    "    print(\"Divided by Zero\")\n",
    "except IndexError:\n",
    "    print(\"Trying to access beyond the object\")\n",
    "except Exception:\n",
    "    print(\"error\")\n",
    "    "
   ]
  },
  {
   "cell_type": "code",
   "execution_count": 92,
   "metadata": {},
   "outputs": [
    {
     "name": "stdout",
     "output_type": "stream",
     "text": [
      "3\n",
      "4\n",
      "5\n"
     ]
    },
    {
     "ename": "IndexError",
     "evalue": "list index out of range",
     "output_type": "error",
     "traceback": [
      "\u001b[1;31m---------------------------------------------------------------------------\u001b[0m",
      "\u001b[1;31mIndexError\u001b[0m                                Traceback (most recent call last)",
      "\u001b[1;32m<ipython-input-92-6f92ada804d7>\u001b[0m in \u001b[0;36m<module>\u001b[1;34m()\u001b[0m\n\u001b[0;32m      1\u001b[0m \u001b[0ma\u001b[0m\u001b[1;33m=\u001b[0m\u001b[1;33m[\u001b[0m\u001b[1;36m3\u001b[0m\u001b[1;33m,\u001b[0m\u001b[1;36m4\u001b[0m\u001b[1;33m,\u001b[0m\u001b[1;36m5\u001b[0m\u001b[1;33m]\u001b[0m\u001b[1;33m\u001b[0m\u001b[0m\n\u001b[0;32m      2\u001b[0m \u001b[1;32mfor\u001b[0m \u001b[0mi\u001b[0m \u001b[1;32min\u001b[0m \u001b[0mrange\u001b[0m\u001b[1;33m(\u001b[0m\u001b[1;36m0\u001b[0m\u001b[1;33m,\u001b[0m\u001b[1;36m5\u001b[0m\u001b[1;33m)\u001b[0m\u001b[1;33m:\u001b[0m\u001b[1;33m\u001b[0m\u001b[0m\n\u001b[1;32m----> 3\u001b[1;33m     \u001b[0mprint\u001b[0m\u001b[1;33m(\u001b[0m\u001b[0ma\u001b[0m\u001b[1;33m[\u001b[0m\u001b[0mi\u001b[0m\u001b[1;33m]\u001b[0m\u001b[1;33m)\u001b[0m\u001b[1;33m\u001b[0m\u001b[0m\n\u001b[0m",
      "\u001b[1;31mIndexError\u001b[0m: list index out of range"
     ]
    }
   ],
   "source": [
    "a=[3,4,5]\n",
    "for i in range(0,5):\n",
    "    print(a[i])"
   ]
  },
  {
   "cell_type": "code",
   "execution_count": 44,
   "metadata": {},
   "outputs": [
    {
     "data": {
      "text/plain": [
       "[67, 45, 78, 56, 89]"
      ]
     },
     "execution_count": 44,
     "metadata": {},
     "output_type": "execute_result"
    }
   ],
   "source": [
    "marks=[56,67,78,89,67,78,78,45,56]\n",
    "s=set(marks)\n",
    "list(s)\n"
   ]
  },
  {
   "cell_type": "code",
   "execution_count": 95,
   "metadata": {},
   "outputs": [
    {
     "name": "stdout",
     "output_type": "stream",
     "text": [
      "(None, None, None)\n"
     ]
    }
   ],
   "source": [
    "\n",
    "if a> 10 :\n",
    "    print(\"please enter only value < 10\")\n",
    "elif a> 20:\n",
    "\n",
    "try:\n",
    "\n",
    "\n",
    "\n",
    "except:\n",
    "    \n",
    "\n",
    "finally:\n",
    "file.close(0)\n",
    "file1.close()\n",
    "file2.close()"
   ]
  },
  {
   "cell_type": "code",
   "execution_count": 38,
   "metadata": {},
   "outputs": [
    {
     "name": "stdout",
     "output_type": "stream",
     "text": [
      "[56, 67, 78, 89, 67, 78, 78, 45, 56]\n",
      "[56, 67, 78, 89, 45]\n"
     ]
    }
   ],
   "source": [
    "#Q find unique elements from a list\n",
    "marks=[56,67,78,89,67,78,78,45,56]\n",
    "marks1=[]\n",
    "\n",
    "for i in range(0,len(marks)):\n",
    "    if marks[i] in marks1:\n",
    "        pass\n",
    "    else:\n",
    "        marks1.append(marks[i])\n",
    "\n",
    "print(marks)\n",
    "print(marks1)\n",
    "\n",
    "#unique elements\n",
    "#ordered"
   ]
  },
  {
   "cell_type": "markdown",
   "metadata": {},
   "source": [
    "# "
   ]
  },
  {
   "cell_type": "code",
   "execution_count": 12,
   "metadata": {},
   "outputs": [
    {
     "name": "stdout",
     "output_type": "stream",
     "text": [
      "[10, 8, 7, 5, 11]\n"
     ]
    }
   ],
   "source": [
    "sequences = [10,2,8,7,5,4,3,11,0, 1]\n",
    "filtered_result = filter (lambda x: x > 4, sequences) \n",
    "filtered_result\n",
    "print(list(filtered_result))\n"
   ]
  },
  {
   "cell_type": "code",
   "execution_count": 13,
   "metadata": {},
   "outputs": [
    {
     "name": "stdout",
     "output_type": "stream",
     "text": [
      "{64, 121, 0, 1, 100, 4, 9, 16, 49, 25}\n"
     ]
    }
   ],
   "source": [
    "sequences = [10,2,8,7,5,4,3,11,0, 1]\n",
    "filtered_result = map (lambda x: x*x, sequences) \n",
    "filtered_result\n",
    "print(set(filtered_result))\n"
   ]
  },
  {
   "cell_type": "code",
   "execution_count": 25,
   "metadata": {},
   "outputs": [
    {
     "data": {
      "text/plain": [
       "'greatest common divisor is finding the divisor with the highest'"
      ]
     },
     "execution_count": 25,
     "metadata": {},
     "output_type": "execute_result"
    }
   ],
   "source": [
    "def gcd(a, b):\n",
    "    \"greatest common divisor is finding the divisor with the highest\"\n",
    "    while a != 0:\n",
    "        a, b = b%a, a    # parallel assignment\n",
    "    return b\n",
    "\n",
    "\n",
    "gcd(12, 20)\n",
    "gcd.__doc__\n",
    "#docstring\n"
   ]
  },
  {
   "cell_type": "code",
   "execution_count": 34,
   "metadata": {},
   "outputs": [
    {
     "ename": "SyntaxError",
     "evalue": "invalid character in identifier (<ipython-input-34-74af4a7aee01>, line 6)",
     "output_type": "error",
     "traceback": [
      "\u001b[1;36m  File \u001b[1;32m\"<ipython-input-34-74af4a7aee01>\"\u001b[1;36m, line \u001b[1;32m6\u001b[0m\n\u001b[1;33m    \u001b[0m\n\u001b[1;37m    ^\u001b[0m\n\u001b[1;31mSyntaxError\u001b[0m\u001b[1;31m:\u001b[0m invalid character in identifier\n"
     ]
    }
   ],
   "source": [
    "def changeme(mylist):\n",
    "    \"\"\"This changes a passed list into this function\"\"\"\n",
    "    #mylist.append([1,2,3,4])\n",
    "    print (\"Values inside the function: \", mylist)\n",
    "    return\n",
    " \n"
   ]
  },
  {
   "cell_type": "code",
   "execution_count": 41,
   "metadata": {},
   "outputs": [
    {
     "name": "stdout",
     "output_type": "stream",
     "text": [
      "1605910967752\n",
      "1605910967752\n",
      "1605911088264\n",
      "[9, 8, 7]\n",
      "1605910967752\n",
      "Values outside the function:  [2, 3, 4]\n"
     ]
    }
   ],
   "source": [
    "\n",
    "def changeme(mylist):\n",
    "    print(id(mylist))\n",
    "    #local list\n",
    "    mylist=[9,8,7]\n",
    "    print(id(mylist))\n",
    "    print(mylist)\n",
    "\n",
    "# Now you can call changeme function\n",
    "\n",
    "mylist = [2,3,4]\n",
    "print(id(mylist))\n",
    "changeme( mylist )\n",
    "print(id(mylist))\n",
    "print( \"Values outside the function: \", mylist)\n"
   ]
  },
  {
   "cell_type": "code",
   "execution_count": 54,
   "metadata": {},
   "outputs": [
    {
     "name": "stdout",
     "output_type": "stream",
     "text": [
      "a is 8 and b is and c is 7\n"
     ]
    }
   ],
   "source": [
    "#Example:\n",
    "def func(a=10,c=10):\n",
    "    print('a is', a, 'and b is', 'and c is', c)\n",
    "\n",
    "#func(3, 7)\n",
    "\n",
    "\n",
    "#func(25, c=24)\n",
    "#func(c=50, a=100)\n",
    "\n",
    "func(8,7)\n",
    "\n"
   ]
  },
  {
   "cell_type": "code",
   "execution_count": null,
   "metadata": {},
   "outputs": [],
   "source": [
    "Output:\n",
    "a is 3 and b is 7 and c is 10\n",
    "\n",
    "a is 25 and b is 5 and c is 24\n",
    "\n",
    "a is 100 and b is 5 and c is 50\n"
   ]
  },
  {
   "cell_type": "code",
   "execution_count": null,
   "metadata": {},
   "outputs": [],
   "source": []
  },
  {
   "cell_type": "code",
   "execution_count": null,
   "metadata": {},
   "outputs": [],
   "source": []
  },
  {
   "cell_type": "code",
   "execution_count": 16,
   "metadata": {},
   "outputs": [
    {
     "name": "stdout",
     "output_type": "stream",
     "text": [
      "Enter city name: chd\n",
      "Enter mm rain: 33\n",
      "Enter city name: roapr\n",
      "Enter mm rain: 55\n",
      "Enter city name: \n",
      "city: chd rain: 33\n",
      "city: roapr rain: 55\n"
     ]
    }
   ],
   "source": [
    "rainfall = { }\n",
    "\n",
    "while True:\n",
    "    city_name = input(\"Enter city name: \")\n",
    "    if not city_name:\n",
    "        break\n",
    "\n",
    "    mm_rain = input(\"Enter mm rain: \")\n",
    "    rainfall[city_name] = rainfall.get(city_name, 0) + int(mm_rain)\n",
    "\n",
    "for city,rain in rainfall.items():\n",
    "    print(\"city:\", city, \"rain:\" ,rain)"
   ]
  },
  {
   "cell_type": "code",
   "execution_count": 6,
   "metadata": {},
   "outputs": [
    {
     "name": "stdout",
     "output_type": "stream",
     "text": [
      "\n",
      "Original Dictionary:\n",
      "{1: 'red', 2: 'green', 3: 'black', 4: 'white', 5: 'black'}\n",
      "Convert the said dictionary into a list of lists:\n",
      "[[1, 'red'], [2, 'green'], [3, 'black'], [4, 'white'], [5, 'black']]\n",
      "\n",
      "Original Dictionary:\n",
      "{'1': 'Austin Little', '2': 'Natasha Howard', '3': 'Alfred Mullins', '4': 'Jamie Rowe'}\n",
      "Convert the said dictionary into a list of lists:\n",
      "[['1', 'Austin Little'], ['2', 'Natasha Howard'], ['3', 'Alfred Mullins'], ['4', 'Jamie Rowe']]\n"
     ]
    }
   ],
   "source": [
    "#Write a Python program to convert a given dictionary into a list of lists.\n",
    "def test(dictt):\n",
    "    result = list(map(list, dictt.items()))\n",
    "    return result    \n",
    "\n",
    "color_dict = {1 : 'red', 2 : 'green', 3 : 'black', 4 : 'white', 5 : 'black'}\n",
    "print(\"\\nOriginal Dictionary:\")\n",
    "print(color_dict)\n",
    "print(\"Convert the said dictionary into a list of lists:\")\n",
    "print(test(color_dict))\n",
    "\n",
    "color_dict = {'1' : 'Austin Little', '2' : 'Natasha Howard', '3' : 'Alfred Mullins', '4' : 'Jamie Rowe'}\n",
    "print(\"\\nOriginal Dictionary:\")\n",
    "print(color_dict)\n",
    "print(\"Convert the said dictionary into a list of lists:\")\n",
    "print(test(color_dict))"
   ]
  },
  {
   "cell_type": "code",
   "execution_count": 5,
   "metadata": {},
   "outputs": [
    {
     "name": "stdout",
     "output_type": "stream",
     "text": [
      "Original dictionary:\n",
      "{'students': [{'firstName': 'Nikki', 'lastName': 'Roysden'}, {'firstName': 'Mervin', 'lastName': 'Friedland'}, {'firstName': 'Aron ', 'lastName': 'Wilkins'}], 'teachers': [{'firstName': 'Amberly', 'lastName': 'Calico'}, {'firstName': 'Regine', 'lastName': 'Agtarap'}]}\n",
      "<class 'dict'>\n",
      "\n",
      "Json file to dictionary:\n",
      "{'students': [{'firstName': 'Nikki', 'lastName': 'Roysden'}, {'firstName': 'Mervin', 'lastName': 'Friedland'}, {'firstName': 'Aron ', 'lastName': 'Wilkins'}], 'teachers': [{'firstName': 'Amberly', 'lastName': 'Calico'}, {'firstName': 'Regine', 'lastName': 'Agtarap'}]}\n"
     ]
    }
   ],
   "source": [
    "d = {\"students\":[{\"firstName\": \"Nikki\", \"lastName\": \"Roysden\"},\n",
    "               {\"firstName\": \"Mervin\", \"lastName\": \"Friedland\"},\n",
    "               {\"firstName\": \"Aron \", \"lastName\": \"Wilkins\"}],\n",
    "\"teachers\":[{\"firstName\": \"Amberly\", \"lastName\": \"Calico\"},\n",
    "         {\"firstName\": \"Regine\", \"lastName\": \"Agtarap\"}]}\n",
    "print(\"Original dictionary:\")\n",
    "print(d)\n",
    "print(type(d))\n",
    "import json\n",
    " \n",
    "with open(\"dictionary\", \"w\") as f:\n",
    "   json.dump(d, f, indent = 4, sort_keys = True)\n",
    " \n",
    "print(\"\\nJson file to dictionary:\")\n",
    "with open('dictionary') as f:\n",
    " data = json.load(f)\n",
    "print(data)"
   ]
  },
  {
   "cell_type": "code",
   "execution_count": 14,
   "metadata": {},
   "outputs": [
    {
     "name": "stdout",
     "output_type": "stream",
     "text": [
      "<class 'float'>\n",
      "0\n",
      "1\n",
      "2\n",
      "3\n",
      "4\n",
      "5\n",
      "6\n",
      "7\n",
      "8\n",
      "9\n"
     ]
    }
   ],
   "source": [
    "import \n",
    "i=0\n",
    "j=20.4\n",
    "print(type(j))\n",
    "for i in range(10):\n",
    "    print(i)    \n",
    "\n",
    "    \n",
    "list1=[3,4,5]\n",
    "list1."
   ]
  },
  {
   "cell_type": "code",
   "execution_count": 3,
   "metadata": {},
   "outputs": [
    {
     "ename": "IndentationError",
     "evalue": "unexpected indent (<ipython-input-3-db02dd6b34af>, line 29)",
     "output_type": "error",
     "traceback": [
      "\u001b[1;36m  File \u001b[1;32m\"<ipython-input-3-db02dd6b34af>\"\u001b[1;36m, line \u001b[1;32m29\u001b[0m\n\u001b[1;33m    ab=\"dd\"\u001b[0m\n\u001b[1;37m    ^\u001b[0m\n\u001b[1;31mIndentationError\u001b[0m\u001b[1;31m:\u001b[0m unexpected indent\n"
     ]
    }
   ],
   "source": [
    "ab = {  'Swaroop'   : 'swaroop@swaroopch.com',\n",
    "        'Larry'     : 'larry@wall.org',\n",
    "        'Matsumoto' : 'matz@ruby-lang.org',\n",
    "        'Spammer'   : 'spammer@hotmail.com'\n",
    "     }\n",
    "\n",
    "\n",
    "\n",
    "string=\"successful\"\n",
    "\n",
    "\n",
    "\n",
    "\n",
    "\n",
    "\n",
    "\n",
    "print( \"Swaroop's address is\", ab['Swaroop'])\n",
    "\n",
    "# Deleting a key-value pair\n",
    "del ab['Spammer']\n",
    "print(ab)\n",
    "print ( '\\nThere are {} contacts in the address-book\\n'.format(len(ab)))\n",
    "print ( '\\nThere are ', len(ab), 'contacts in the address-book\\n')\n",
    "\n",
    "ab['aditya']= 'aditya234@gmail.com'\n",
    "print(ab)\n",
    "\n",
    "print(ab.pop('aditya'))\n",
    "   ab=\"dd\"\n"
   ]
  },
  {
   "cell_type": "code",
   "execution_count": 3,
   "metadata": {},
   "outputs": [
    {
     "data": {
      "text/plain": [
       "[6, 7]"
      ]
     },
     "execution_count": 3,
     "metadata": {},
     "output_type": "execute_result"
    }
   ],
   "source": [
    "lst=[4,5,6,7,8]\n",
    "\n",
    "lst[2:]\n",
    "\n"
   ]
  },
  {
   "cell_type": "code",
   "execution_count": 4,
   "metadata": {},
   "outputs": [
    {
     "name": "stdout",
     "output_type": "stream",
     "text": [
      "histogram is  {'s': 4, 'u': 2, 'c': 2, 'e': 1, 'f': 1, 'l': 1}\n",
      "-1\n",
      "reversed dict is : {4: ['s'], 2: ['u', 'c'], 1: ['e', 'f', 'l']}\n"
     ]
    }
   ],
   "source": [
    "def search(d,c):\n",
    "    if c in d:\n",
    "        return d[c]\n",
    "    else:\n",
    "        return -1\n",
    "\n",
    "def histogram(string):\n",
    "    dic={}\n",
    "    for i in string:\n",
    "        if i in dic:\n",
    "           dic[i]=dic[i] + 1 \n",
    "        else:\n",
    "            dic[i]=1\n",
    "    return dic\n",
    "\n",
    "def rev_dic(dic):\n",
    "    revdic={}\n",
    "    for key,val in dic.items():\n",
    "        if val in revdic:\n",
    "            revdic[val].append(key)\n",
    "        else:\n",
    "            revdic[val]= [key]\n",
    "        \n",
    "        \n",
    "        #revdic[dic.values()]=dic.keys()\n",
    "    return revdic\n",
    "    \n",
    "def main():\n",
    "    string=\"successfuls\"\n",
    "    dic=histogram(string)\n",
    "    print(\"histogram is \", dic)\n",
    "    j=search(dic,'x')\n",
    "    print(j)\n",
    "    d=rev_dic(dic)\n",
    "    print(\"reversed dict is :\", d)\n",
    "    \n",
    "main()\n",
    "#{1:['e','f','l'], 2:['u','c'], 4:['s']}\n"
   ]
  },
  {
   "cell_type": "code",
   "execution_count": 3,
   "metadata": {},
   "outputs": [
    {
     "data": {
      "text/plain": [
       "3"
      ]
     },
     "execution_count": 3,
     "metadata": {},
     "output_type": "execute_result"
    }
   ],
   "source": [
    "def rev_lookup(d,v):\n",
    "    for k in d: \n",
    "        if d[k] == v:\n",
    "            return k \n",
    "        \n",
    "d={1:10,2:20,3:30,4:40}\n",
    "rev_lookup(d,30)\n"
   ]
  },
  {
   "cell_type": "code",
   "execution_count": 8,
   "metadata": {},
   "outputs": [
    {
     "name": "stdout",
     "output_type": "stream",
     "text": [
      "{'a': 0, 'c': 2, 'b': 1}\n",
      "{'a': 0, 'b': 1, 'c': 2}\n"
     ]
    }
   ],
   "source": [
    "t = [('a', 0), ('c', 2), ('b', 1)]\n",
    "d = dict(t) \n",
    "print(d)\n",
    "\n",
    "#Combining dict with zip yields a concise way to create a dictionary:\n",
    "d = dict(zip('abc', range(3))) \n",
    "#print d {'a': 0, 'c': 2, 'b': 1} \n",
    "print(d)"
   ]
  },
  {
   "cell_type": "code",
   "execution_count": 1,
   "metadata": {},
   "outputs": [
    {
     "name": "stdout",
     "output_type": "stream",
     "text": [
      "['R', 'm', 'v', ' ', 'v', 'w', 'l', 's', ' ', 'f', 'r', 'm', ' ', 't', 'h', 's', ' ', 's', 't', 'r', 'n', 'g']\n",
      "Rmv vwls frm ths strng\n",
      "<class 'str'>\n",
      "Rmv vwls frm ths strng\n"
     ]
    }
   ],
   "source": [
    "#to remove vowels from a sentence\n",
    "sentence=\"Remove vowels from this string\"\n",
    "vowels=\"aeiou\"\n",
    "filtered_list=[]\n",
    "for l in sentence:\n",
    "    if l not in vowels:\n",
    "        filtered_list.append(l)\n",
    "print(filtered_list)\n",
    "print(''.join(filtered_list))\n",
    "l2=''.join(filtered_list)\n",
    "print(type(l2))\n",
    "print(l2)"
   ]
  },
  {
   "cell_type": "code",
   "execution_count": 30,
   "metadata": {},
   "outputs": [
    {
     "ename": "NameError",
     "evalue": "name 'maillist' is not defined",
     "output_type": "error",
     "traceback": [
      "\u001b[1;31m---------------------------------------------------------------------------\u001b[0m",
      "\u001b[1;31mNameError\u001b[0m                                 Traceback (most recent call last)",
      "\u001b[1;32m<ipython-input-30-b873fc113d37>\u001b[0m in \u001b[0;36m<module>\u001b[1;34m()\u001b[0m\n\u001b[0;32m      6\u001b[0m \u001b[1;31m#security     dictionary\u001b[0m\u001b[1;33m\u001b[0m\u001b[1;33m\u001b[0m\u001b[0m\n\u001b[0;32m      7\u001b[0m \u001b[1;33m\u001b[0m\u001b[0m\n\u001b[1;32m----> 8\u001b[1;33m \u001b[1;32mfor\u001b[0m \u001b[0mmail\u001b[0m \u001b[1;32min\u001b[0m \u001b[0mmaillist\u001b[0m\u001b[1;33m:\u001b[0m\u001b[1;33m\u001b[0m\u001b[0m\n\u001b[0m\u001b[0;32m      9\u001b[0m     \u001b[0matpos\u001b[0m\u001b[1;33m=\u001b[0m\u001b[0mmail\u001b[0m\u001b[1;33m.\u001b[0m\u001b[0mfind\u001b[0m\u001b[1;33m(\u001b[0m\u001b[1;34m\"@\"\u001b[0m\u001b[1;33m)\u001b[0m\u001b[1;33m\u001b[0m\u001b[0m\n\u001b[0;32m     10\u001b[0m     \u001b[0mtopos\u001b[0m\u001b[1;33m=\u001b[0m\u001b[0mmail\u001b[0m\u001b[1;33m.\u001b[0m\u001b[0mfind\u001b[0m\u001b[1;33m(\u001b[0m\u001b[1;34m\" \"\u001b[0m\u001b[1;33m,\u001b[0m\u001b[0matpos\u001b[0m \u001b[1;33m)\u001b[0m\u001b[1;33m\u001b[0m\u001b[0m\n",
      "\u001b[1;31mNameError\u001b[0m: name 'maillist' is not defined"
     ]
    }
   ],
   "source": [
    "#build a dictionary \n",
    "#maildic={\"uct.ac.in\" : 2, \"yahoo.com\" : 4, \"nielit.gov.in\" : 10, gmail.com : 1}\n",
    "\n",
    "maildic={}\n",
    "#log files\n",
    "#security     dictionary\n",
    "\n",
    "for mail in maillist:\n",
    "    atpos=mail.find(\"@\")\n",
    "    topos=mail.find(\" \",atpos )\n",
    "    m = mail[atpos+1: topos  ]\n",
    "    if m not in maildic:\n",
    "        maildic[m] =  1\n",
    "    else:\n",
    "        maildic[m] = maildic[m] + 1\n",
    "\n",
    "print(maildic)\n",
    "\n",
    "list(maildic.items())"
   ]
  },
  {
   "cell_type": "code",
   "execution_count": 6,
   "metadata": {},
   "outputs": [
    {
     "name": "stdout",
     "output_type": "stream",
     "text": [
      "<class 'list'>\n",
      "<class 'str'>\n"
     ]
    },
    {
     "data": {
      "text/plain": [
       "2"
      ]
     },
     "execution_count": 6,
     "metadata": {},
     "output_type": "execute_result"
    }
   ],
   "source": [
    "#count the occurence of a in a string\n",
    "sentence=[]\n",
    "print(type(sentence))\n",
    "sentence=\"How aare you\"\n",
    "sentence.casefold(sentence)\n",
    "sentence.count('a')\n",
    "print(type(sentence))\n",
    "#or\n",
    "\n",
    "sentence=\"How aare you\"\n",
    "sentence.count('a')\n"
   ]
  },
  {
   "cell_type": "code",
   "execution_count": 18,
   "metadata": {},
   "outputs": [
    {
     "name": "stdout",
     "output_type": "stream",
     "text": [
      "abc\n",
      "rmt\n"
     ]
    }
   ],
   "source": [
    "#count the elements which are of size 3\n",
    "l1=[]\n",
    "l1=['abc', 'xyzq', 'rmt']\n",
    "for x in l1:\n",
    "    if len(x)==3:\n",
    "        print(x)\n",
    "    "
   ]
  },
  {
   "cell_type": "code",
   "execution_count": 4,
   "metadata": {},
   "outputs": [
    {
     "name": "stdout",
     "output_type": "stream",
     "text": [
      "[1, 2, 3]\n",
      "[4, 1, 2, 5, 7, 6, 2, 3, 4, 3, 8, 9]\n",
      "{1, 2, 3, 4, 5, 6, 7, 8, 9}\n",
      "{1, 2, 3}\n"
     ]
    },
    {
     "data": {
      "text/plain": [
       "[4, 5, 6, 7, 8, 9]"
      ]
     },
     "execution_count": 4,
     "metadata": {},
     "output_type": "execute_result"
    }
   ],
   "source": [
    "#print the unique duplicate list without the small no\n",
    "smallnumber=[1,2,3]\n",
    "duplicates=[4,1,2,5,7,6,2,3,4,3,8,9]\n",
    "print(smallnumber)\n",
    "print(duplicates)\n",
    "print(set(duplicates))\n",
    "print(set(smallnumber))\n",
    "\n",
    "list(set(duplicates)-set(smallnumber))"
   ]
  },
  {
   "cell_type": "code",
   "execution_count": 16,
   "metadata": {},
   "outputs": [
    {
     "name": "stdout",
     "output_type": "stream",
     "text": [
      "[('a', 1), ('b', 2), ('c', 3), ('z', 26), ('y', 25), ('x', 24), ('d', 4)]\n",
      "{'a': 1, 'b': 2, 'c': 3, 'z': 26, 'y': 25, 'x': 24, 'd': 4}\n"
     ]
    }
   ],
   "source": [
    "# Convert to a dictionary\n",
    "helloWorld=['a',1,'b',2,'c',3,'z',26, 'y', 25, 'x', 24, 'd', 4]\n",
    "helloWorldlist= list(zip(helloWorld[0::2], helloWorld[1::2]))\n",
    "helloWorldDictionary = dict(zip(helloWorld[0::2], helloWorld[1::2]))\n",
    "print(helloWorldlist)\n",
    "# Print out the result\n",
    "print(helloWorldDictionary)"
   ]
  },
  {
   "cell_type": "code",
   "execution_count": 3,
   "metadata": {},
   "outputs": [
    {
     "name": "stdout",
     "output_type": "stream",
     "text": [
      "{'xyz': 123, 'abc': 345}\n",
      "dict_keys(['xyz', 'abc'])\n",
      "dict_values([123, 345])\n",
      "xyz  123\n",
      "abc  345\n",
      "0 xyz 123\n",
      "1 abc 345\n",
      "True\n",
      "False\n"
     ]
    }
   ],
   "source": [
    "# Create a new dictionary \n",
    "d = dict() # or d = {}\n",
    " \n",
    "# Add a key - value pairs to dictionary\n",
    "d['xyz'] = 123\n",
    "d['abc'] = 345\n",
    " \n",
    "# print the whole dictionary\n",
    "print(d)\n",
    " \n",
    "# print only the keys\n",
    "print(d.keys())\n",
    " \n",
    "# print only values\n",
    "print(d.values())\n",
    " \n",
    "# iterate over dictionary \n",
    "for i in d :\n",
    "    print(\"%s  %d\" %(i, d[i]))\n",
    " \n",
    "# another method of iteration\n",
    "for index, value in enumerate(d):\n",
    "    print (index, value , d[value])\n",
    " \n",
    "# check if key exist\n",
    "print('xyz' in d)\n",
    " \n",
    "# delete the key-value pair\n",
    "del d['xyz']\n",
    " \n",
    "# check again \n",
    "print(\"xyz\" in d)"
   ]
  },
  {
   "cell_type": "code",
   "execution_count": 43,
   "metadata": {},
   "outputs": [
    {
     "name": "stdout",
     "output_type": "stream",
     "text": [
      "The constituents of dictionary as string are : \n",
      "{'Name': 'Nandini', 'Age': 19}\n",
      "The constituents of dictionary as list are : \n",
      "dict_items([('Name', 'Nandini'), ('Age', 19)])\n"
     ]
    }
   ],
   "source": [
    "# Python code to demonstrate working of\n",
    "# str() and items()\n",
    "\n",
    "# Initializing dictionary\n",
    "dic = { 'Name' : 'Nandini', 'Age' : 19 }\n",
    "\n",
    "# using str() to display dic as string\n",
    "print (\"The constituents of dictionary as string are : \")\n",
    "print (str(dic))\n",
    "\n",
    "# using str() to display dic as list\n",
    "print (\"The constituents of dictionary as list are : \")\n",
    "print (dic.items())"
   ]
  },
  {
   "cell_type": "code",
   "execution_count": 44,
   "metadata": {},
   "outputs": [
    {
     "name": "stdout",
     "output_type": "stream",
     "text": [
      "The size of dic is : 3\n",
      "The data type of dic is : <class 'dict'>\n",
      "The data type of li is : <class 'list'>\n"
     ]
    }
   ],
   "source": [
    "# Python code to demonstrate working of\n",
    "# len() and type()\n",
    "\n",
    "# Initializing dictionary\n",
    "dic = { 'Name' : 'Nandini', 'Age' : 19, 'ID' : 2541997 }\n",
    "\n",
    "# Initializing list\n",
    "li = [ 1, 3, 5, 6 ]\n",
    "\n",
    "# using len() to display dic size\n",
    "print (\"The size of dic is : \",end=\"\")\n",
    "print (len(dic))\n",
    "\n",
    "# using type() to display data type\n",
    "print (\"The data type of dic is : \",end=\"\")\n",
    "print (type(dic))\n",
    "\n",
    "# using type() to display data type\n",
    "print (\"The data type of li is : \",end=\"\")\n",
    "print (type(li))"
   ]
  },
  {
   "cell_type": "code",
   "execution_count": 21,
   "metadata": {},
   "outputs": [
    {
     "name": "stdout",
     "output_type": "stream",
     "text": [
      "The new copied dictionary is : \n",
      "{'Name': 'Nandini', 'Age': 19}\n"
     ]
    },
    {
     "data": {
      "text/plain": [
       "19"
      ]
     },
     "execution_count": 21,
     "metadata": {},
     "output_type": "execute_result"
    }
   ],
   "source": [
    "# Python code to demonstrate working of clear() and copy()\n",
    "# Initializing dictionary\n",
    "dic1 = { 'Name' : 'Nandini', 'Age' : 19 }\n",
    "\n",
    " \n",
    "# using copy() to make shallow copy of dictionary\n",
    "dic3 = dic1.copy()\n",
    "print (\"The new copied dictionary is : \")\n",
    "print (dic3)\n",
    "dic3['Age']"
   ]
  },
  {
   "cell_type": "code",
   "execution_count": 19,
   "metadata": {},
   "outputs": [
    {
     "name": "stdout",
     "output_type": "stream",
     "text": [
      "dict4 {}\n",
      "dict_items([])\n",
      "dict_items([])\n",
      "{'Name': 'Nandini', 'Age': 19}\n"
     ]
    }
   ],
   "source": [
    "dic4=dic1\n",
    "# printing new dictionary\n",
    "print(\"dict4\", dic4)\n",
    "\n",
    "# clearing the dictionary\n",
    "dic1.clear()\n",
    "print (dic1.items()) \n",
    "print (dic4.items())\n",
    "\n",
    "print (dic3)\n",
    "\n"
   ]
  },
  {
   "cell_type": "code",
   "execution_count": 22,
   "metadata": {},
   "outputs": [
    {
     "name": "stdout",
     "output_type": "stream",
     "text": [
      "The updated dictionary is : \n",
      "{'Name': 'Nandini', 'Age': 19, 'ID': 2541997}\n",
      "The new dictionary values are : \n",
      "{'Name': 5, 'Age': 5, 'ID': 5}\n"
     ]
    }
   ],
   "source": [
    "# Python code to demonstrate working of\n",
    "# fromkeys() and update()\n",
    " \n",
    "# Initializing dictionary 1\n",
    "dic1 = { 'Name' : 'Nandini', 'Age' : 19 }\n",
    " \n",
    "# Initializing dictionary 2\n",
    "dic2 = { 'ID' : 2541997 }\n",
    " \n",
    "# Initializing sequence\n",
    "sequ = ('Name', 'Age', 'ID')\n",
    " \n",
    "# using update to add dic2 values in dic 1\n",
    "dic1.update(dic2)\n",
    " \n",
    "# printing updated dictionary values\n",
    "print (\"The updated dictionary is : \")\n",
    "print (dic1)\n",
    " \n",
    "# using fromkeys() to transform sequence into dictionary\n",
    "dict = dict.fromkeys(sequ,5)\n",
    " \n",
    "# printing new dictionary values\n",
    "print (\"The new dictionary values are : \")\n",
    "print (str(dict))"
   ]
  },
  {
   "cell_type": "code",
   "execution_count": 5,
   "metadata": {},
   "outputs": [
    {
     "name": "stdout",
     "output_type": "stream",
     "text": [
      "Name is a key\n",
      "The value associated with ID is : \n",
      "Not Present\n",
      "The dictionary values are : \n",
      "{'Name': 'Nandini', 'Age': 19}\n"
     ]
    }
   ],
   "source": [
    "# Python code to demonstrate working of\n",
    "# has_key() and get()\n",
    " \n",
    "# Initializing dictionary\n",
    "dict = { 'Name' : 'Nandini', 'Age' : 19 }\n",
    " \n",
    "# using has_key() to check if dic1 has a key\n",
    "if dict.get('Name'):\n",
    "       print (\"Name is a key\")\n",
    "else : print (\"Name is not a key\")\n",
    " \n",
    "# using get() to print a key value\n",
    "print (\"The value associated with ID is : \")\n",
    "print (dict.get('ID', \"Not Present\"))\n",
    " \n",
    "# printing dictionary values\n",
    "print (\"The dictionary values are : \")\n",
    "print (str(dict))\n"
   ]
  },
  {
   "cell_type": "code",
   "execution_count": 50,
   "metadata": {},
   "outputs": [
    {
     "name": "stdout",
     "output_type": "stream",
     "text": [
      "The value associated with Age is : No ID\n",
      "The dictionary values are : \n",
      "{'Name': 'Nandini', 'Age': 19, 'ID': 'No ID'}\n"
     ]
    }
   ],
   "source": [
    "#Python code to demonstrate working of\n",
    "# setdefault()\n",
    " \n",
    "# Initializing dictionary\n",
    "dict = { 'Name' : 'Nandini', 'Age' : 19 }\n",
    " \n",
    "# using setdefault() to print a key value\n",
    "print (\"The value associated with Age is : \",end=\"\")\n",
    "print (dict.setdefault('ID', \"No ID\"))\n",
    " \n",
    "# printing dictionary values\n",
    "print (\"The dictionary values are : \")\n",
    "print (str(dict))"
   ]
  },
  {
   "cell_type": "code",
   "execution_count": 49,
   "metadata": {},
   "outputs": [
    {
     "name": "stdout",
     "output_type": "stream",
     "text": [
      "1\n",
      "None\n",
      "Not Found ! \n"
     ]
    }
   ],
   "source": [
    "dic = {\"A\":1, \"B\":2}\n",
    "print(dic.get(\"A\"))\n",
    "print(dic.get(\"C\"))\n",
    "print(dic.get(\"C\",\"Not Found ! \"))"
   ]
  },
  {
   "cell_type": "code",
   "execution_count": 15,
   "metadata": {},
   "outputs": [
    {
     "name": "stdout",
     "output_type": "stream",
     "text": [
      "The value associated with 'c' is : \n"
     ]
    },
    {
     "ename": "TypeError",
     "evalue": "'dict' object is not callable",
     "output_type": "error",
     "traceback": [
      "\u001b[1;31m---------------------------------------------------------------------------\u001b[0m",
      "\u001b[1;31mTypeError\u001b[0m                                 Traceback (most recent call last)",
      "\u001b[1;32m<ipython-input-15-e3a177569ef2>\u001b[0m in \u001b[0;36m<module>\u001b[1;34m()\u001b[0m\n\u001b[0;32m      7\u001b[0m \u001b[1;31m# trying to output value of absent key\u001b[0m\u001b[1;33m\u001b[0m\u001b[1;33m\u001b[0m\u001b[0m\n\u001b[0;32m      8\u001b[0m \u001b[0mprint\u001b[0m \u001b[1;33m(\u001b[0m\u001b[1;34m\"The value associated with 'c' is : \"\u001b[0m\u001b[1;33m)\u001b[0m\u001b[1;33m\u001b[0m\u001b[0m\n\u001b[1;32m----> 9\u001b[1;33m \u001b[0mprint\u001b[0m \u001b[1;33m(\u001b[0m\u001b[0md\u001b[0m\u001b[1;33m(\u001b[0m\u001b[1;34m\"c\"\u001b[0m\u001b[1;33m)\u001b[0m\u001b[1;33m)\u001b[0m\u001b[1;33m\u001b[0m\u001b[0m\n\u001b[0m",
      "\u001b[1;31mTypeError\u001b[0m: 'dict' object is not callable"
     ]
    }
   ],
   "source": [
    "# Python code to demonstrate Dictionary and\n",
    "# missing value error\n",
    " \n",
    "# initializing Dictionary\n",
    "d = { 'a' : 1 , 'b' : 2 }\n",
    " \n",
    "# trying to output value of absent key \n",
    "print (\"The value associated with 'c' is : \")\n",
    "print (d(\"c\"))"
   ]
  },
  {
   "cell_type": "code",
   "execution_count": 52,
   "metadata": {},
   "outputs": [
    {
     "name": "stdout",
     "output_type": "stream",
     "text": [
      "The value associated with 'a' is : 1\n",
      "The value associated with 'c' is : Key Not found\n"
     ]
    }
   ],
   "source": [
    "# Python code to demonstrate defaultdict\n",
    " \n",
    "# importing \"collections\" for defaultdict\n",
    "import collections\n",
    " \n",
    "# declaring defaultdict\n",
    "# sets default value 'Key Not found' to absent keys\n",
    "defd = collections.defaultdict(lambda : 'Key Not found')\n",
    " \n",
    "# initializing values \n",
    "defd['a'] = 1\n",
    " \n",
    "# initializing values \n",
    "defd['b'] = 2\n",
    " \n",
    "# printing value \n",
    "print (\"The value associated with 'a' is : \",end=\"\")\n",
    "print (defd['a'])\n",
    " \n",
    "# printing value associated with 'c'\n",
    "print (\"The value associated with 'c' is : \",end=\"\")\n",
    "print (defd['c'])"
   ]
  },
  {
   "cell_type": "code",
   "execution_count": 18,
   "metadata": {},
   "outputs": [
    {
     "name": "stdout",
     "output_type": "stream",
     "text": [
      "OrderedDict([(12, None), (10, None), (9, None), (45, None), (2, None)])\n",
      "12, 10, 9, 45, 2\n"
     ]
    }
   ],
   "source": [
    "# Python program to print All Distinct\n",
    "# Elements of a given integer array\n",
    " \n",
    "from collections import OrderedDict\n",
    " \n",
    "def printDistinct(input):\n",
    "     # convert list into ordered dictionary\n",
    "     ordDict = OrderedDict.fromkeys(input)\n",
    "     print(ordDict)\n",
    " \n",
    "     # iterate through dictionary and get list of keys\n",
    "     # list of keys will be resultant distinct elements \n",
    "     # in array\n",
    "     result = [ key for (key, value) in ordDict.items() ]\n",
    " \n",
    "     # concatenate list of elements with ', ' and print\n",
    "     print (', '.join(map(str, result)))  \n",
    " \n",
    "# Driver program\n",
    "if __name__ == \"__main__\":\n",
    "    input = [12, 10, 9, 45, 2, 10, 10, 45]\n",
    "    printDistinct(input)"
   ]
  },
  {
   "cell_type": "code",
   "execution_count": 3,
   "metadata": {},
   "outputs": [
    {
     "name": "stdout",
     "output_type": "stream",
     "text": [
      "enter the string :this is a com9393puter\n"
     ]
    },
    {
     "ename": "NameError",
     "evalue": "name 'lst' is not defined",
     "output_type": "error",
     "traceback": [
      "\u001b[1;31m---------------------------------------------------------------------------\u001b[0m",
      "\u001b[1;31mNameError\u001b[0m                                 Traceback (most recent call last)",
      "\u001b[1;32m<ipython-input-3-eaca2f738214>\u001b[0m in \u001b[0;36m<module>\u001b[1;34m()\u001b[0m\n\u001b[0;32m      9\u001b[0m \u001b[1;31m#count spaces ...subtract lower\u001b[0m\u001b[1;33m\u001b[0m\u001b[1;33m\u001b[0m\u001b[0m\n\u001b[0;32m     10\u001b[0m \u001b[1;33m\u001b[0m\u001b[0m\n\u001b[1;32m---> 11\u001b[1;33m \u001b[1;32mfor\u001b[0m \u001b[0melement\u001b[0m \u001b[1;32min\u001b[0m \u001b[0mlst\u001b[0m\u001b[1;33m:\u001b[0m\u001b[1;33m\u001b[0m\u001b[0m\n\u001b[0m\u001b[0;32m     12\u001b[0m         \u001b[1;32mif\u001b[0m \u001b[0melement\u001b[0m\u001b[1;33m.\u001b[0m\u001b[0misupper\u001b[0m\u001b[1;33m(\u001b[0m\u001b[1;33m)\u001b[0m\u001b[1;33m:\u001b[0m\u001b[1;33m\u001b[0m\u001b[0m\n\u001b[0;32m     13\u001b[0m             \u001b[0mupper_count\u001b[0m\u001b[1;33m+=\u001b[0m\u001b[1;36m1\u001b[0m\u001b[1;33m\u001b[0m\u001b[0m\n",
      "\u001b[1;31mNameError\u001b[0m: name 'lst' is not defined"
     ]
    }
   ],
   "source": [
    "lower_count=0\n",
    "upper_count=0\n",
    "space=0\n",
    "other=0\n",
    "s=input(\"enter the string :\")\n",
    "#isspace\n",
    "#split\n",
    "#removespace\n",
    "#count spaces ...subtract lower\n",
    "\n",
    "for element in lst:\n",
    "        if element.isupper():\n",
    "            upper_count+=1\n",
    "        elif element.islower():\n",
    "            lower_count+=1\n",
    "        elif element.isspace():\n",
    "            space=space+1\n",
    "        else:\n",
    "            other=other+1\n",
    "            \n",
    "print('uppercase character :',upper_count)\n",
    "print('lowercase character :',lower_count)\n",
    "print('lowercase character :',other)\n",
    "print('lowercase character :',space)"
   ]
  },
  {
   "cell_type": "code",
   "execution_count": 17,
   "metadata": {},
   "outputs": [
    {
     "data": {
      "text/plain": [
       "'yomputer industrc'"
      ]
     },
     "execution_count": 17,
     "metadata": {},
     "output_type": "execute_result"
    }
   ],
   "source": [
    "str=\"computer industry\"\n",
    "str1=str[-1]\n",
    "for char in range(len(str) - 1):\n",
    "    if char==0:\n",
    "        pass\n",
    "    else:\n",
    "        str1=str1+str[char]\n",
    "str1+str[0]\n",
    "\n",
    "#str[-1:] + str[1:-1] + str[0]\n"
   ]
  },
  {
   "cell_type": "code",
   "execution_count": 25,
   "metadata": {},
   "outputs": [
    {
     "name": "stdout",
     "output_type": "stream",
     "text": [
      "OrderedDict([(12, None), (10, None), (9, None), (45, None), (2, None)])\n",
      "[12, 10, 9, 45, 2]\n",
      "12, 10, 9, 45, 2\n"
     ]
    }
   ],
   "source": [
    "# Python program to print All Distinct\n",
    "# Elements of a given integer array\n",
    " \n",
    "from collections import OrderedDict\n",
    " \n",
    "def printDistinct(input):\n",
    "     # convert list into ordered dictionary\n",
    "     ordDict = OrderedDict.fromkeys(input)\n",
    "     print(ordDict)\n",
    " \n",
    "     # iterate through dictionary and get list of keys\n",
    "     # list of keys will be resultant distinct elements \n",
    "     # in array\n",
    "     result = [ key for (key, value) in ordDict.items() ]\n",
    " \n",
    "     print(result)\n",
    "     # concatenate list of elements with ', ' and print\n",
    "     print (', '.join(map(str, result)))  \n",
    " \n",
    "# Driver program\n",
    "def main():\n",
    "    input = [12, 10, 9, 45, 2, 10, 10, 45]\n",
    "    printDistinct(input)\n",
    "    \n",
    "main()"
   ]
  },
  {
   "cell_type": "code",
   "execution_count": 2,
   "metadata": {},
   "outputs": [
    {
     "name": "stdout",
     "output_type": "stream",
     "text": [
      "None\n",
      "{'d': 6, 'c': 4, 'a': 10, 'b': 8}\n"
     ]
    }
   ],
   "source": [
    "# Python code to merge dict using update() method\n",
    "def Merge(dict1, dict2):\n",
    "    return(dict2.update(dict1))\n",
    "     \n",
    "# Driver code\n",
    "dict1 = {'a': 10, 'b': 8}\n",
    "dict2 = {'d': 6, 'c': 4}\n",
    " \n",
    "# This return None\n",
    "print(Merge(dict1, dict2))\n",
    " \n",
    "# changes made in dict2\n",
    "print(dict2)"
   ]
  },
  {
   "cell_type": "code",
   "execution_count": 55,
   "metadata": {},
   "outputs": [
    {
     "name": "stdout",
     "output_type": "stream",
     "text": [
      "{'a': 10, 'b': 8, 'd': 6, 'c': 4}\n"
     ]
    }
   ],
   "source": [
    "# Python code to merge dict using a single \n",
    "# expression\n",
    "def Merge(dict1, dict2):\n",
    "    res = {**dict1, **dict2}\n",
    "    return res\n",
    "     \n",
    "# Driver code\n",
    "dict1 = {'a': 10, 'b': 8}\n",
    "dict2 = {'d': 6, 'c': 4}\n",
    "dict3 = Merge(dict1, dict2)\n",
    "print(dict3)"
   ]
  },
  {
   "cell_type": "markdown",
   "metadata": {},
   "source": [
    "# Find frequency of each word in a string in Python\n",
    "Input :  str[] = \"Apple Mango Orange Mango Guava Guava Mango\" \n",
    "Output : frequency of Apple is : 1\n",
    "         frequency of Mango is : 3\n",
    "         frequency of Orange is : 1\n",
    "         frequency of Guava is : 2\n",
    "\n",
    "Input :  str = \"Train Bus Bus Train Taxi Aeroplane Taxi Bus\"\n",
    "Output : frequency of Train is : 2\n",
    "         frequency of Bus is : 3\n",
    "         frequency of Taxi is : 2\n",
    "         frequency of Aeroplane is : 1"
   ]
  },
  {
   "cell_type": "code",
   "execution_count": 9,
   "metadata": {},
   "outputs": [
    {
     "name": "stdout",
     "output_type": "stream",
     "text": [
      "Frequency of apple is : 3\n",
      "Frequency of mango is : 3\n",
      "Frequency of orange is : 2\n",
      "Frequency of guava is : 1\n",
      "Frequency of tree is : 1\n"
     ]
    }
   ],
   "source": [
    "def freq(str):\n",
    "     # break the string into list of words \n",
    "    str = str.split()         \n",
    "    str2 = []\n",
    "    for i in str:             \n",
    "        # checking for the duplicacy\n",
    "        if i not in str2:\n",
    "            # insert value in str2\n",
    "            str2.append(i) \n",
    "             \n",
    "    for i in range(0, len(str2)):\n",
    "        print( 'Frequency of', str2[i], 'is :', str.count(str2[i]))    \n",
    " \n",
    "def main():\n",
    "    str ='apple mango apple orange orange apple guava mango mango tree'\n",
    "    freq(str)                    \n",
    "\n",
    "main()             # call main function"
   ]
  },
  {
   "cell_type": "code",
   "execution_count": 47,
   "metadata": {},
   "outputs": [
    {
     "name": "stdout",
     "output_type": "stream",
     "text": [
      "{'apple': 3, 'mango': 4, 'orange': 2, 'guava': 1, 'tree': 1}\n"
     ]
    }
   ],
   "source": [
    "str ='apple mango apple orange orange apple guava mango mango tree mango'\n",
    "dict={}\n",
    "for i in str.split():\n",
    "    if i in dict:\n",
    "        dict[i]=dict[i] + 1\n",
    "    else:\n",
    "        dict[i]=1\n",
    "print(dict)\n",
    "    "
   ]
  },
  {
   "cell_type": "code",
   "execution_count": 7,
   "metadata": {},
   "outputs": [
    {
     "name": "stdout",
     "output_type": "stream",
     "text": [
      "john\n"
     ]
    }
   ],
   "source": [
    "# Function to find winner of an election where votes\n",
    "# are represented as candidate names\n",
    "from collections import Counter\n",
    " \n",
    "def winner(input):\n",
    " \n",
    "     # convert list of candidates into dictionary\n",
    "     # output will be likes candidates = {'A':2, 'B':4}\n",
    "     votes = Counter(input)\n",
    "      \n",
    "     # create another dictionary and it's key will\n",
    "     # be count of votes values will be name of \n",
    "     # candidates\n",
    "     dict = {}\n",
    " \n",
    "     for value in votes.values():\n",
    " \n",
    "          # initialize empty list to each key to \n",
    "          # insert candidate names having same \n",
    "          # number of votes \n",
    "          dict[value] = []\n",
    " \n",
    "     for (key,value) in votes.items():\n",
    "          dict[value].append(key)\n",
    " \n",
    "     # sort keys in descending order to get maximum \n",
    "     # value of votes\n",
    "     maxVote = sorted(dict.keys(),reverse=True)[0]\n",
    " \n",
    "     # check if more than 1 candidates have same \n",
    "     # number of votes. If yes, then sort the list\n",
    "     # first and print first element\n",
    "     if len(dict[maxVote])>1:\n",
    "         print (sorted(dict[maxVote])[0])\n",
    "     else:\n",
    "         print (dict[maxVote][0])\n",
    " \n",
    "# Driver program\n",
    "if __name__ == \"__main__\":\n",
    "    input =['john','johnny','jackie','johnny','john','jackie','jamie','jamie','john','johnny','jamie','johnny','john']\n",
    "    winner(input)\n"
   ]
  },
  {
   "cell_type": "code",
   "execution_count": 6,
   "metadata": {},
   "outputs": [
    {
     "name": "stdout",
     "output_type": "stream",
     "text": [
      "true\n"
     ]
    }
   ],
   "source": [
    "# Function to check if string follows order of \n",
    "# characters defined by a pattern\n",
    "from collections import OrderedDict\n",
    " \n",
    "def checkOrder(input, pattern):\n",
    "     \n",
    "    # create empty OrderedDict\n",
    "    # output will be like {'a': None,'b': None, 'c': None}\n",
    "    dict = OrderedDict.fromkeys(input)\n",
    " \n",
    "    # traverse generated OrderedDict parallel with\n",
    "    # pattern string to check if order of characters \n",
    "    # are same or not\n",
    "    ptrlen = 0\n",
    "    for key,value in dict.items():\n",
    "        if (key == pattern[ptrlen]):\n",
    "            ptrlen = ptrlen + 1\n",
    "         \n",
    "        # check if we have traverse complete \n",
    "        # pattern string\n",
    "        if (ptrlen == (len(pattern))):\n",
    "            return 'true'\n",
    " \n",
    "    # if we come out from for loop that means \n",
    "    # order was mismatched\n",
    "    return 'false'\n",
    "  \n",
    "# Driver program\n",
    "if __name__ == \"__main__\":\n",
    "    input = 'engineers rock'\n",
    "    pattern = 'egr'\n",
    "    print( checkOrder(input,pattern))\n"
   ]
  },
  {
   "cell_type": "code",
   "execution_count": 25,
   "metadata": {},
   "outputs": [
    {
     "name": "stdout",
     "output_type": "stream",
     "text": [
      "cat tac act dog god \n"
     ]
    }
   ],
   "source": [
    "# Function to return all anagrams together\n",
    "def allAnagram(input):\n",
    "     \n",
    "    # empty dictionary which holds subsets \n",
    "    # of all anagrams together\n",
    "    dict = {}\n",
    " \n",
    "    # traverse list of strings\n",
    "    for strVal in input:\n",
    "         \n",
    "        # sorted(iterable) method accepts any \n",
    "        # iterable and rerturns list of items\n",
    "        # in ascending order\n",
    "        key = ''.join(sorted(strVal))\n",
    "         \n",
    "        # now check if key exist in dictionary\n",
    "        # or not. If yes then simply append the  \n",
    "        # strVal into the list of it's corresponding \n",
    "        # key. If not then map empty list onto\n",
    "        # key and then start appending values\n",
    "        if key in dict.keys():\n",
    "            dict[key].append(strVal)\n",
    "        else:\n",
    "            dict[key] = []\n",
    "            dict[key].append(strVal)\n",
    " \n",
    "     # traverse dictionary and concatenate values \n",
    "     # of keys together\n",
    "    output = \"\"\n",
    "    for key,value in dict.items():\n",
    "         output = output + ' '.join(value) + ' '\n",
    " \n",
    "    return output\n",
    " \n",
    "# Driver function\n",
    "if __name__ == \"__main__\":\n",
    "    input=['cat', 'dog', 'tac', 'god', 'act']\n",
    "    print( allAnagram(input))"
   ]
  },
  {
   "cell_type": "code",
   "execution_count": 75,
   "metadata": {},
   "outputs": [
    {
     "name": "stdout",
     "output_type": "stream",
     "text": [
      "All the ChainMap contents are : \n",
      "[{'a': 1, 'b': 2}, {'b': 3, 'c': 4}]\n",
      "All keys of ChainMap are : \n",
      "['a', 'c', 'b']\n",
      "All values of ChainMap are : \n",
      "[1, 4, 2]\n"
     ]
    }
   ],
   "source": [
    "#Please select Python 3 for running this code in IDE\n",
    "# Python code to demonstrate ChainMap and\n",
    "# keys(), values() and maps\n",
    " \n",
    "# importing collections for ChainMap operations\n",
    "import collections\n",
    " \n",
    "# initializing dictionaries\n",
    "dic1 = { 'a' : 1, 'b' : 2 }\n",
    "dic2 = { 'b' : 3, 'c' : 4 }\n",
    " \n",
    "# initializing ChainMap\n",
    "chain = collections.ChainMap(dic1, dic2)\n",
    " \n",
    "# printing chainMap using maps\n",
    "print (\"All the ChainMap contents are : \")\n",
    "print (chain.maps)\n",
    " \n",
    "# printing keys using keys()\n",
    "print (\"All keys of ChainMap are : \")\n",
    "print (list(chain.keys()))\n",
    " \n",
    "# printing keys using keys()\n",
    "print (\"All values of ChainMap are : \")\n",
    "print (list(chain.values()))"
   ]
  },
  {
   "cell_type": "code",
   "execution_count": 6,
   "metadata": {},
   "outputs": [
    {
     "name": "stdout",
     "output_type": "stream",
     "text": [
      "All the ChainMap contents are : \n",
      "[{'a': 1, 'b': 2}, {'b': 3, 'c': 4}]\n",
      "Displaying new ChainMap : \n",
      "[{'f': 5}, {'a': 1, 'b': 2}, {'b': 3, 'c': 4}]\n",
      "Value associated with b before reversing is : 2\n",
      "Value associated with b after reversing is : 3\n"
     ]
    }
   ],
   "source": [
    "#Please select Python 3 for running this code in IDE\n",
    "# Python code to demonstrate ChainMap and\n",
    "# reversed() and new_child()\n",
    " \n",
    "# importing collections for ChainMap operations\n",
    "import collections\n",
    " \n",
    "# initializing dictionaries\n",
    "dic1 = { 'a' : 1, 'b' : 2 }\n",
    "dic2 = { 'b' : 3, 'c' : 4 }\n",
    "dic3 = { 'f' : 5 }\n",
    " \n",
    "# initializing ChainMap\n",
    "chain = collections.ChainMap(dic1, dic2)\n",
    " \n",
    "# printing chainMap using map\n",
    "print (\"All the ChainMap contents are : \")\n",
    "print (chain.maps)\n",
    " \n",
    "# using new_child() to add new dictionary\n",
    "chain1 = chain.new_child(dic3)\n",
    " \n",
    "# printing chainMap using map\n",
    "print (\"Displaying new ChainMap : \")\n",
    "print (chain1.maps)\n",
    " \n",
    "# displaying value associated with b before reversing\n",
    "print (\"Value associated with b before reversing is : \",end=\"\")\n",
    "print (chain1['b'])\n",
    " \n",
    "# reversing the ChainMap\n",
    "chain1.maps = reversed(chain1.maps)\n",
    " \n",
    "# displaying value associated with b after reversing\n",
    "print (\"Value associated with b after reversing is : \",end=\"\")\n",
    "print (chain1['b'])\n"
   ]
  },
  {
   "cell_type": "code",
   "execution_count": 79,
   "metadata": {},
   "outputs": [],
   "source": [
    "# GraphicsManager\n",
    "\n",
    "def draw_sprite(self, name, x, y, rot):\n",
    "    \"\"\"Blits a rotated sprite onto DISPLAY_SURF with a\n",
    "    negative offset equal to half the height and\n",
    "    length of the sprite.\n",
    "    \"\"\"\n",
    "\n",
    "    rotated_sprite = pygame.transform.rotate(self.content.SPRITES[name], 360-math.degrees(rot))\n",
    "    rect = rotated_sprite.get_rect()\n",
    "    rect.center = (x, y)\n",
    "    self.DISPLAY_SURF.blit(rotated_sprite, rect)"
   ]
  },
  {
   "cell_type": "code",
   "execution_count": 10,
   "metadata": {},
   "outputs": [
    {
     "name": "stdout",
     "output_type": "stream",
     "text": [
      "6\n"
     ]
    }
   ],
   "source": [
    "a=\"banana\"\n",
    "print(len(a))"
   ]
  },
  {
   "cell_type": "code",
   "execution_count": 20,
   "metadata": {},
   "outputs": [
    {
     "name": "stdout",
     "output_type": "stream",
     "text": [
      "hello\n"
     ]
    }
   ],
   "source": [
    "mystr=\"HELlo\"\n",
    "mystr=mystr.casefold()\n",
    "print(mystr)"
   ]
  },
  {
   "cell_type": "code",
   "execution_count": 78,
   "metadata": {},
   "outputs": [
    {
     "data": {
      "text/plain": [
       "[1, 9, 25, 49, 81]"
      ]
     },
     "execution_count": 78,
     "metadata": {},
     "output_type": "execute_result"
    }
   ],
   "source": [
    "lst  =  [x ** 2  for x in range (1, 11)   if  x % 2 == 1]\n",
    "\n",
    "type(lst)\n",
    "lst"
   ]
  },
  {
   "cell_type": "code",
   "execution_count": 91,
   "metadata": {},
   "outputs": [
    {
     "name": "stdout",
     "output_type": "stream",
     "text": [
      "1427601984\n",
      "1427605184\n",
      "1427601984\n",
      "1427599424\n"
     ]
    }
   ],
   "source": [
    "\n",
    "\n",
    "a=100\n",
    "print(id(a))\n",
    "b=200\n",
    "print(id(b))\n",
    "c=100\n",
    "print(id(c))\n",
    "\n",
    "c=20\n",
    "print(id(c))\n"
   ]
  },
  {
   "cell_type": "code",
   "execution_count": 80,
   "metadata": {},
   "outputs": [
    {
     "name": "stdout",
     "output_type": "stream",
     "text": [
      "[10, 12, 14, 15, 18, 21, 20, 24, 28]\n"
     ]
    }
   ],
   "source": [
    "vec1=[2,3,4]\n",
    "vec2=[5,6,7]\n",
    "l = []\n",
    "for i in vec1:\n",
    "    for j in vec2:\n",
    "        l.append(i*j)\n",
    "print(l)    "
   ]
  },
  {
   "cell_type": "code",
   "execution_count": 46,
   "metadata": {},
   "outputs": [
    {
     "name": "stdout",
     "output_type": "stream",
     "text": [
      "the tram is deleted\n",
      "Now the vehicle list is : ['car', 'jeep', 'bus', 'scooter']\n"
     ]
    }
   ],
   "source": [
    "vehicle=['tram', 'car','jeep','bus','scooter']\n",
    "oldvehicle=vehicle[0]\n",
    "del vehicle[0]\n",
    "print(\"the\", oldvehicle ,\"is deleted\")\n",
    "print(\"Now the vehicle list is :\",vehicle)\n"
   ]
  },
  {
   "cell_type": "code",
   "execution_count": 11,
   "metadata": {},
   "outputs": [
    {
     "name": "stdout",
     "output_type": "stream",
     "text": [
      "['tram', 'car', 'jeep', 'bus', 'scooter']\n",
      "['tram', 'car', 'jeep', 'bus', 'scooter', 'tractor']\n",
      "['tram', 'car', 'jeep', 'bus', 'scooter', 'tractor']\n"
     ]
    }
   ],
   "source": [
    "vehicle=['tram', 'car','jeep','bus','scooter']\n",
    "\n",
    "n1=vehicle[:]\n",
    "\n",
    "new_vehicle=vehicle\n",
    "print(new_vehicle)\n",
    "new_vehicle.append('tractor')\n",
    "print(new_vehicle)\n",
    "print(vehicle)\n",
    "\n",
    "\n",
    "#nesting of dictionaries\n",
    "\n",
    "d={'name':'seeema'}\n",
    "d1={'children':['an','cb', 'xy']}"
   ]
  },
  {
   "cell_type": "code",
   "execution_count": 93,
   "metadata": {},
   "outputs": [],
   "source": [
    "vehicle=['tram', 'car','jeep','bus','scooter']\n",
    "\n",
    "n1=vehicle"
   ]
  },
  {
   "cell_type": "code",
   "execution_count": 94,
   "metadata": {},
   "outputs": [
    {
     "name": "stdout",
     "output_type": "stream",
     "text": [
      "1392927492104\n",
      "1392927851272\n"
     ]
    }
   ],
   "source": [
    "print(id(vehicle))\n",
    "print(id(n1))"
   ]
  },
  {
   "cell_type": "code",
   "execution_count": 5,
   "metadata": {},
   "outputs": [
    {
     "data": {
      "text/plain": [
       "{0: 0, 1: 1, 2: 1, 3: 2, 4: 3, 5: 5, 6: 8, 7: 13, 8: 21}"
      ]
     },
     "execution_count": 5,
     "metadata": {},
     "output_type": "execute_result"
    }
   ],
   "source": []
  },
  {
   "cell_type": "code",
   "execution_count": null,
   "metadata": {},
   "outputs": [],
   "source": []
  }
 ],
 "metadata": {
  "kernelspec": {
   "display_name": "Python 3",
   "language": "python",
   "name": "python3"
  },
  "language_info": {
   "codemirror_mode": {
    "name": "ipython",
    "version": 3
   },
   "file_extension": ".py",
   "mimetype": "text/x-python",
   "name": "python",
   "nbconvert_exporter": "python",
   "pygments_lexer": "ipython3",
   "version": "3.6.4"
  }
 },
 "nbformat": 4,
 "nbformat_minor": 2
}
