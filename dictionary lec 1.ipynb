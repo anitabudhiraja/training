{
 "cells": [
  {
   "cell_type": "code",
   "execution_count": 24,
   "metadata": {},
   "outputs": [
    {
     "name": "stdout",
     "output_type": "stream",
     "text": [
      "1\n",
      "5\n"
     ]
    }
   ],
   "source": [
    "#Dictionary\n",
    "d={}\n",
    "type(d)\n",
    "alpha={'a':1,'b':2,'c':3, 'j':10,'k':11, 'x':24, 'y':25,'z':26,'e':5}\n",
    "\n",
    "for key,value in alpha.items():\n",
    "    \n",
    "    if key in \"aeiou\":\n",
    "        print(alpha[key])"
   ]
  },
  {
   "cell_type": "code",
   "execution_count": null,
   "metadata": {},
   "outputs": [],
   "source": [
    "vowel=0\n",
    "str=\"Computer is an electronic device and it is very accurate\"\n",
    "vowels=\"aeiou\"\n",
    "for char in str:\n",
    "    if char in vowels:\n",
    "        vowel=vowel+1       \n",
    "print(\"total vowels are :\", vowel)\n",
    "\n",
    "str.endswith(\"ate\")\n",
    "#Membership test\n",
    "#lists\n",
    "#tuples\n",
    "#sets\n",
    "#strings\n",
    "\n",
    "#index   *  +   slice   membership test\n",
    "\n",
    "\n",
    "\n"
   ]
  },
  {
   "cell_type": "code",
   "execution_count": 25,
   "metadata": {},
   "outputs": [
    {
     "data": {
      "text/plain": [
       "{1: 'a', 2: 'b', 3: 'c', 4: 'd', 5: 'e', 6: 'f'}"
      ]
     },
     "execution_count": 25,
     "metadata": {},
     "output_type": "execute_result"
    }
   ],
   "source": [
    "d = {}\n",
    "type(d)\n",
    "d={1:'a', 2:'b', 3: 'c', 4:'d', 5:'e'}\n",
    "d[6] = 'f'\n",
    "\n",
    "d1 = d    # pointer address\n",
    "d1\n",
    "d"
   ]
  },
  {
   "cell_type": "code",
   "execution_count": 26,
   "metadata": {},
   "outputs": [],
   "source": [
    "d1[8] = 'i'"
   ]
  },
  {
   "cell_type": "code",
   "execution_count": 39,
   "metadata": {},
   "outputs": [
    {
     "name": "stdout",
     "output_type": "stream",
     "text": [
      "[4, 5, 6, 'a', 3.4, 'neena', 78]\n",
      "[4, 5, 6, 'a', 3.4, 'neena', 78]\n",
      "[4, 5, 6, 'a', 3.4, 'neena', 78]\n",
      "[4, 5, 6, 'a', 3.4, 'neena', 78]\n"
     ]
    }
   ],
   "source": [
    "lst =[ 4,5,6,'a',3.4, 'neena']\n",
    "lst1=lst\n",
    "lst1.append(78)\n",
    "lst2=lst.copy()\n",
    "lst3=lst1\n",
    "print(lst3)\n",
    "print(lst2)\n",
    "print(lst)\n",
    "print(lst1)"
   ]
  },
  {
   "cell_type": "code",
   "execution_count": 45,
   "metadata": {},
   "outputs": [
    {
     "name": "stdout",
     "output_type": "stream",
     "text": [
      "2247537591368\n",
      "2247537591368\n",
      "2247537591368\n",
      "2247537045896\n"
     ]
    }
   ],
   "source": [
    "print(id(lst))\n",
    "print(id(lst1))\n",
    "print(id(lst3))\n",
    "print(id(lst2))"
   ]
  },
  {
   "cell_type": "code",
   "execution_count": null,
   "metadata": {},
   "outputs": [],
   "source": [
    "set1={3,34,55,55,6,34,3,55,7}\n",
    "set1\n",
    "set1.add(456)\n",
    "set1.remove(55)\n",
    "set1.add(10)\n",
    "set1\n"
   ]
  },
  {
   "cell_type": "code",
   "execution_count": null,
   "metadata": {},
   "outputs": [],
   "source": [
    "vowel=0\n",
    "lst=['C','o','m','p','u','t','e','r']\n",
    "d={ 'seema' : [76,89,90,76,56], 'jim': [87,92], 'anu':[83,73,99,34,35,87,76]\n",
    "for char in range(0,len(lst)):\n",
    "    if lst[char] in \"aeiou\":\n",
    "        vowel=vowel+1       \n",
    "print(\"total vowels are :\", vowel)"
   ]
  },
  {
   "cell_type": "code",
   "execution_count": 46,
   "metadata": {},
   "outputs": [],
   "source": [
    "mail={'a.budhiraja@nielit.gov.in' : 'anita', 'suman@nielit.gov.in' : 'suman',\n",
    "     'raman@gmail.com': 'raman', 'anil@rediff.com' : 'raman'}\n",
    "\n",
    "\n",
    "\n"
   ]
  },
  {
   "cell_type": "code",
   "execution_count": 90,
   "metadata": {},
   "outputs": [
    {
     "data": {
      "text/plain": [
       "dict_items([('seema', {'Physics': 76, 'Chem': 89, 'Maths': 90}), ('jim', {'Physics': 76, 'Chem': 76, 'Maths': 90}), ('anu', {'Physics': 77, 'Chem': 99, 'Maths': 95})])"
      ]
     },
     "execution_count": 90,
     "metadata": {},
     "output_type": "execute_result"
    }
   ],
   "source": [
    "d={ 'seema' : {'Physics' : 76, 'Chem':89, 'Maths':90},\n",
    "     'jim': {'Physics' : 76, 'Chem':76, 'Maths':90}, \n",
    "    'anu':{'Physics' : 77, 'Chem':99, 'Maths':95}}\n",
    "\n",
    "#Q Make a new dict, with name and totals of the given 3 students)\n",
    "stud={'seema':453, 'jim': 333, 'anu' : 234}\n",
    "d.items()  "
   ]
  },
  {
   "cell_type": "code",
   "execution_count": 91,
   "metadata": {},
   "outputs": [
    {
     "name": "stdout",
     "output_type": "stream",
     "text": [
      "{'seema': 255, 'jim': 242, 'anu': 271}\n"
     ]
    }
   ],
   "source": [
    "d={ 'seema' : {'Physics' : 76, 'Chem':89, 'Maths':90},\n",
    "     'jim': {'Physics' : 76, 'Chem':76, 'Maths':90}, \n",
    "    'anu':{'Physics' : 77, 'Chem':99, 'Maths':95}}\n",
    "total={}\n",
    "\n",
    "for name,subject in d.items():\n",
    "    sum=0\n",
    "    for sub,marks in subject.items():\n",
    "        sum=sum+marks   \n",
    "        total[name]=sum\n",
    "print(total)     "
   ]
  },
  {
   "cell_type": "code",
   "execution_count": 87,
   "metadata": {},
   "outputs": [
    {
     "name": "stdout",
     "output_type": "stream",
     "text": [
      "{'seema': 387, 'jim': 87, 'anu': 487}\n"
     ]
    }
   ],
   "source": [
    "#Q Make a new dict, with name and totals of the given 3 students)\n",
    "\n",
    "totmarks={}\n",
    "for name,marks in d.items():\n",
    "    sum=0\n",
    "    for m in marks:\n",
    "        sum=sum+m\n",
    "    totmarks[name]=sum \n",
    "    \n",
    "print(totmarks)\n",
    "    "
   ]
  },
  {
   "cell_type": "code",
   "execution_count": 83,
   "metadata": {},
   "outputs": [
    {
     "name": "stdout",
     "output_type": "stream",
     "text": [
      "[255, 272, 255]\n"
     ]
    }
   ],
   "source": [
    "#Q Make a new list, with 3 totals of the given 3 students)\n",
    "\n",
    "totmarks=[]\n",
    "for name,marks in d.items():\n",
    "    tot = marks[0] + marks[1] + marks[2]\n",
    "    totmarks.append(tot)\n",
    "    \n",
    "print(totmarks)\n",
    "    "
   ]
  },
  {
   "cell_type": "code",
   "execution_count": null,
   "metadata": {},
   "outputs": [],
   "source": [
    "newlist=[]\n",
    "student={11:['Manu',(90,80,70)], 22:['Aajat',(90,87,87)], 33: ['Rahul',(76,77,78)]}\n",
    "for stud in student.items():\n",
    "    add=stud[1][1][0]+stud[1][1][1]+stud[1][1][2]\n",
    "    newlist.append(add)\n",
    "    \n",
    "    #print(stud)\n",
    "print(\"sum is : \", newlist)"
   ]
  },
  {
   "cell_type": "code",
   "execution_count": 62,
   "metadata": {},
   "outputs": [
    {
     "data": {
      "text/plain": [
       "255"
      ]
     },
     "execution_count": 62,
     "metadata": {},
     "output_type": "execute_result"
    }
   ],
   "source": [
    "#d['anu'][0] + d['anu'][1] + d['anu'][2] \n",
    "d['jim'][0] + d['jim'][1] + d['jim'][2] \n",
    "d['seema'][0] + d['seema'][1] + d['seema'][2] "
   ]
  },
  {
   "cell_type": "code",
   "execution_count": 161,
   "metadata": {},
   "outputs": [
    {
     "name": "stdout",
     "output_type": "stream",
     "text": [
      "enter the word to make a histogramsuccessful\n",
      "{'s': 3, 'u': 2, 'c': 2, 'e': 1, 'f': 1, 'l': 1}\n"
     ]
    }
   ],
   "source": [
    "d={ 1: ['mini','neena'], 2: ['seema','ram','kim'], 3: [' jim'], 4: [' heena']}\n",
    "\n",
    "\n",
    "#Q enter a word and print count of alphabets in it\n",
    "\n",
    "\n",
    "#{s:3, u: 2, c: 2, e:1 f:1 ,l:1}\n",
    "def histogram(word):\n",
    "    histogram={}\n",
    "    for alpha in word:\n",
    "        if alpha in histogram:\n",
    "            histogram[alpha]=  histogram[alpha] +1\n",
    "        else:\n",
    "            histogram[alpha] = 1\n",
    "    return histogram\n",
    "\n",
    "word=input(\"enter the word to make a histogram\")\n",
    "hist = histogram(word)\n",
    "print(hist)"
   ]
  },
  {
   "cell_type": "code",
   "execution_count": 138,
   "metadata": {},
   "outputs": [
    {
     "data": {
      "text/plain": [
       "{1: 'neena', 2: 'seema', 3: ' jim', 4: ' heena', 5: 'meena'}"
      ]
     },
     "execution_count": 138,
     "metadata": {},
     "output_type": "execute_result"
    }
   ],
   "source": [
    "d[5] = 'meena'\n",
    "d"
   ]
  },
  {
   "cell_type": "code",
   "execution_count": 142,
   "metadata": {},
   "outputs": [
    {
     "data": {
      "text/plain": [
       "{1: 'rahul', 2: 'seema', 3: ' jim', 4: ' heena', 5: 'meena'}"
      ]
     },
     "execution_count": 142,
     "metadata": {},
     "output_type": "execute_result"
    }
   ],
   "source": [
    "d[1]= 'rahul'\n",
    "\n",
    "d"
   ]
  },
  {
   "cell_type": "code",
   "execution_count": 92,
   "metadata": {},
   "outputs": [
    {
     "ename": "NameError",
     "evalue": "name 'suman' is not defined",
     "output_type": "error",
     "traceback": [
      "\u001b[1;31m---------------------------------------------------------------------------\u001b[0m",
      "\u001b[1;31mNameError\u001b[0m                                 Traceback (most recent call last)",
      "\u001b[1;32m<ipython-input-92-c89ed91cf19e>\u001b[0m in \u001b[0;36m<module>\u001b[1;34m()\u001b[0m\n\u001b[1;32m----> 1\u001b[1;33m mail={'a.budhiraja@nielit.gov.in' : 'anita', 'suman@nielit.gov.in' : suman,\n\u001b[0m\u001b[0;32m      2\u001b[0m      \u001b[1;34m'raman@gmail.com'\u001b[0m\u001b[1;33m:\u001b[0m \u001b[1;34m'raman'\u001b[0m\u001b[1;33m,\u001b[0m \u001b[1;34m'anil@rediff.com'\u001b[0m \u001b[1;33m:\u001b[0m \u001b[1;34m'raman'\u001b[0m\u001b[1;33m,\u001b[0m\u001b[1;33m\u001b[0m\u001b[0m\n\u001b[0;32m      3\u001b[0m      'a.budhiraja@nielit.gov.in' : 'sunita'}\n",
      "\u001b[1;31mNameError\u001b[0m: name 'suman' is not defined"
     ]
    }
   ],
   "source": [
    "mail={'a.budhiraja@nielit.gov.in' : 'anita', 'suman@nielit.gov.in' : 'suman',\n",
    "     'raman@gmail.com': 'raman', 'anil@rediff.com' : 'raman',\n",
    "     'a.budhiraja@nielit.gov.in' : 'sunita'}"
   ]
  },
  {
   "cell_type": "code",
   "execution_count": 163,
   "metadata": {},
   "outputs": [
    {
     "data": {
      "text/plain": [
       "['This',\n",
       " 'course',\n",
       " 'is',\n",
       " 'about',\n",
       " 'Python',\n",
       " 'Python',\n",
       " 'course',\n",
       " 'is',\n",
       " 'great',\n",
       " 'This',\n",
       " 'Course',\n",
       " 'is',\n",
       " 'good']"
      ]
     },
     "execution_count": 163,
     "metadata": {},
     "output_type": "execute_result"
    }
   ],
   "source": [
    "str=\"This course is about Python. Python course is great. This Course is good.\"\n",
    "str=str.replace(\".\",\"\")\n",
    "wordlist=str.split(\" \")\n",
    "wordlist"
   ]
  },
  {
   "cell_type": "code",
   "execution_count": 164,
   "metadata": {},
   "outputs": [
    {
     "name": "stdout",
     "output_type": "stream",
     "text": [
      "{'This': 2, 'course': 2, 'is': 3, 'about': 1, 'Python': 2, 'great': 1, 'Course': 1, 'good': 1}\n"
     ]
    }
   ],
   "source": [
    "#count the number of times each word is occuring \n",
    "str=\"This course is about Python. Python course is great. This Course is good.\"\n",
    "str=str.replace(\".\",\"\")\n",
    "wordlist=str.split(\" \")\n",
    "countword={}\n",
    "\n",
    "for word in wordlist:\n",
    "    if word in countword:\n",
    "        countword[word] = countword[word] + 1\n",
    "    else:\n",
    "        countword[word] = 1\n",
    "print(countword)"
   ]
  },
  {
   "cell_type": "code",
   "execution_count": 168,
   "metadata": {},
   "outputs": [],
   "source": [
    "def makedic(str):\n",
    "    str=str.replace(\".\",\"\").replace(\",\",\" \").replace('\"',\" \")\n",
    "    wordlist=str.split(\" \")\n",
    "    countword={}\n",
    "    for word in wordlist:\n",
    "        if word in countword:\n",
    "            countword[word] = countword[word] + 1\n",
    "        else:\n",
    "            countword[word] = 1\n",
    "    return countword\n",
    "\n",
    "def main():\n",
    "    str=input(\"enter the string to find unique word count\")\n",
    "    d= makedic(str)\n",
    "    return d"
   ]
  },
  {
   "cell_type": "code",
   "execution_count": 169,
   "metadata": {},
   "outputs": [
    {
     "name": "stdout",
     "output_type": "stream",
     "text": [
      "enter the string to find unique word counthello how hello are you you are \n"
     ]
    },
    {
     "data": {
      "text/plain": [
       "{'': 1, 'are': 2, 'hello': 2, 'how': 1, 'you': 2}"
      ]
     },
     "execution_count": 169,
     "metadata": {},
     "output_type": "execute_result"
    }
   ],
   "source": [
    "main()"
   ]
  },
  {
   "cell_type": "code",
   "execution_count": null,
   "metadata": {},
   "outputs": [],
   "source": [
    "{'This': 2, 'course': 2, 'is': 3, 'about': 1, 'Python': 2, 'at' : 1}"
   ]
  },
  {
   "cell_type": "code",
   "execution_count": null,
   "metadata": {},
   "outputs": [],
   "source": [
    "Q write a function to reverse the dictionary\n",
    "{1: ['about', 'at'], 2 : ['This', 'course', 'Python'], 3: ['is']  }\n",
    "\n",
    "Q Enter a word  successful\n",
    "\n",
    "{s: 3, u:2, c:2.....}\n",
    "\n",
    "Q Write a function in which you pass a dictionary and a key u want to search,\n",
    "look for that key in the dictionary and return the valye of that key\n"
   ]
  },
  {
   "cell_type": "code",
   "execution_count": 32,
   "metadata": {},
   "outputs": [
    {
     "name": "stdout",
     "output_type": "stream",
     "text": [
      "{'mango': 3, 'orange': 2, 'banana': 1, 'strawberry': 1}\n"
     ]
    }
   ],
   "source": [
    "fruitdic={}\n",
    "lst=[\"mango\", \"orange\",\"banana\", \"mango\", \"orange\",  \"mango\",\"strawberry\"]\n",
    "for fruit in lst:\n",
    "    if fruit not in fruitdic:\n",
    "        fruitdic[fruit]=1\n",
    "    else:\n",
    "        fruitdic[fruit] = fruitdic[fruit] + 1\n",
    "    \n",
    "print(fruitdic)"
   ]
  },
  {
   "cell_type": "code",
   "execution_count": 105,
   "metadata": {},
   "outputs": [
    {
     "name": "stdout",
     "output_type": "stream",
     "text": [
      "{'apple': 3, 'is': 3, 'good': 1, 'eat': 1, 'red': 2, 'favorite': 1}\n"
     ]
    }
   ],
   "source": [
    "makedic(\"apple is good apple eat apple is red red is favorite\")"
   ]
  },
  {
   "cell_type": "code",
   "execution_count": null,
   "metadata": {},
   "outputs": [],
   "source": [
    "d={ 'seema' : 76, 'jim': 87, 0:10, 'seemas':100, 'anu':8373}\n",
    "mail={'a.budhiraja@nielit.gov.in' : 'anita', 'suman@nielit.gov.in' : suman,\n",
    "     'raman@gmail.com': 'raman', 'anil@rediff.com' : 'raman',\n",
    "     'a.budhiraja@nielit.gov.in' : 'sunita'}\n",
    "\n",
    "a['india']\n",
    "#key immutable\n",
    "#value  repeat\n",
    "\n",
    "#hashing\n",
    "d['jim']\n",
    "\n",
    "{'gmail.com' :4, 'nielit.gov.in' : 2, 'yahoo.com' : 3, 'rediff.com':1}"
   ]
  },
  {
   "cell_type": "code",
   "execution_count": 27,
   "metadata": {},
   "outputs": [],
   "source": [
    "maillist=[\"From stephen.marquard@gmail.com Sat Jan  5 09:14:16 2008\",\n",
    "\"From rahul@nielit.gov.in Sat Jan  5 09:14:16 2008\",\n",
    "\"From stephen.marquard@gmail.com Sat Jan  5 09:14:16 2008\",\n",
    "\"From anita@nielit.gov.in Sat Jan  5 09:14:16 2008\",\n",
    "\"From rajeshkumar@yahoo.com Sat Jan  5 09:14:16 2008\",\n",
    "\"From meenu@yahoo.com Sat Jan  5 09:14:16 2008\",\n",
    "\"From rashmi@rediff.com Sun Jan  5 09:14:16 2008\", \n",
    "\"From rashmi@gmail.com Sun Jan  5 09:14:16 2008\",\n",
    "\"From rash@gmail.com Sun Jan  5 09:14:16 2008\" , \n",
    "\"From rash@yahoo.com Sun Jan  5 09:14:16 2008\",\n",
    "\"From rashmi@solutions.net Sun Jan  5 09:14:16 2008\", \n",
    "\"From rashmi@yahoo.com Sun Jan  5 09:14:16 2008\",\n",
    "\"From rashmi@rcc.net Sun Jan  5 09:14:16 2008\"]"
   ]
  },
  {
   "cell_type": "code",
   "execution_count": 28,
   "metadata": {},
   "outputs": [
    {
     "data": {
      "text/plain": [
       "{'gmail.com': 4,\n",
       " 'nielit.gov.in': 2,\n",
       " 'rediff.com': 1,\n",
       " 'solutions.net': 1,\n",
       " 'yahoo.com': 4}"
      ]
     },
     "execution_count": 28,
     "metadata": {},
     "output_type": "execute_result"
    }
   ],
   "source": [
    "gmail=rediff=yahoo=nielit=0\n",
    "maildic={}\n",
    "for mail in maillist:\n",
    "    atpos = mail.find(\"@\")\n",
    "    topos=mail.find(\" \",atpos )\n",
    "    m=mail[atpos+1:topos]\n",
    "    if m in maildic:\n",
    "        maildic[m]=maildic[m]+1\n",
    "    else:\n",
    "        maildic[m]=1        \n",
    "maildic    "
   ]
  },
  {
   "cell_type": "code",
   "execution_count": null,
   "metadata": {},
   "outputs": [],
   "source": [
    "#for mail in range(0,len(maillist)):\n",
    "#mail[i]\n",
    "gmail=rediff=yahoo=nielit=0\n",
    "\n",
    "for mail in maillist:\n",
    "    atpos = mail.find(\"@\")\n",
    "    topos=mail.find(\" \",atpos )\n",
    "    m=mail[atpos+1:topos]\n",
    "    if m == \"nielit.gov.in\":\n",
    "        nielit=nielit+1\n",
    "    elif m== \"yahoo.com\":\n",
    "        yahoo=yahoo+1\n",
    "    elif m== \"rediff.com\":\n",
    "        rediff=rediff+1\n",
    "    elif m== \"gmail.com\":\n",
    "        gmail+=1\n",
    "        \n",
    "print(\"total mails from rediff :\", rediff)\n",
    "print(\"total mails from yahoo :\", yahoo)\n",
    "print(\"total mails from nielit:\", nielit)\n",
    "print(\"total mails from gmail:\", gmail)"
   ]
  },
  {
   "cell_type": "code",
   "execution_count": null,
   "metadata": {},
   "outputs": [],
   "source": [
    "maildict={\"stephen\"  :   \"stephen.marquard@gmail.com\",\n",
    "              \"rahul\"    : \"rahul@nielit.gov.in\",\n",
    "              \"stephen\"  : \"stephen.marquard@gmail.com\",\n",
    "              \"anita\"    : \"anita@nielit.gov.in\",\n",
    "               \"sunita\"    : \"anita@nielit.gov.in\",\n",
    "              \"rajesh\"   :\"rajeshkumar@yahoo.com\",\n",
    "              'meenu' :'meenu@gmail.com',\n",
    "              'rajat':'rajat@gmail.com',\n",
    "               'rajat1':'rajat1@rediff.com',\n",
    "               'mini':'mini@rediff.com',\n",
    "               'jini':'jini@hotmail.com'\n",
    "         }\n",
    "    \n",
    "#list[ (\"stephen\", \"stephen.marquard@gmail.com\"), (\"rahul\", \"rahul@nielit.gov.in\")    ]\n",
    "    \n",
    "    \n",
    "#hashing is the fastest search technique\n",
    "#loop\n",
    "\n",
    "def lookup( maildict, mail  ):\n",
    "    if mail in maildict:\n",
    "        return maildict[mail]\n",
    "    else:\n",
    "        return \"Not Found\" \n",
    "\n",
    "def histogram(maildict):\n",
    "    hist={}\n",
    "    for i in maildict.values():\n",
    "        mailid=(i[i.find(\"@\")+1: ])\n",
    "        \n",
    "        if mailid in hist:\n",
    "            #this email id already present in dict\n",
    "            hist[mailid] = hist[mailid] + 1\n",
    "        else:\n",
    "            #this is a new value or not present in dict\n",
    "            hist[mailid] = 1\n",
    "    return hist\n",
    "\n",
    "def revdict(hist):\n",
    "    revd={}\n",
    "    print(hist.items())\n",
    "    for key,value in hist.items():\n",
    "        if value in revd:\n",
    "            revd[value].append(key)\n",
    "        else:\n",
    "            revd[value]=[key]\n",
    "    return revd\n",
    "#building a histogram\n",
    "#gmail.com :5  , nielit.gov.in: 6, yahoo.com : 2, \n",
    "def main():\n",
    "    maildict={}\n",
    "    \n",
    "    hist= histogram(maildict)\n",
    "    print(\"count of emails is \", hist)\n",
    "    v=lookup(maildict,\"rajat\")\n",
    "    #print(\"Email of rajat is \", v)\n",
    "    #revd = revdict(hist)\n",
    "    print()\n",
    "    #print(\"Reversed dictionary is \", revd)\n",
    "    revd= revdict(hist)\n",
    "    print(\"Reversed dictionary is \", revd)\n",
    "main()   \n",
    "  #reverse dictionary\n",
    "\n",
    "#{'gmail.com': 3, 'nielit.gov.in': 3, 'yahoo.com': 1, 'rediff.com': 2, 'hotmail.com': 1}\n",
    "\n",
    "#{1: ['yahoo.com', 'hotmail.com'],  2: ['rediff.com'], 3: ['gmail.com', 'nielit.com']    }\n"
   ]
  },
  {
   "cell_type": "code",
   "execution_count": null,
   "metadata": {},
   "outputs": [],
   "source": [
    "def build_char_histogram(s):\n",
    "    d={}\n",
    "    for ch in s:\n",
    "        d[ch]=s.count(ch)\n",
    "        \n",
    "    return d\n",
    "s=input(\"Enter word : \")\n",
    "d=build_char_histogram(s)\n",
    "print(d)"
   ]
  },
  {
   "cell_type": "code",
   "execution_count": null,
   "metadata": {},
   "outputs": [],
   "source": [
    "def freq(str):\n",
    "     # break the string into list of words \n",
    "    str = str.split()         \n",
    "    str2 = []\n",
    "    for i in str:             \n",
    "        # checking for the duplicacy\n",
    "        if i not in str2:\n",
    "            # insert value in str2\n",
    "            str2.append(i) \n",
    "             \n",
    "    for i in range(0, len(str2)):\n",
    "        print( 'Frequency of', str2[i], 'is :', str.count(str2[i]))    \n",
    " \n",
    "def main():\n",
    "    str ='apple mango apple orange orange apple guava mango mango tree'\n",
    "    freq(str)"
   ]
  },
  {
   "cell_type": "code",
   "execution_count": null,
   "metadata": {},
   "outputs": [],
   "source": [
    "str ='apple mango apple orange orange apple guava mango mango tree mango'\n",
    "dict={}\n",
    "for i in str.split():\n",
    "    if i in dict:\n",
    "        dict[i]=dict[i] + 1\n",
    "    else:\n",
    "        dict[i]=1\n",
    "        print(dict)\n",
    "\n",
    "\n",
    "lst=[5,6,7,8,9]\n",
    "if 7 in lst:\n",
    "    print(\"7\")\n",
    "        \n",
    "\n",
    "if 'mango' in dict:\n",
    "    dict['mango']"
   ]
  },
  {
   "cell_type": "code",
   "execution_count": null,
   "metadata": {},
   "outputs": [],
   "source": [
    "vowel=0\n",
    "str=[\"this\", \"is\" ,\"a\", \"computer\", \"and\" ,\"an\" ,\"electronic\" ,\"device\"]\n",
    "vowels=('a','e','i','o','u')\n",
    "#vowels=\"aeiou\"\n",
    "\n",
    "for element in str:  #this\n",
    "    for char in element:\n",
    "        if char in vowels:\n",
    "            vowel=vowel+1\n",
    "print(\"vowels in \", str, \" are \", vowel)"
   ]
  },
  {
   "cell_type": "code",
   "execution_count": 9,
   "metadata": {},
   "outputs": [
    {
     "name": "stdout",
     "output_type": "stream",
     "text": [
      "id of lst in main is : 2454086890824\n",
      "id of lst in sum is : 2454086890824\n",
      "id of lst in main is : 2454086890824\n",
      "sum is  280\n"
     ]
    }
   ],
   "source": [
    "def sum1(lst):\n",
    "    s=0\n",
    "    print(\"id of lst in sum is :\", id(lst))\n",
    "    for i in lst:\n",
    "        s=s+i\n",
    "    return s\n",
    "\n",
    "\n",
    "def main():\n",
    "    lst=[10,20,30,40,50,60,70]\n",
    "    \n",
    "    print(\"id of lst in main is :\", id(lst))\n",
    "    k=sum1(lst)\n",
    "    print(\"id of lst in main is :\", id(lst))\n",
    "    print(\"sum is \", k)\n",
    "main()"
   ]
  },
  {
   "cell_type": "code",
   "execution_count": 82,
   "metadata": {},
   "outputs": [
    {
     "name": "stdout",
     "output_type": "stream",
     "text": [
      "2454087843144\n",
      "2454087843144\n"
     ]
    }
   ],
   "source": [
    "lst =[90,80,67,34]\n",
    "print(id(lst))\n",
    "lst[3]=100\n",
    "print(id(lst))\n"
   ]
  },
  {
   "cell_type": "code",
   "execution_count": 133,
   "metadata": {},
   "outputs": [
    {
     "name": "stdout",
     "output_type": "stream",
     "text": [
      "enter a string to reversethis is interesting\n",
      "sht s gntsrtn \n"
     ]
    }
   ],
   "source": [
    "#retupmuc  si  na  cinortcele  ecived\n",
    "\n",
    "def reversewords(s):\n",
    "    x=\"\"\n",
    "    vowel=\"aeiow\"\n",
    "    #vowel=['a','e', 'i','o', 'u']\n",
    "    t1= s.split()\n",
    "    for ele in t1:\n",
    "        x = x + ele[::-1] + \" \"\n",
    "        y=\"\"\n",
    "        for i in x:\n",
    "            if i not in vowel:\n",
    "                y=y+i\n",
    "    return y\n",
    "    \n",
    "def main():\n",
    "    str=input(\"enter a string to reverse\")\n",
    "    x=reversewords(str)\n",
    "    print(x)\n",
    "main()"
   ]
  },
  {
   "cell_type": "code",
   "execution_count": 122,
   "metadata": {},
   "outputs": [
    {
     "name": "stdout",
     "output_type": "stream",
     "text": [
      "retupmoc si na cinortcele secived "
     ]
    }
   ],
   "source": [
    "s = 'computer is an electronic devices'\n",
    "t1= s.split()\n",
    "for ele in t1:\n",
    "    ele = ele[::-1]\n",
    "    print(ele, end=' ')\\"
   ]
  },
  {
   "cell_type": "code",
   "execution_count": 139,
   "metadata": {},
   "outputs": [
    {
     "name": "stdout",
     "output_type": "stream",
     "text": [
      "['a', 'l', 's', 't']\n",
      "['a', 'l', 's', 't']\n",
      "anagrams\n"
     ]
    }
   ],
   "source": [
    "#anagrams\n",
    "l=['salt','last']\n",
    "print(sorted(l[0]))\n",
    "print(sorted(l[1]))\n",
    "\n",
    "\n",
    "if sorted(l[0]) == sorted(l[1]):\n",
    "    print(\"anagrams\")\n",
    "else:\n",
    "    print(\"not anagrams\")\n",
    "    \n",
    "{'salt':['last', 'lats'], 'rat': [  ]}"
   ]
  },
  {
   "cell_type": "code",
   "execution_count": null,
   "metadata": {},
   "outputs": [],
   "source": [
    "list1 =['Tar', 'Rat', 'Arc', 'Car', 'Elbow',  \\\n",
    "        'Below', 'State', 'Taste', 'tar','Cider', 'Cried']\n",
    "for ele in list1:\n",
    "    for secele in list1:\n",
    "        \n",
    "            \n",
    "    if bool = True :\n",
    "        print('right')"
   ]
  },
  {
   "cell_type": "code",
   "execution_count": 128,
   "metadata": {},
   "outputs": [
    {
     "name": "stdout",
     "output_type": "stream",
     "text": [
      "['computer', 'is', 'an', 'electronic', 'device']\n",
      "retupmoc si na cinortcele ecived \n"
     ]
    }
   ],
   "source": [
    "a = \"computer is an electronic device\"\n",
    "b =a.split(\" \")\n",
    "print(b)\n",
    "x=\"\"\n",
    "for val in b:\n",
    "    x = x + val[::-1] + \" \"\n",
    "print(x)"
   ]
  },
  {
   "cell_type": "code",
   "execution_count": 143,
   "metadata": {},
   "outputs": [
    {
     "name": "stdout",
     "output_type": "stream",
     "text": [
      "defaultdict(<class 'list'>, {})\n",
      "(('s', 1), ('a', 1), ('l', 1), ('t', 1))\n",
      "(('l', 1), ('a', 1), ('s', 1), ('t', 1))\n",
      "[['salt'], ['last']]\n"
     ]
    }
   ],
   "source": [
    "from collections import Counter, defaultdict\n",
    "def  anagram_check(keywords):\n",
    "    anagrams = defaultdict(list)\n",
    "    print(anagrams)\n",
    "    \n",
    "    for i in keywords:\n",
    "        histogram = tuple(Counter(i).items())\n",
    "        print(histogram)\n",
    "        anagrams[histogram].append(i)\n",
    "    return list(anagrams.values())\n",
    "\n",
    "keywords = (\"salt\",\"last\")\n",
    "print(anagram_check(keywords))"
   ]
  },
  {
   "cell_type": "code",
   "execution_count": 14,
   "metadata": {},
   "outputs": [],
   "source": [
    "person={}\n",
    "person['fname']='Sonia'\n",
    "person['lname']='Suri'\n",
    "person['age']=52\n",
    "person['children']=['anu','renu','anil','reema','tina']\n",
    "person['pets']={'dog': 'dubo','cat' : 'cutie'}\n",
    "person['friends']={'close':['anu','beena','hari','rahul'], 'not close':['meena','suman']}"
   ]
  },
  {
   "cell_type": "code",
   "execution_count": 78,
   "metadata": {},
   "outputs": [
    {
     "name": "stdout",
     "output_type": "stream",
     "text": [
      "(9, 1.25, 20, 1)\n",
      "{'sum': 9, 'Div': 1.25, 'Mul': 20, 'Sub': 1}\n"
     ]
    }
   ],
   "source": [
    "def calc(a,b):\n",
    "    s=a+b\n",
    "    d=a/b\n",
    "    m=a*b\n",
    "    t=a-b   \n",
    "    return s,d,m,t\n",
    "\n",
    "def main():\n",
    "    k=calc(5,4)\n",
    "    print(k)\n",
    "    \n",
    "    t=[('sum',k[0]),('Div',k[1]),('Mul',k[2]),('Sub',k[3])]\n",
    "    d=dict(t)\n",
    "    print(d)\n",
    "main()"
   ]
  },
  {
   "cell_type": "code",
   "execution_count": 38,
   "metadata": {},
   "outputs": [
    {
     "ename": "ValueError",
     "evalue": "not enough values to unpack (expected 4, got 3)",
     "output_type": "error",
     "traceback": [
      "\u001b[1;31m---------------------------------------------------------------------------\u001b[0m",
      "\u001b[1;31mValueError\u001b[0m                                Traceback (most recent call last)",
      "\u001b[1;32m<ipython-input-38-d2345ce6971c>\u001b[0m in \u001b[0;36m<module>\u001b[1;34m()\u001b[0m\n\u001b[1;32m----> 1\u001b[1;33m \u001b[0ma\u001b[0m\u001b[1;33m,\u001b[0m\u001b[0mb\u001b[0m\u001b[1;33m,\u001b[0m\u001b[0mc\u001b[0m\u001b[1;33m,\u001b[0m\u001b[0md\u001b[0m\u001b[1;33m=\u001b[0m\u001b[1;36m10\u001b[0m\u001b[1;33m,\u001b[0m\u001b[1;36m20\u001b[0m\u001b[1;33m,\u001b[0m\u001b[1;36m30\u001b[0m\u001b[1;33m\u001b[0m\u001b[0m\n\u001b[0m\u001b[0;32m      2\u001b[0m \u001b[1;33m\u001b[0m\u001b[0m\n",
      "\u001b[1;31mValueError\u001b[0m: not enough values to unpack (expected 4, got 3)"
     ]
    }
   ],
   "source": [
    "a,b,c,d=10,20,30\n",
    "\n"
   ]
  },
  {
   "cell_type": "code",
   "execution_count": null,
   "metadata": {},
   "outputs": [],
   "source": [
    "for k, v in person.items():\n",
    "    if type(v) is list:\n",
    "        for t in v:\n",
    "            print( \"{0}\".format(t))\n",
    "            print(\"the strings are {0} very long {1}\".format(12,13))"
   ]
  },
  {
   "cell_type": "code",
   "execution_count": null,
   "metadata": {},
   "outputs": [],
   "source": [
    "from collections import  Counter\n",
    "from collections import  defaultdict\n",
    "\n",
    "\n",
    "from heapq import nlargest"
   ]
  },
  {
   "cell_type": "code",
   "execution_count": null,
   "metadata": {},
   "outputs": [],
   "source": [
    "a=[1,2,3]\n",
    "b=[2,3,4,5,6,1,2,3,5,6,7,8]\n",
    "\n",
    "set(b) - set(a)"
   ]
  },
  {
   "cell_type": "code",
   "execution_count": null,
   "metadata": {},
   "outputs": [],
   "source": [
    "l=[1,2,3,4,5,6]\n",
    "k=list(zip(l[0::2],l[1::2]))\n",
    "print(k)\n",
    "\n",
    "d=dict(k)\n",
    "d"
   ]
  },
  {
   "cell_type": "code",
   "execution_count": null,
   "metadata": {},
   "outputs": [],
   "source": [
    "#to remove vowels from a sentence\n",
    "\n",
    "\n",
    "a=\"i am going for a party tonight\"\n",
    "\n",
    "vowels=\"aioue\"\n",
    "s=[]\n",
    "for i in a:\n",
    "    if i not in vowels:\n",
    "        s.append(i)\n",
    "s\n",
    "t=\"\".join(s)\n",
    "t\n",
    "maildict={\"stephen\"  :   \"stephen.marquard@gmail.com\",\n",
    "              \"rahul\"    : \"rahul@nielit.gov.in\",\n",
    "             \n",
    "              \"anita\"    : \"anita@nielit.gov.in\"}\n",
    "j=list(maildict.items())\n",
    "k=list(maildict.items())[1][0]\n",
    "print(j)\n",
    "print(k)\n",
    "g=dict(j)[\"anita\"]\n",
    "print(g)"
   ]
  },
  {
   "cell_type": "code",
   "execution_count": null,
   "metadata": {},
   "outputs": [],
   "source": []
  },
  {
   "cell_type": "code",
   "execution_count": null,
   "metadata": {},
   "outputs": [],
   "source": [
    "def createdic():\n",
    "    maildict={\"stephen\"  :   \"stephen.marquard@gmail.com\",\n",
    "              \"rahul\"    : \"rahul@nielit.gov.in\",\n",
    "              \"stephen\"  : \"stephen.marquard@gmail.com\",\n",
    "              \"anita\"    : \"anita@nielit.gov.in\",\n",
    "               \"sunita\"    : \"anita@nielit.gov.in\",\n",
    "              \"rajesh\"   :\"rajeshkumar@yahoo.com\",\n",
    "              'meenu' :'meenu@gmail.com',\n",
    "              'rajat':'rajat@gmail.com',\n",
    "               'rajat1':'rajat1@rediff.com',\n",
    "               'mini':'mini@rediff.com',\n",
    "               'jini':'jini@hotmail.com'\n",
    "         }\n",
    "\n",
    "createdic()\n",
    "\n"
   ]
  },
  {
   "cell_type": "code",
   "execution_count": null,
   "metadata": {},
   "outputs": [],
   "source": [
    "maildict['meenu']='meenu@gmail.com'\n",
    "maildict['rajat']='rajat@gmail.com'\n",
    "maildict['rajat1']='rajat1@rediff.com'\n",
    "maildict['mini']='mini@rediff.com'\n",
    "maildict['jini']='jini@hotmail.com'\n",
    "\n",
    "maildict\n",
    "    "
   ]
  },
  {
   "cell_type": "code",
   "execution_count": null,
   "metadata": {},
   "outputs": [],
   "source": []
  },
  {
   "cell_type": "code",
   "execution_count": null,
   "metadata": {},
   "outputs": [],
   "source": [
    "del revdict"
   ]
  },
  {
   "cell_type": "code",
   "execution_count": null,
   "metadata": {},
   "outputs": [],
   "source": [
    "count={}  #empty dictionary\n",
    "def createdic():\n",
    "    maildict={\"stephen\"  :   \"stephen.marquard@gmail.com\",\n",
    "              \"rahul\"    : \"rahul@nielit.gov.in\",\n",
    "              \"stephen\"  : \"stephen.marquard@gmail.com\",\n",
    "              \"anita\"    : \"anita@nielit.gov.in\",\n",
    "               \"sunita\"    : \"anita@nielit.gov.in\",\n",
    "              \"rajesh\"   :\"rajeshkumar@yahoo.com\",\n",
    "              'meenu' :'meenu@gmail.com',\n",
    "              'rajat':'rajat@gmail.com',\n",
    "               'rajat1':'rajat1@rediff.com',\n",
    "               'mini':'mini@rediff.com',\n",
    "               'jini':'jini@hotmail.com'\n",
    "         }\n",
    "    \n",
    "list[ (\"stephen\", \"stephen.marquard@gmail.com\"), (\"rahul\", \"rahul@nielit.gov.in\")    ]\n",
    "    \n",
    "    return maildict\n",
    "#hashing is the fastest search technique\n",
    "#loop\n",
    "\n",
    "def lookup( maildict, mail  ):\n",
    "    if mail in maildict:\n",
    "        return maildict[mail]\n",
    "    else:\n",
    "        return \"Not Found\" \n",
    "\n",
    "def histogram(maildict):\n",
    "    hist={}\n",
    "    for i in maildict.values():\n",
    "        mailid=(i[i.find(\"@\")+1: ])\n",
    "        \n",
    "        if mailid in hist:\n",
    "            #this email id already present in dict\n",
    "            hist[mailid] = hist[mailid] + 1\n",
    "        else:\n",
    "            #this is a new value or not present in dict\n",
    "            hist[mailid] = 1\n",
    "    return hist\n",
    "\n",
    "def revdict(hist):\n",
    "    revd={}\n",
    "    print(hist.items())\n",
    "    for key,value in hist.items():\n",
    "        if value in revd:\n",
    "            revd[value].append(key)\n",
    "        else:\n",
    "            revd[value]=[key]\n",
    "    return revd\n",
    "#building a histogram\n",
    "#gmail.com :5  , nielit.gov.in: 6, yahoo.com : 2, \n",
    "def main():\n",
    "    maildict=createdic()\n",
    "    \n",
    "    hist= histogram(maildict)\n",
    "    print(\"count of emails is \", hist)\n",
    "    v=lookup(maildict,\"rajat\")\n",
    "    #print(\"Email of rajat is \", v)\n",
    "    #revd = revdict(hist)\n",
    "    print()\n",
    "    #print(\"Reversed dictionary is \", revd)\n",
    "    revd= revdict(hist)\n",
    "    print(\"Reversed dictionary is \", revd)\n",
    "main()   \n",
    "  #reverse dictionary\n",
    "\n",
    "#{'gmail.com': 3, 'nielit.gov.in': 3, 'yahoo.com': 1, 'rediff.com': 2, 'hotmail.com': 1}\n",
    "\n",
    "#{1: ['yahoo.com', 'hotmail.com'],  2: ['rediff.com'], 3: ['gmail.com', 'nielit.com']    }\n",
    "\n"
   ]
  },
  {
   "cell_type": "code",
   "execution_count": null,
   "metadata": {},
   "outputs": [],
   "source": [
    "#dictionary to list\n",
    "maildict={\"stephen\"  :   \"stephen.marquard@gmail.com\",\n",
    "              \"rahul\"    : \"rahul@nielit.gov.in\",\n",
    "              \"stephen1\"  : \"stephen.marquard@gmail.com\"}\n",
    "    \n",
    "#list(maildict.items())[0][1]\n",
    "maillist= list(maildict.items())\n",
    "\n",
    "print(\"dic converted to a list\",maillist)\n",
    "g=dict(maillist)[\"stephen\"]\n",
    "g\n",
    "\n",
    "\n"
   ]
  },
  {
   "cell_type": "code",
   "execution_count": null,
   "metadata": {},
   "outputs": [],
   "source": [
    "#sets\n",
    "a={1,6,7,7,1,23,34}\n",
    "type(a)\n",
    "a.add(12)\n",
    "a\n",
    "\n",
    "\n",
    "\n",
    "Q logic using lists only\n",
    "\n",
    "difference of a and b and create a list of unique elements\n",
    "\n",
    "#adding values\n",
    "#lists   ->append\n",
    "#dictionary -> d[newkey]=value\n",
    "#sets immutable\n",
    "#tuples immutable\n"
   ]
  },
  {
   "cell_type": "code",
   "execution_count": null,
   "metadata": {},
   "outputs": [],
   "source": [
    "#take two lists\n",
    "a=[1,2,3,1,2]\n",
    "b=[1,5,6,2,3,1,5,6,7,8,9,2]\n",
    "\n",
    "#output = [5,6,7,8,9]\n",
    "a=set(a)\n",
    "print(\"unique in a\",a)\n",
    "b=set(b)\n",
    "print(\"unique in b\",b)\n",
    "lst2=list(b.difference(a))\n",
    "lst2\n"
   ]
  },
  {
   "cell_type": "code",
   "execution_count": null,
   "metadata": {},
   "outputs": [],
   "source": [
    "#take two lists\n",
    "a=[1,2,3,1,2]\n",
    "b=[1,5,6,2,3,1,5,6,7,8,9,2]\n",
    "#output = [5,6,7,8,9]\n",
    "list(set(b) - set(a))"
   ]
  },
  {
   "cell_type": "code",
   "execution_count": null,
   "metadata": {},
   "outputs": [],
   "source": [
    "#pangrams\n",
    "#Enter a string ..... print whether its a pangram\n",
    "str=\"a quick brown fox jumps over the lazy dog\"\n",
    "alpha= \"abcdefghijklmnopqrstuvwxyz\"\n",
    "temp=0\n",
    "\n",
    "for i in alpha:\n",
    "    if i in str:\n",
    "        temp=1     \n",
    "    else:\n",
    "        temp=0\n",
    "        break\n",
    "\n",
    "if temp==1:\n",
    "    print(\"its a panagram\")\n",
    "else:\n",
    "    print(\"its not a panagram\")\n"
   ]
  },
  {
   "cell_type": "code",
   "execution_count": null,
   "metadata": {},
   "outputs": [],
   "source": [
    "import string\n",
    "\n",
    "def ispangram(str,a=string.ascii_lowercase):\n",
    "    b=set(a)\n",
    "    print(b)\n",
    "    return b <= set(str.lower()) \n",
    "\n",
    "ispangram(\"a quick Brown fox jumps over the lazy dog\")"
   ]
  },
  {
   "cell_type": "code",
   "execution_count": null,
   "metadata": {},
   "outputs": [],
   "source": [
    "l=['anu','seema','dfd']\n",
    "k=[90,80,98]\n",
    "\n",
    "#set(zip(l,k))\n",
    "k=list(zip(l,k))\n",
    "print(k)\n",
    "h=['a',1,'b',2, 'c',3,'d',4]\n",
    "#ANMOL\n",
    "AN=set(zip(h[0::2],h[1::2]))\n",
    "print(AN)\n",
    "\n",
    "#KAARTIK\n",
    "l1=['a',1,'b',2,'c',3,'d',4]\n",
    "l2=l1[::2]\n",
    "l3=l1[1::2]\n",
    "z=zip(l2,l3)\n",
    "print (dict(z))"
   ]
  },
  {
   "cell_type": "code",
   "execution_count": null,
   "metadata": {},
   "outputs": [],
   "source": [
    "#finding a value in a dictionary\n",
    "#lookup in a dictionary\n",
    "\n",
    " \n",
    "    \n",
    "    \n",
    "def main():\n",
    "    mail=input(\"enter the username for which mail to be searched\")\n",
    "    v = lookupdict(maildict, mail )\n",
    "    print(\"Email of\", mail, \" is \", v)\n",
    "\n",
    "main()"
   ]
  },
  {
   "cell_type": "code",
   "execution_count": null,
   "metadata": {},
   "outputs": [],
   "source": [
    "a=\"0001-1000-1010-1111-1011\"\n",
    "dt='12/03/2002'\n",
    "j=a.split(\"-\")\n",
    "j\n",
    "print('****'.join(j))\n",
    "\n",
    "\n",
    "Q input a sentence wehre words are separated by a - (hyphen)\n",
    "\n",
    "sort the words \n",
    "\n",
    "nielit-computer-training-python-intelligence\n",
    "\n",
    "Output:\n",
    "computer-intelligence-nielit-python-training\n",
    "\n",
    "\n"
   ]
  },
  {
   "cell_type": "code",
   "execution_count": null,
   "metadata": {},
   "outputs": [],
   "source": [
    "str=input()\n",
    "lst=str.split(\"-\")\n",
    "print(lst)\n",
    "\n",
    "lst.sort()\n",
    "lst\n",
    "print(\"-\".join(lst))"
   ]
  },
  {
   "cell_type": "code",
   "execution_count": null,
   "metadata": {},
   "outputs": [],
   "source": [
    "s='anita'\n",
    "maildict[s]    #unordered   storage    hashing\n",
    "\n",
    "#hashing : key to address mapping\n",
    "\n",
    "print(maildict['stephen'])   3833470xe399\n",
    "\n",
    "maildict.values()"
   ]
  },
  {
   "cell_type": "code",
   "execution_count": null,
   "metadata": {},
   "outputs": [],
   "source": [
    "\n",
    "maildict['sachin']='sachin@nielit.gov.in'\n",
    "print('Rajesh email id is :', maildict['rajesh'])\n",
    "print(maildict)"
   ]
  },
  {
   "cell_type": "code",
   "execution_count": 178,
   "metadata": {},
   "outputs": [],
   "source": [
    "maillist=[\"From stephen.marquard@gmail.com Sat Jan  5 09:14:16 2008\",\n",
    "\"From rahul@nielit.gov.in Sat Jan  5 09:14:16 2008\",\n",
    "\"From stephen.marquard@gmail.com Sat Jan  5 09:14:16 2008\",\n",
    "\"From anita@nielit.gov.in Sat Jan  5 09:14:16 2008\",\n",
    "\"From rajeshkumar@yahoo.com Sat Jan  5 09:14:16 2008\",\n",
    "\"From meenu@yahoo.com Sat Jan  5 09:14:16 2008\",\n",
    "\"From rashmi@rediff.com Sun Jan  5 09:14:16 2008\", \n",
    "\"From rashmi@gmail.com Sun Jan  5 09:14:16 2008\",\n",
    "\"From rash@msn.in Sun Jan  5 09:14:16 2008\" , \n",
    "\"From rash@msn.in Sun Jan  5 09:14:16 2008\"]"
   ]
  },
  {
   "cell_type": "code",
   "execution_count": 179,
   "metadata": {},
   "outputs": [
    {
     "data": {
      "text/plain": [
       "['From stephen.marquard@gmail.com Sat Jan  5 09:14:16 2008',\n",
       " 'From rahul@nielit.gov.in Sat Jan  5 09:14:16 2008',\n",
       " 'From stephen.marquard@gmail.com Sat Jan  5 09:14:16 2008',\n",
       " 'From anita@nielit.gov.in Sat Jan  5 09:14:16 2008',\n",
       " 'From rajeshkumar@yahoo.com Sat Jan  5 09:14:16 2008',\n",
       " 'From meenu@yahoo.com Sat Jan  5 09:14:16 2008',\n",
       " 'From rashmi@rediff.com Sun Jan  5 09:14:16 2008',\n",
       " 'From rashmi@gmail.com Sun Jan  5 09:14:16 2008',\n",
       " 'From rash@msn.in Sun Jan  5 09:14:16 2008',\n",
       " 'From rash@msn.in Sun Jan  5 09:14:16 2008']"
      ]
     },
     "execution_count": 179,
     "metadata": {},
     "output_type": "execute_result"
    }
   ],
   "source": [
    "maillist"
   ]
  },
  {
   "cell_type": "code",
   "execution_count": 215,
   "metadata": {},
   "outputs": [
    {
     "data": {
      "text/plain": [
       "{'gmail.com': 3,\n",
       " 'msn.in': 2,\n",
       " 'nielit.gov.in': 2,\n",
       " 'rediff.com': 1,\n",
       " 'yahoo.com': 2}"
      ]
     },
     "execution_count": 215,
     "metadata": {},
     "output_type": "execute_result"
    }
   ],
   "source": [
    "maildic={}\n",
    "for mailstr in maillist:\n",
    "    start=mailstr.find(\"@\")\n",
    "    stop=mailstr.find(\" \", start)\n",
    "    mail=mailstr[start+1 : stop]\n",
    "    if mail in maildic:\n",
    "        maildic[mail]=maildic[mail]+1\n",
    "    else:\n",
    "        maildic[mail]=1\n",
    "maildic\n",
    "\n",
    "#Q reverse the dict\n",
    "#{1: [rediff.com], 2: ['msn.in', 'nielit.gov.in', 'yahoo.com'], 3: ['gmail.com']}"
   ]
  },
  {
   "cell_type": "code",
   "execution_count": 216,
   "metadata": {},
   "outputs": [
    {
     "data": {
      "text/plain": [
       "{'gmail.com': 3,\n",
       " 'msn.in': 2,\n",
       " 'nielit.gov.in': 2,\n",
       " 'rediff.com': 1,\n",
       " 'yahoo.com': 2}"
      ]
     },
     "execution_count": 216,
     "metadata": {},
     "output_type": "execute_result"
    }
   ],
   "source": [
    "maildic\n"
   ]
  },
  {
   "cell_type": "code",
   "execution_count": 226,
   "metadata": {},
   "outputs": [
    {
     "name": "stdout",
     "output_type": "stream",
     "text": [
      "{'gmail.com': 3, 'nielit.gov.in': 2, 'yahoo.com': 2, 'rediff.com': 1, 'msn.in': 2}\n",
      "3\n",
      "2\n",
      "2\n"
     ]
    },
    {
     "ename": "AttributeError",
     "evalue": "'str' object has no attribute 'append'",
     "output_type": "error",
     "traceback": [
      "\u001b[1;31m---------------------------------------------------------------------------\u001b[0m",
      "\u001b[1;31mAttributeError\u001b[0m                            Traceback (most recent call last)",
      "\u001b[1;32m<ipython-input-226-27fc87da3ade>\u001b[0m in \u001b[0;36m<module>\u001b[1;34m()\u001b[0m\n\u001b[0;32m     14\u001b[0m     \u001b[1;32mreturn\u001b[0m \u001b[0minverse\u001b[0m\u001b[1;33m\u001b[0m\u001b[0m\n\u001b[0;32m     15\u001b[0m \u001b[1;33m\u001b[0m\u001b[0m\n\u001b[1;32m---> 16\u001b[1;33m \u001b[0md1\u001b[0m\u001b[1;33m=\u001b[0m\u001b[0minversedict\u001b[0m\u001b[1;33m(\u001b[0m\u001b[0mmaildic\u001b[0m\u001b[1;33m)\u001b[0m\u001b[1;33m\u001b[0m\u001b[0m\n\u001b[0m\u001b[0;32m     17\u001b[0m \u001b[0mprint\u001b[0m\u001b[1;33m(\u001b[0m\u001b[0md1\u001b[0m\u001b[1;33m)\u001b[0m\u001b[1;33m\u001b[0m\u001b[0m\n",
      "\u001b[1;32m<ipython-input-226-27fc87da3ade>\u001b[0m in \u001b[0;36minversedict\u001b[1;34m(d)\u001b[0m\n\u001b[0;32m     10\u001b[0m             \u001b[1;31m#key is also being added and value is added as a list element\u001b[0m\u001b[1;33m\u001b[0m\u001b[1;33m\u001b[0m\u001b[0m\n\u001b[0;32m     11\u001b[0m         \u001b[1;32melse\u001b[0m\u001b[1;33m:\u001b[0m\u001b[1;33m\u001b[0m\u001b[0m\n\u001b[1;32m---> 12\u001b[1;33m             \u001b[0minverse\u001b[0m\u001b[1;33m[\u001b[0m\u001b[0mval\u001b[0m\u001b[1;33m]\u001b[0m\u001b[1;33m.\u001b[0m\u001b[0mappend\u001b[0m\u001b[1;33m(\u001b[0m\u001b[0mkey\u001b[0m\u001b[1;33m)\u001b[0m\u001b[1;33m\u001b[0m\u001b[0m\n\u001b[0m\u001b[0;32m     13\u001b[0m \u001b[1;33m\u001b[0m\u001b[0m\n\u001b[0;32m     14\u001b[0m     \u001b[1;32mreturn\u001b[0m \u001b[0minverse\u001b[0m\u001b[1;33m\u001b[0m\u001b[0m\n",
      "\u001b[1;31mAttributeError\u001b[0m: 'str' object has no attribute 'append'"
     ]
    }
   ],
   "source": [
    "def inversedict(d):\n",
    "    inverse = {}\n",
    "    print(d)\n",
    "    for key in d: \n",
    "        val = d[key]  #d['s']\n",
    "        print(val)\n",
    "        if val not in inverse: \n",
    "            inverse[val] = [key]\n",
    "            inverse\n",
    "            #key is also being added and value is added as a list element\n",
    "        else: \n",
    "            inverse[val].append(key) \n",
    "        \n",
    "    return inverse\n",
    "\n",
    "d1=inversedict(maildic)\n",
    "print(d1)"
   ]
  },
  {
   "cell_type": "code",
   "execution_count": null,
   "metadata": {},
   "outputs": [],
   "source": []
  },
  {
   "cell_type": "code",
   "execution_count": 186,
   "metadata": {},
   "outputs": [
    {
     "data": {
      "text/plain": [
       "<Container object of 5 artists>"
      ]
     },
     "execution_count": 186,
     "metadata": {},
     "output_type": "execute_result"
    },
    {
     "data": {
      "image/png": "[encoded data removed]",
      "text/plain": [
       "<matplotlib.figure.Figure at 0x20b49567fd0>"
      ]
     },
     "metadata": {},
     "output_type": "display_data"
    }
   ],
   "source": [
    "import matplotlib.pyplot as plt\n",
    "keys = maildic.keys()\n",
    "values =maildic.values()\n",
    "plt.bar(keys, values)"
   ]
  },
  {
   "cell_type": "code",
   "execution_count": null,
   "metadata": {},
   "outputs": [],
   "source": [
    "email={'simran': 'simran@gmail.com',\n",
    "       'aditi' : 'aditi@rediff.com',\n",
    "       'mohit' : 'mohit@yahoo.com',\n",
    "       'himmat' : 'himmat@yahoo.com'}\n",
    "\n",
    "#accessing a dictionary\n",
    "print(email['simran'])\n",
    "#adding a key in a dictionary\n",
    "email['anita']='a.budhiraja@nielit.gov.in'\n",
    "email\n",
    "email['anitas']='anita.yahoo.com'\n",
    "\n",
    "email"
   ]
  },
  {
   "cell_type": "code",
   "execution_count": null,
   "metadata": {},
   "outputs": [],
   "source": [
    "if 'mohit' in email:\n",
    "    print(email['mohit'])\n",
    "else:\n",
    "    print(\"not present\")"
   ]
  },
  {
   "cell_type": "code",
   "execution_count": null,
   "metadata": {},
   "outputs": [],
   "source": [
    "#dictionary \n",
    "dic={\n",
    "    'name':\"herry\",\n",
    "    'age':32,\n",
    "    'Email':\"herry@gmail.com\"\n",
    "}\n",
    "print(dic)\n",
    "# To get input from user \n",
    "x='name'\n",
    "y='age'\n",
    "z='Email'\n",
    "for i in range(2):\n",
    "    a=input(\"Enter Name: \")\n",
    "    b=eval(input(\"Enter Age:\"))\n",
    "    c=input(\"Email id :\")\n",
    "    dic[x]=a\n",
    "    dic[y]=b\n",
    "    dic[z]=c\n",
    "print(dic)"
   ]
  },
  {
   "cell_type": "code",
   "execution_count": null,
   "metadata": {},
   "outputs": [],
   "source": [
    "dict = {}\n",
    "dict['one'] = \"This is one\"\n",
    "dict[2]     = \"This is two\"\n",
    "dict['one']\n",
    "\n",
    "\n",
    "dict['one']\n"
   ]
  },
  {
   "cell_type": "code",
   "execution_count": null,
   "metadata": {},
   "outputs": [],
   "source": [
    "ab=[2,3,4,5]\n",
    "print(\"There are {} items in the dict\".format(len(ab)))"
   ]
  },
  {
   "cell_type": "markdown",
   "metadata": {},
   "source": [
    "ab = {  'Swaroop'   : 'swaroop@swaroopch.com',\n",
    "        'Larry'     : 'larry@wall.org',\n",
    "        'Matsumoto' : 'matz@ruby-lang.org',\n",
    "        'Spammer'   : 'spammer@hotmail.com'\n",
    " }\n",
    "print(len(ab))\n",
    "print( \"Swaroop's address is\", ab['Larry'])\n",
    "# Deleting a key-value pair\n",
    "#del ab['Spammer']\n",
    "print(\"\\nThere are {} contacts in the {} address{}-book\\n\".format(len(ab),5,6))\n",
    "\n",
    "ab['anita']='a.budhiraja@nielit.gov.in'\n",
    "\n",
    "for i in range(3):\n",
    "    k=input(\"enter the key\")\n",
    "    v=input(\"enter the value\")\n",
    "    ab[k]=v\n",
    "\n",
    "\n",
    "\n",
    "\n",
    "\n",
    "\n",
    "\n",
    "print(ab)"
   ]
  },
  {
   "cell_type": "code",
   "execution_count": null,
   "metadata": {},
   "outputs": [],
   "source": [
    "d1 = {} #Empty dictionary \n",
    "d2 = {'spam' : 2, 'eggs' : 3}   #Two-item dictionary \n",
    "d3 = {'food' : {'ham' : [1,2,3], 'egg' : 2}}    #Nesting \n",
    "d2['eggs'],\n",
    "print(d3['food']['ham'][-3])\n",
    "\n",
    " "
   ]
  },
  {
   "cell_type": "code",
   "execution_count": null,
   "metadata": {},
   "outputs": [],
   "source": [
    "string=input(\"Enter string:\")\n",
    "vowels=0\n",
    "vowel=\"aeiou\"\n",
    "for i in string:\n",
    "      if i in vowel:\n",
    "            print(i)\n",
    "            vowels=vowels+1\n",
    "print(\"Number of vowels are:\")\n",
    "print(vowels)\n"
   ]
  },
  {
   "cell_type": "code",
   "execution_count": 187,
   "metadata": {},
   "outputs": [
    {
     "name": "stdout",
     "output_type": "stream",
     "text": [
      "{'fname': 'Sonia', 'lname': 'Suri', 'age': 52, 'children': ['anu', 'renu', 'anil'], 'pets': {'dog': 'dubo', 'cat': 'cutie'}, 'friends': {'close': ['anu', 'beena', 'hari', 'rahul'], 'not close': ['meena', 'suman']}}\n"
     ]
    }
   ],
   "source": [
    "person={}\n",
    "person['fname']='Sonia'\n",
    "person['lname']='Suri'\n",
    "person['age']=52\n",
    "person['children']=['anu','renu','anil']\n",
    "person['pets']={'dog': 'dubo','cat' : 'cutie'}\n",
    "person['friends']={'close':['anu','beena','hari','rahul'], 'not close':['meena','suman']}\n",
    "\n",
    "print(person)"
   ]
  },
  {
   "cell_type": "code",
   "execution_count": null,
   "metadata": {},
   "outputs": [],
   "source": [
    "print(person['friends']['not close'][1])"
   ]
  },
  {
   "cell_type": "code",
   "execution_count": null,
   "metadata": {},
   "outputs": [],
   "source": [
    "print(person['children'][-2])\n",
    "print(person['children'][0])"
   ]
  },
  {
   "cell_type": "code",
   "execution_count": null,
   "metadata": {},
   "outputs": [],
   "source": [
    "print(person['pets']['dog'])\n",
    "#print(person['pets'][0])\n",
    "print(person)\n",
    "print(person['friends']['close'][1])"
   ]
  },
  {
   "cell_type": "code",
   "execution_count": null,
   "metadata": {},
   "outputs": [],
   "source": [
    "for a,b in person.items()    :\n",
    "    print(a,b)\n",
    "    \n",
    "    \n"
   ]
  },
  {
   "cell_type": "code",
   "execution_count": null,
   "metadata": {},
   "outputs": [],
   "source": [
    "for k, v in person.items():\n",
    "    if type(v) is dict:\n",
    "        for t, c in v.items():\n",
    "            print(\"the strings are {0} very long {1} sdfsd\".format(16,18))\n",
    "            print( \"{0} : {1}\".format(t, c))"
   ]
  },
  {
   "cell_type": "code",
   "execution_count": null,
   "metadata": {},
   "outputs": [],
   "source": []
  },
  {
   "cell_type": "code",
   "execution_count": null,
   "metadata": {},
   "outputs": [],
   "source": [
    "for k, v in person.items():\n",
    "    if type(v) is list:\n",
    "        for t in v:\n",
    "            print( \"{0}\".format(t))\n",
    "            print(\"the strings are {0} very long {1}\".format(12,13))\n",
    "                 "
   ]
  },
  {
   "cell_type": "code",
   "execution_count": null,
   "metadata": {},
   "outputs": [],
   "source": [
    "person={}\n",
    "person['fname']='Sonia'\n",
    "person['lname']='Suri'\n",
    "person['age']=52\n",
    "person['children']=['anu','renu','anil']\n",
    "person['pets']={'dog': 'dubo','cat' : 'cutie'}\n",
    "person['friends']={'close':['anu','beena','hari','rahul'], 'not close':['meena','suman']}\n",
    "print(person)\n",
    "\n",
    "if put a loop in dictionary\n",
    "\n",
    "we have to check if value is a list\n",
    "then put aloop again\n",
    "\n",
    "if it is a dictionaary put a loop\n",
    "\n",
    "l=[3,4,5]\n",
    "\n",
    "rn1=[[90,89,78,89,90,99,76,78,'seema', '31/12/2002']\n",
    "    [90,89,78,89,90,78,'vaibhav', '31/12/2002']\n",
    "    [90,89,78,89,90,'jatin', '31/12/2002']\n",
    "    ]\n"
   ]
  },
  {
   "cell_type": "code",
   "execution_count": null,
   "metadata": {},
   "outputs": [],
   "source": [
    "l=4,5,6,7\n",
    "type(l)"
   ]
  },
  {
   "cell_type": "code",
   "execution_count": null,
   "metadata": {},
   "outputs": [],
   "source": [
    "for k, v in person.items():\n",
    "    print(\"key is\",k)\n",
    "    print(\"value is\",v)\n",
    "    \n",
    "    if type(v) is dict:\n",
    "        for t, c in v.items():\n",
    "            print( \"{0} : {1}\".format(t, c))\n",
    "    else:\n",
    "        if type(v) is list:\n",
    "            for t in v:\n",
    "                print( \"{0}\".format(t))\n",
    "        "
   ]
  },
  {
   "cell_type": "code",
   "execution_count": null,
   "metadata": {},
   "outputs": [],
   "source": [
    "l = [\n",
    "    [90,89,78,89,90,76,'Kala','31/12/2000'],\n",
    "    [90,95,78,59,90,96,'Chintu','31/12/2000'],\n",
    "     [66,78,89,96,\"Raju\",\"22/1/2001\"]\n",
    "] \n",
    "print(l[2][2])"
   ]
  },
  {
   "cell_type": "code",
   "execution_count": null,
   "metadata": {},
   "outputs": [],
   "source": [
    "a=20 \n",
    "\n",
    "l=l1\n",
    "l1=[1,2,3,4]\n",
    "\n",
    "print(id(a))\n",
    "b=20\n",
    "c=b\n",
    "print(id(c))\n",
    "print(id(b))\n",
    "a=25\n",
    "print(id(a))"
   ]
  },
  {
   "cell_type": "code",
   "execution_count": null,
   "metadata": {},
   "outputs": [],
   "source": [
    "l = [[\n",
    "    [90,89,78,89,90,76,'Kala','31/12/2000'],\n",
    "    [90,95,78,59,90,'Chintu','31/12/2000'],\n",
    "     [66,78,89,96,\"Raju\",\"22/1/2001\"]]\n",
    "] \n",
    "\n",
    "for student in l:\n",
    "     total = 0\n",
    "     count = 0\n",
    "     for marks in student:\n",
    "         if type(marks) is int:\n",
    "             total +=marks\n",
    "             count+=1\n",
    "     print(f\"percentage of {student[count]:8} is {total/count:.2f}\")\n",
    "     "
   ]
  },
  {
   "cell_type": "code",
   "execution_count": 198,
   "metadata": {},
   "outputs": [
    {
     "ename": "SyntaxError",
     "evalue": "invalid syntax (<ipython-input-198-3827f3845767>, line 14)",
     "output_type": "error",
     "traceback": [
      "\u001b[1;36m  File \u001b[1;32m\"<ipython-input-198-3827f3845767>\"\u001b[1;36m, line \u001b[1;32m14\u001b[0m\n\u001b[1;33m    x1=histogram([\"ME25\": 2, \"world\", \"is\" , \"suffering\", \"the\", \"disease\" , \"is\" \"creating\", \"panic\"])\u001b[0m\n\u001b[1;37m                        ^\u001b[0m\n\u001b[1;31mSyntaxError\u001b[0m\u001b[1;31m:\u001b[0m invalid syntax\n"
     ]
    }
   ],
   "source": [
    "#successful  {s:3, u:2, c:2, e:1, f:1,l:1  }\n",
    "def histogram(str):\n",
    "    dict={}\n",
    "    for char in str:\n",
    "        if char not in dict:\n",
    "            dict[char]=1\n",
    "        else:\n",
    "            dict[char]= dict[char] + 1    \n",
    "    return dict\n",
    "\n",
    "#global variable\n",
    "def main():\n",
    "    \n",
    "    x1=histogram([\"ME25\": 2, \"world\", \"is\" , \"suffering\", \"the\", \"disease\" , \"is\" \"creating\", \"panic\"])\n",
    "    print(x1)\n",
    " \n",
    "main()\n",
    "\n",
    "ME25, 12.20, 12000\n",
    "MO, @04.56, 20000\n",
    "SA21,\n",
    "SaGA,\n",
    "Me25\n",
    "Saga\n",
    "ME25\n",
    "\n"
   ]
  },
  {
   "cell_type": "markdown",
   "metadata": {},
   "source": [
    "\n",
    "str=\"today is holiday\"\n",
    "\n",
    "{'t': 1, 'o' :2, 'd':2, 'a':2, 'y':2, 'i':2, 'h':0,l:1 }\n",
    "\n",
    "{1: ['t','l'], 2: ['o', 'd','y','i']}\n",
    "\n",
    "\n"
   ]
  },
  {
   "cell_type": "code",
   "execution_count": 197,
   "metadata": {},
   "outputs": [
    {
     "ename": "SyntaxError",
     "evalue": "invalid syntax (<ipython-input-197-6dafcc77e2bd>, line 1)",
     "output_type": "error",
     "traceback": [
      "\u001b[1;36m  File \u001b[1;32m\"<ipython-input-197-6dafcc77e2bd>\"\u001b[1;36m, line \u001b[1;32m1\u001b[0m\n\u001b[1;33m    inverse{}\u001b[0m\n\u001b[1;37m           ^\u001b[0m\n\u001b[1;31mSyntaxError\u001b[0m\u001b[1;31m:\u001b[0m invalid syntax\n"
     ]
    }
   ],
   "source": [
    "inverse{}\n",
    "{3:['s'],2:['u','c'],1:['e','f','l']}\n"
   ]
  },
  {
   "cell_type": "code",
   "execution_count": null,
   "metadata": {},
   "outputs": [],
   "source": [
    "def inversedict(d):\n",
    "    inverse = {}\n",
    "\n",
    "    for key in d: \n",
    "       #3\n",
    "        val = d[key]  #d['s']\n",
    "        print(\"key\", key)\n",
    "        print(\"value\", val)\n",
    "        if val not in inverse: \n",
    "            inverse[val] = [key]    #key is also being added and value is added as a list element\n",
    "            print(inverse)\n",
    "        else: \n",
    "            inverse[val].append(key) \n",
    "            print(inverse)\n",
    "    return inverse\n",
    "\n",
    "inversedict(x)"
   ]
  },
  {
   "cell_type": "code",
   "execution_count": null,
   "metadata": {},
   "outputs": [],
   "source": []
  },
  {
   "cell_type": "code",
   "execution_count": null,
   "metadata": {},
   "outputs": [],
   "source": [
    "y=inversedict(x)\n",
    "print(y)"
   ]
  },
  {
   "cell_type": "code",
   "execution_count": null,
   "metadata": {},
   "outputs": [],
   "source": [
    "#printing dictionary line by line\n",
    "def print_hist(h):\n",
    "    for c in h:\n",
    "        print(c,h[c])\n",
    "        \n",
    "print_hist(x) "
   ]
  },
  {
   "cell_type": "code",
   "execution_count": null,
   "metadata": {},
   "outputs": [],
   "source": [
    "\n",
    "#Returns a list of key-value pairs in a dictionary\n",
    "d={'a':10, 'b':20,'c':30}\n",
    "l=list(d.items())\n",
    "print(l)\n",
    "\n"
   ]
  },
  {
   "cell_type": "code",
   "execution_count": null,
   "metadata": {},
   "outputs": [],
   "source": [
    "k=list(d.items())[1][0]\n",
    "print(k)\n",
    "j=list(d.items())[1][1]\n",
    "print(j)\n"
   ]
  },
  {
   "cell_type": "code",
   "execution_count": null,
   "metadata": {},
   "outputs": [],
   "source": [
    "print(kk)"
   ]
  },
  {
   "cell_type": "code",
   "execution_count": null,
   "metadata": {},
   "outputs": [],
   "source": [
    "#to write dictionaries in csv file\n",
    "import csv\n",
    "  \n",
    "field_names = ['No', 'Company', 'Car Model']\n",
    "  \n",
    "cars = [\n",
    "{'No': 1, 'Company': 'Ferrari', 'Car Model': '488 GTB'},\n",
    "{'No': 2, 'Company': 'Porsche', 'Car Model': '918 Spyder'},\n",
    "{'No': 3, 'Company': 'Bugatti', 'Car Model': 'La Voiture Noire'},\n",
    "{'No': 4, 'Company': 'Rolls Royce', 'Car Model': 'Phantom'},\n",
    "{'No': 5, 'Company': 'BMW', 'Car Model': 'BMW X7'},\n",
    "]\n",
    "  \n",
    "with open('Names1.csv', 'w') as csvfile:\n",
    "    writer = csv.DictWriter(csvfile, fieldnames = field_names)\n",
    "    writer.writeheader()\n",
    "    writer.writerows(cars)"
   ]
  },
  {
   "cell_type": "code",
   "execution_count": null,
   "metadata": {},
   "outputs": [],
   "source": [
    "import csv\n",
    "  \n",
    "# opening the csv file in 'w' mode\n",
    "file = open('Names1.csv', 'w+', newline ='')\n",
    "  \n",
    "with file:\n",
    "    # identifying header  \n",
    "    header = ['Organization', 'Established', 'CEO']\n",
    "    writer = csv.DictWriter(file, fieldnames = header)\n",
    "      \n",
    "    # writing data row-wise into the csv file\n",
    "    writer.writeheader()\n",
    "    writer.writerow({'Organization' : 'Google', \n",
    "                     'Established': '1998', \n",
    "                     'CEO': 'Sundar Pichai'})\n",
    "    writer.writerow({'Organization' : 'Microsoft', \n",
    "                     'Established': '1975',\n",
    "                     'CEO': 'Satya Nadella'})\n",
    "    writer.writerow({'Organization' : 'Nokia',\n",
    "                     'Established': '1865',\n",
    "                     'CEO': 'Rajeev Suri'})"
   ]
  },
  {
   "cell_type": "code",
   "execution_count": 120,
   "metadata": {},
   "outputs": [
    {
     "name": "stdout",
     "output_type": "stream",
     "text": [
      "enter the string to find unique word countFirst half very boring. Slow paced and loose screenplay is big negative. Story build up is very slow with unwanted songs.  Second half movie story is paced and screenplay is also good but big negative point is that bgm and climax. Climax is fully failed and not impressed me. Without good fight scene movie feel very depressed. Length is very stretched by the director.  Akshay Kumar doing same job as usual like baby and airlift.  Director is a big villain for this script. He wasted a good script easily.\n",
      "{'First': 1, 'half': 2, 'very': 4, 'boring': 1, 'Slow': 1, 'paced': 2, 'and': 5, 'loose': 1, 'screenplay': 2, 'is': 8, 'big': 3, 'negative': 2, 'Story': 1, 'build': 1, 'up': 1, 'slow': 1, 'with': 1, 'unwanted': 1, 'songs': 1, '': 3, 'Second': 1, 'movie': 2, 'story': 1, 'also': 1, 'good': 3, 'but': 1, 'point': 1, 'that': 1, 'bgm': 1, 'climax': 1, 'Climax': 1, 'fully': 1, 'failed': 1, 'not': 1, 'impressed': 1, 'me': 1, 'Without': 1, 'fight': 1, 'scene': 1, 'feel': 1, 'depressed': 1, 'Length': 1, 'stretched': 1, 'by': 1, 'the': 1, 'director': 1, 'Akshay': 1, 'Kumar': 1, 'doing': 1, 'same': 1, 'job': 1, 'as': 1, 'usual': 1, 'like': 1, 'baby': 1, 'airlift': 1, 'Director': 1, 'a': 2, 'villain': 1, 'for': 1, 'this': 1, 'script': 2, 'He': 1, 'wasted': 1, 'easily': 1}\n"
     ]
    }
   ],
   "source": [
    "main()"
   ]
  },
  {
   "cell_type": "code",
   "execution_count": 128,
   "metadata": {},
   "outputs": [
    {
     "name": "stdout",
     "output_type": "stream",
     "text": [
      "enter the string to find unique word counthello thisis hello this is hello\n",
      "{'hello': 3, 'thisis': 1, 'this': 1, 'is': 1}\n"
     ]
    }
   ],
   "source": [
    "x=main()"
   ]
  },
  {
   "cell_type": "code",
   "execution_count": 129,
   "metadata": {},
   "outputs": [],
   "source": [
    "x"
   ]
  },
  {
   "cell_type": "code",
   "execution_count": 191,
   "metadata": {},
   "outputs": [
    {
     "name": "stdout",
     "output_type": "stream",
     "text": [
      "enter a number of elements in the dict: 4\n",
      "Enter key :1\n",
      "Enter values :a\n",
      "Enter key :2\n",
      "Enter values :b\n",
      "Enter key :3\n",
      "Enter values :c\n",
      "Enter key :4\n",
      "Enter values :d\n",
      "dictionary created is  {'1': 'a', '2': 'b', '3': 'c', '4': 'd'}\n",
      "enter the word to find1\n",
      "a\n"
     ]
    },
    {
     "ename": "TypeError",
     "evalue": "'str' object is not callable",
     "output_type": "error",
     "traceback": [
      "\u001b[1;31m---------------------------------------------------------------------------\u001b[0m",
      "\u001b[1;31mTypeError\u001b[0m                                 Traceback (most recent call last)",
      "\u001b[1;32m<ipython-input-191-f31656a96c17>\u001b[0m in \u001b[0;36m<module>\u001b[1;34m()\u001b[0m\n\u001b[0;32m     36\u001b[0m     \u001b[0mprint\u001b[0m\u001b[1;33m(\u001b[0m\u001b[0md\u001b[0m\u001b[1;33m)\u001b[0m\u001b[1;33m\u001b[0m\u001b[0m\n\u001b[0;32m     37\u001b[0m \u001b[1;33m\u001b[0m\u001b[0m\n\u001b[1;32m---> 38\u001b[1;33m \u001b[0mmain\u001b[0m\u001b[1;33m(\u001b[0m\u001b[1;33m)\u001b[0m\u001b[1;33m\u001b[0m\u001b[0m\n\u001b[0m\u001b[0;32m     39\u001b[0m \u001b[1;33m\u001b[0m\u001b[0m\n",
      "\u001b[1;32m<ipython-input-191-f31656a96c17>\u001b[0m in \u001b[0;36mmain\u001b[1;34m()\u001b[0m\n\u001b[0;32m     33\u001b[0m     \u001b[0mv\u001b[0m\u001b[1;33m=\u001b[0m \u001b[0mlookup\u001b[0m\u001b[1;33m(\u001b[0m\u001b[0md\u001b[0m\u001b[1;33m,\u001b[0m \u001b[0mfind\u001b[0m\u001b[1;33m)\u001b[0m\u001b[1;33m\u001b[0m\u001b[0m\n\u001b[0;32m     34\u001b[0m     \u001b[0mprint\u001b[0m\u001b[1;33m(\u001b[0m\u001b[0mv\u001b[0m\u001b[1;33m)\u001b[0m\u001b[1;33m\u001b[0m\u001b[0m\n\u001b[1;32m---> 35\u001b[1;33m     \u001b[0md\u001b[0m\u001b[1;33m=\u001b[0m\u001b[0mrevdic\u001b[0m\u001b[1;33m(\u001b[0m\u001b[0md\u001b[0m\u001b[1;33m)\u001b[0m\u001b[1;33m\u001b[0m\u001b[0m\n\u001b[0m\u001b[0;32m     36\u001b[0m     \u001b[0mprint\u001b[0m\u001b[1;33m(\u001b[0m\u001b[0md\u001b[0m\u001b[1;33m)\u001b[0m\u001b[1;33m\u001b[0m\u001b[0m\n\u001b[0;32m     37\u001b[0m \u001b[1;33m\u001b[0m\u001b[0m\n",
      "\u001b[1;32m<ipython-input-191-f31656a96c17>\u001b[0m in \u001b[0;36mrevdic\u001b[1;34m(d)\u001b[0m\n\u001b[0;32m     23\u001b[0m \u001b[1;32mdef\u001b[0m \u001b[0mrevdic\u001b[0m\u001b[1;33m(\u001b[0m\u001b[0md\u001b[0m\u001b[1;33m)\u001b[0m\u001b[1;33m:\u001b[0m\u001b[1;33m\u001b[0m\u001b[0m\n\u001b[0;32m     24\u001b[0m     \u001b[1;32mfor\u001b[0m \u001b[0mkey\u001b[0m \u001b[1;33m,\u001b[0m\u001b[0mvalue\u001b[0m \u001b[1;32min\u001b[0m \u001b[0md\u001b[0m\u001b[1;33m.\u001b[0m\u001b[0mitems\u001b[0m\u001b[1;33m(\u001b[0m\u001b[1;33m)\u001b[0m\u001b[1;33m:\u001b[0m\u001b[1;33m\u001b[0m\u001b[0m\n\u001b[1;32m---> 25\u001b[1;33m         \u001b[0md\u001b[0m\u001b[1;33m[\u001b[0m\u001b[0mkey\u001b[0m\u001b[1;33m]\u001b[0m \u001b[1;33m=\u001b[0m \u001b[0mstr\u001b[0m\u001b[1;33m(\u001b[0m\u001b[0mvalue\u001b[0m\u001b[1;33m)\u001b[0m\u001b[1;33m\u001b[0m\u001b[0m\n\u001b[0m\u001b[0;32m     26\u001b[0m         \u001b[0mreverse\u001b[0m\u001b[1;33m=\u001b[0m\u001b[1;33m{\u001b[0m\u001b[0my\u001b[0m\u001b[1;33m:\u001b[0m\u001b[0mx\u001b[0m \u001b[1;32mfor\u001b[0m \u001b[0mx\u001b[0m\u001b[1;33m,\u001b[0m\u001b[0my\u001b[0m \u001b[1;32min\u001b[0m \u001b[0md\u001b[0m\u001b[1;33m.\u001b[0m\u001b[0mitems\u001b[0m\u001b[1;33m(\u001b[0m\u001b[1;33m)\u001b[0m\u001b[1;33m}\u001b[0m\u001b[1;33m\u001b[0m\u001b[0m\n\u001b[0;32m     27\u001b[0m         \u001b[1;32mreturn\u001b[0m \u001b[0mreverse\u001b[0m\u001b[1;33m\u001b[0m\u001b[0m\n",
      "\u001b[1;31mTypeError\u001b[0m: 'str' object is not callable"
     ]
    }
   ],
   "source": [
    "#Write a function in which you pass a dictionary and a key u want to search,\n",
    "#look for that key in the dictionary and return the valye of that key\n",
    "\n",
    "def dictionary():\n",
    "    n=int(input(\"enter a number of elements in the dict: \"))\n",
    "    mydict = {}\n",
    "    for i in range (n):\n",
    "        key=input(\"Enter key :\")\n",
    "        value=input(\"Enter values :\")\n",
    "        mydict.update({key: value})\n",
    "        #mydict[key]=value\n",
    "    return mydict\n",
    "\n",
    "\n",
    "def lookup(mydict,key):\n",
    "    for mykey in mydict:\n",
    "        if key in mydict:\n",
    "            return mydict[key]\n",
    "        else:\n",
    "            return -1\n",
    "#Q reverse key and values in dictionary\n",
    "\n",
    "def revdic(d):\n",
    "    for key ,value in d.items():\n",
    "        d[key] = str(value)\n",
    "        reverse={y:x for x,y in d.items()}\n",
    "        return reverse\n",
    "\n",
    "def main():\n",
    "    d= dictionary()\n",
    "    print(\"dictionary created is \", d)\n",
    "    find=input(\"enter the word to find\")\n",
    "    v= lookup(d, find)\n",
    "    print(v)\n",
    "    d=revdic(d)\n",
    "    print(d)\n",
    "    \n",
    "main()    \n",
    "            "
   ]
  },
  {
   "cell_type": "code",
   "execution_count": 196,
   "metadata": {},
   "outputs": [
    {
     "data": {
      "text/plain": [
       "{'gmail.com': 3, 'msn.in': 2, 'rediff.com': 1}"
      ]
     },
     "execution_count": 196,
     "metadata": {},
     "output_type": "execute_result"
    }
   ],
   "source": [
    "#Q reverse key and values in dictionary\n",
    "d={1:'rediff.com',2:'msn.in',3:'gmail.com'}\n",
    "\n",
    "reverse={y:x for x,y in d.items()}\n",
    "reverse"
   ]
  },
  {
   "cell_type": "code",
   "execution_count": 235,
   "metadata": {},
   "outputs": [
    {
     "name": "stdout",
     "output_type": "stream",
     "text": [
      "[8, 10, 12, 14, 16]\n"
     ]
    }
   ],
   "source": [
    "lst=[3,4,5,6,7,8,9,10,11,12]\n",
    "sum=0\n",
    "newlst=[]\n",
    "for i in lst:\n",
    "    if i % 2==1:\n",
    "        s=i+5\n",
    "        newlst.append(s)\n",
    "print(newlst)\n",
    "\n",
    "#[output statement/input  [condition] ]\n",
    "\n"
   ]
  },
  {
   "cell_type": "code",
   "execution_count": 236,
   "metadata": {},
   "outputs": [
    {
     "data": {
      "text/plain": [
       "[8, 10, 12, 14, 16]"
      ]
     },
     "execution_count": 236,
     "metadata": {},
     "output_type": "execute_result"
    }
   ],
   "source": [
    "[x+5 for x in lst  if x%2==1]"
   ]
  },
  {
   "cell_type": "code",
   "execution_count": 237,
   "metadata": {},
   "outputs": [
    {
     "data": {
      "text/plain": [
       "<function __main__.<lambda>>"
      ]
     },
     "execution_count": 237,
     "metadata": {},
     "output_type": "execute_result"
    }
   ],
   "source": [
    "lambda x:x+x"
   ]
  },
  {
   "cell_type": "code",
   "execution_count": 238,
   "metadata": {},
   "outputs": [
    {
     "data": {
      "text/plain": [
       "10"
      ]
     },
     "execution_count": 238,
     "metadata": {},
     "output_type": "execute_result"
    }
   ],
   "source": [
    "def f1(x):\n",
    "    return x+x\n",
    "\n",
    "f1(5)"
   ]
  },
  {
   "cell_type": "code",
   "execution_count": 243,
   "metadata": {},
   "outputs": [
    {
     "data": {
      "text/plain": [
       "'hello'"
      ]
     },
     "execution_count": 243,
     "metadata": {},
     "output_type": "execute_result"
    }
   ],
   "source": [
    "a=\"hello\"\n",
    "a.rstrip()"
   ]
  },
  {
   "cell_type": "code",
   "execution_count": null,
   "metadata": {},
   "outputs": [],
   "source": []
  }
 ],
 "metadata": {
  "kernelspec": {
   "display_name": "Python 3",
   "language": "python",
   "name": "python3"
  },
  "language_info": {
   "codemirror_mode": {
    "name": "ipython",
    "version": 3
   },
   "file_extension": ".py",
   "mimetype": "text/x-python",
   "name": "python",
   "nbconvert_exporter": "python",
   "pygments_lexer": "ipython3",
   "version": "3.6.4"
  }
 },
 "nbformat": 4,
 "nbformat_minor": 2
}
